{
 "cells": [
  {
   "cell_type": "code",
   "execution_count": 1,
   "metadata": {},
   "outputs": [],
   "source": [
    "from transformers import BertTokenizer\n",
    "from pathlib import Path\n",
    "import torch\n",
    "\n",
    "from box import Box\n",
    "import pandas as pd\n",
    "import collections\n",
    "import os\n",
    "from tqdm import tqdm, trange\n",
    "import sys\n",
    "import random\n",
    "import numpy as np\n",
    "import apex\n",
    "from sklearn.model_selection import train_test_split\n",
    "\n",
    "import datetime\n",
    "\n",
    "from fast_bert.modeling import BertForMultiLabelSequenceClassification\n",
    "from fast_bert.data_cls import BertDataBunch, InputExample, InputFeatures, MultiLabelTextProcessor, convert_examples_to_features\n",
    "from fast_bert.learner_cls import BertLearner\n",
    "from fast_bert.metrics import accuracy_multilabel, accuracy_thresh, fbeta, roc_auc"
   ]
  },
  {
   "cell_type": "markdown",
   "metadata": {},
   "source": [
    "pip install fast_bert"
   ]
  },
  {
   "cell_type": "markdown",
   "metadata": {},
   "source": [
    "pip install transformers"
   ]
  },
  {
   "cell_type": "markdown",
   "metadata": {},
   "source": [
    "pip install --upgrade python-box[all]"
   ]
  },
  {
   "cell_type": "code",
   "execution_count": 2,
   "metadata": {},
   "outputs": [],
   "source": [
    "torch.cuda.empty_cache()"
   ]
  },
  {
   "cell_type": "code",
   "execution_count": 3,
   "metadata": {},
   "outputs": [
    {
     "name": "stderr",
     "output_type": "stream",
     "text": [
      "C:\\Users\\Raja\\Documents\\SJI\\tools\\anaconda3\\envs\\fast-camembert\\lib\\site-packages\\ipykernel_launcher.py:1: FutureWarning: Passing a negative integer is deprecated in version 1.0 and will not be supported in future version. Instead, use None to not limit the column width.\n",
      "  \"\"\"Entry point for launching an IPython kernel.\n"
     ]
    }
   ],
   "source": [
    "pd.set_option('display.max_colwidth', -1)\n",
    "run_start_time = datetime.datetime.today().strftime('%Y-%m-%d_%H-%M-%S')"
   ]
  },
  {
   "cell_type": "code",
   "execution_count": 4,
   "metadata": {},
   "outputs": [],
   "source": [
    "DATA_PATH = Path('./data/')\n",
    "\n",
    "\n",
    "LABEL_PATH = Path('./labels/')\n",
    "\n",
    "AUG_DATA_PATH = Path('./data_augmentation/')\n",
    "\n",
    "MODEL_PATH=Path('./models/')\n",
    "LOG_PATH=Path('./logs/')\n",
    "MODEL_PATH.mkdir(exist_ok=True)\n",
    "\n",
    "model_state_dict = None\n",
    "\n",
    "# BERT_PRETRAINED_PATH = Path('../../bert_models/pretrained-weights/cased_L-12_H-768_A-12/')\n",
    "BERT_PRETRAINED_PATH = Path('./bert_models/uncased_L-12_H-768_A-12/')\n",
    "# BERT_PRETRAINED_PATH = Path('../../bert_fastai/pretrained-weights/uncased_L-24_H-1024_A-16/')\n",
    "FINETUNED_PATH = Path('./finetuned_models/')\n",
    "#FINETUNED_PATH = None\n",
    "# model_state_dict = torch.load(FINETUNED_PATH)\n",
    "\n",
    "LOG_PATH.mkdir(exist_ok=True)\n",
    "\n",
    "OUTPUT_PATH = MODEL_PATH/'output'\n",
    "OUTPUT_PATH.mkdir(exist_ok=True)"
   ]
  },
  {
   "cell_type": "code",
   "execution_count": 5,
   "metadata": {},
   "outputs": [],
   "source": [
    "args = Box({\n",
    "    \"run_text\": \"multilabel toxic comments with freezable layers\",\n",
    "    \"train_size\": -1,\n",
    "    \"val_size\": -1,\n",
    "    \"log_path\": LOG_PATH,\n",
    "    \"full_data_dir\": DATA_PATH,\n",
    "    \"data_dir\": DATA_PATH,\n",
    "    \"task_name\": \"UNEP_lib\",\n",
    "    \"no_cuda\": False,\n",
    "    \"bert_model\": BERT_PRETRAINED_PATH,\n",
    "    \"output_dir\": OUTPUT_PATH,\n",
    "    \"max_seq_length\": 256,\n",
    "    \"do_train\": True,\n",
    "    \"do_eval\": True,\n",
    "    \"do_lower_case\": True,\n",
    "    \"train_batch_size\": 8,\n",
    "    \"eval_batch_size\": 16,\n",
    "    \"learning_rate\": 5e-5,\n",
    "    \"num_train_epochs\": 6,\n",
    "    \"warmup_proportion\": 0.0,\n",
    "    \"no_cuda\": False,\n",
    "    \"local_rank\": -1,\n",
    "    \"seed\": 42,\n",
    "    \"gradient_accumulation_steps\": 1,\n",
    "    \"optimize_on_cpu\": False,\n",
    "    \"fp16\": True,\n",
    "    \"fp16_opt_level\": \"O1\",\n",
    "    \"weight_decay\": 0.0,\n",
    "    \"adam_epsilon\": 1e-8,\n",
    "    \"max_grad_norm\": 1.0,\n",
    "    \"max_steps\": -1,\n",
    "    \"warmup_steps\": 500,\n",
    "    \"logging_steps\": 50,\n",
    "    \"eval_all_checkpoints\": True,\n",
    "    \"overwrite_output_dir\": True,\n",
    "    \"overwrite_cache\": False,\n",
    "    \"seed\": 42,\n",
    "    \"loss_scale\": 128,\n",
    "    \"task_name\": 'intent',\n",
    "    \"model_name\": 'bert-base-cased',\n",
    "    \"model_type\": 'bert'\n",
    "})"
   ]
  },
  {
   "cell_type": "code",
   "execution_count": 6,
   "metadata": {},
   "outputs": [],
   "source": [
    "import logging\n",
    "\n",
    "logfile = str(LOG_PATH/'log-{}-{}.txt'.format(run_start_time, args[\"run_text\"]))\n",
    "\n",
    "logging.basicConfig(\n",
    "    level=logging.INFO,\n",
    "    format='%(asctime)s - %(levelname)s - %(name)s -   %(message)s',\n",
    "    datefmt='%m/%d/%Y %H:%M:%S',\n",
    "    handlers=[\n",
    "        logging.FileHandler(logfile),\n",
    "        logging.StreamHandler(sys.stdout)\n",
    "    ])\n",
    "\n",
    "logger = logging.getLogger()"
   ]
  },
  {
   "cell_type": "code",
   "execution_count": 7,
   "metadata": {
    "tags": []
   },
   "outputs": [
    {
     "name": "stdout",
     "output_type": "stream",
     "text": [
      "01/28/2021 04:27:03 - INFO - root -   {'run_text': 'multilabel toxic comments with freezable layers', 'train_size': -1, 'val_size': -1, 'log_path': WindowsPath('logs'), 'full_data_dir': WindowsPath('data'), 'data_dir': WindowsPath('data'), 'task_name': 'intent', 'no_cuda': False, 'bert_model': WindowsPath('bert_models/uncased_L-12_H-768_A-12'), 'output_dir': WindowsPath('models/output'), 'max_seq_length': 256, 'do_train': True, 'do_eval': True, 'do_lower_case': True, 'train_batch_size': 8, 'eval_batch_size': 16, 'learning_rate': 5e-05, 'num_train_epochs': 6, 'warmup_proportion': 0.0, 'local_rank': -1, 'seed': 42, 'gradient_accumulation_steps': 1, 'optimize_on_cpu': False, 'fp16': True, 'fp16_opt_level': 'O1', 'weight_decay': 0.0, 'adam_epsilon': 1e-08, 'max_grad_norm': 1.0, 'max_steps': -1, 'warmup_steps': 500, 'logging_steps': 50, 'eval_all_checkpoints': True, 'overwrite_output_dir': True, 'overwrite_cache': False, 'loss_scale': 128, 'model_name': 'bert-base-cased', 'model_type': 'bert'}\n"
     ]
    }
   ],
   "source": [
    "logger.info(args)"
   ]
  },
  {
   "cell_type": "code",
   "execution_count": 8,
   "metadata": {},
   "outputs": [],
   "source": [
    "# tokenizer = BertTokenizer.from_pretrained(BERT_PRETRAINED_PATH, do_lower_case=args['do_lower_case'])"
   ]
  },
  {
   "cell_type": "code",
   "execution_count": 9,
   "metadata": {},
   "outputs": [],
   "source": [
    "device = torch.device('cuda')\n",
    "if torch.cuda.device_count() > 1:\n",
    "    args.multi_gpu = True\n",
    "else:\n",
    "    args.multi_gpu = False"
   ]
  },
  {
   "cell_type": "code",
   "execution_count": 10,
   "metadata": {},
   "outputs": [],
   "source": [
    "label_cols = [\"SDG_1\",\"SDG_2\",\"SDG_3\",\"SDG_4\",\"SDG_5\",\"SDG_6\",\"SDG_7\",\"SDG_8\",\"SDG_9\",\"SDG_10\",\"SDG_11\",\"SDG_12\",\"SDG_13\",\"SDG_14\",\"SDG_15\",\"SDG_16\",\"SDG_17\"]"
   ]
  },
  {
   "cell_type": "code",
   "execution_count": 11,
   "metadata": {},
   "outputs": [],
   "source": [
    "#let's just check the training set and use it to do the fine-tuning\n",
    "df_train = pd.read_csv(\"./data/train_sample.csv\")"
   ]
  },
  {
   "cell_type": "code",
   "execution_count": 12,
   "metadata": {},
   "outputs": [
    {
     "data": {
      "text/html": [
       "<div>\n",
       "<style scoped>\n",
       "    .dataframe tbody tr th:only-of-type {\n",
       "        vertical-align: middle;\n",
       "    }\n",
       "\n",
       "    .dataframe tbody tr th {\n",
       "        vertical-align: top;\n",
       "    }\n",
       "\n",
       "    .dataframe thead th {\n",
       "        text-align: right;\n",
       "    }\n",
       "</style>\n",
       "<table border=\"1\" class=\"dataframe\">\n",
       "  <thead>\n",
       "    <tr style=\"text-align: right;\">\n",
       "      <th></th>\n",
       "      <th>Unnamed: 0</th>\n",
       "      <th>ID</th>\n",
       "      <th>SDG_1</th>\n",
       "      <th>SDG_2</th>\n",
       "      <th>SDG_3</th>\n",
       "      <th>SDG_4</th>\n",
       "      <th>SDG_5</th>\n",
       "      <th>SDG_6</th>\n",
       "      <th>SDG_7</th>\n",
       "      <th>SDG_8</th>\n",
       "      <th>SDG_9</th>\n",
       "      <th>SDG_10</th>\n",
       "      <th>SDG_11</th>\n",
       "      <th>SDG_12</th>\n",
       "      <th>SDG_13</th>\n",
       "      <th>SDG_14</th>\n",
       "      <th>SDG_15</th>\n",
       "      <th>SDG_16</th>\n",
       "      <th>SDG_17</th>\n",
       "    </tr>\n",
       "  </thead>\n",
       "  <tbody>\n",
       "    <tr>\n",
       "      <th>count</th>\n",
       "      <td>5292.000000</td>\n",
       "      <td>1605.000000</td>\n",
       "      <td>5292.000000</td>\n",
       "      <td>5292.000000</td>\n",
       "      <td>5292.000000</td>\n",
       "      <td>5292.000000</td>\n",
       "      <td>5292.000000</td>\n",
       "      <td>5292.000000</td>\n",
       "      <td>5292.000000</td>\n",
       "      <td>5292.000000</td>\n",
       "      <td>5292.000000</td>\n",
       "      <td>5292.000000</td>\n",
       "      <td>5292.000000</td>\n",
       "      <td>5292.000000</td>\n",
       "      <td>5292.000000</td>\n",
       "      <td>5292.00000</td>\n",
       "      <td>5292.000000</td>\n",
       "      <td>5292.000000</td>\n",
       "      <td>5292.000000</td>\n",
       "    </tr>\n",
       "    <tr>\n",
       "      <th>mean</th>\n",
       "      <td>3295.371126</td>\n",
       "      <td>2971.834268</td>\n",
       "      <td>0.051209</td>\n",
       "      <td>0.055367</td>\n",
       "      <td>0.058390</td>\n",
       "      <td>0.053855</td>\n",
       "      <td>0.054233</td>\n",
       "      <td>0.051965</td>\n",
       "      <td>0.052532</td>\n",
       "      <td>0.050831</td>\n",
       "      <td>0.049509</td>\n",
       "      <td>0.047619</td>\n",
       "      <td>0.053666</td>\n",
       "      <td>0.053477</td>\n",
       "      <td>0.048186</td>\n",
       "      <td>0.05102</td>\n",
       "      <td>0.058390</td>\n",
       "      <td>0.055367</td>\n",
       "      <td>0.052532</td>\n",
       "    </tr>\n",
       "    <tr>\n",
       "      <th>std</th>\n",
       "      <td>1904.980929</td>\n",
       "      <td>1756.977747</td>\n",
       "      <td>0.220445</td>\n",
       "      <td>0.228716</td>\n",
       "      <td>0.234502</td>\n",
       "      <td>0.225752</td>\n",
       "      <td>0.226498</td>\n",
       "      <td>0.221978</td>\n",
       "      <td>0.223119</td>\n",
       "      <td>0.219674</td>\n",
       "      <td>0.216948</td>\n",
       "      <td>0.212979</td>\n",
       "      <td>0.225379</td>\n",
       "      <td>0.225004</td>\n",
       "      <td>0.214179</td>\n",
       "      <td>0.22006</td>\n",
       "      <td>0.234502</td>\n",
       "      <td>0.228716</td>\n",
       "      <td>0.223119</td>\n",
       "    </tr>\n",
       "    <tr>\n",
       "      <th>min</th>\n",
       "      <td>0.000000</td>\n",
       "      <td>1.000000</td>\n",
       "      <td>0.000000</td>\n",
       "      <td>0.000000</td>\n",
       "      <td>0.000000</td>\n",
       "      <td>0.000000</td>\n",
       "      <td>0.000000</td>\n",
       "      <td>0.000000</td>\n",
       "      <td>0.000000</td>\n",
       "      <td>0.000000</td>\n",
       "      <td>0.000000</td>\n",
       "      <td>0.000000</td>\n",
       "      <td>0.000000</td>\n",
       "      <td>0.000000</td>\n",
       "      <td>0.000000</td>\n",
       "      <td>0.00000</td>\n",
       "      <td>0.000000</td>\n",
       "      <td>0.000000</td>\n",
       "      <td>0.000000</td>\n",
       "    </tr>\n",
       "    <tr>\n",
       "      <th>25%</th>\n",
       "      <td>1650.750000</td>\n",
       "      <td>1422.000000</td>\n",
       "      <td>0.000000</td>\n",
       "      <td>0.000000</td>\n",
       "      <td>0.000000</td>\n",
       "      <td>0.000000</td>\n",
       "      <td>0.000000</td>\n",
       "      <td>0.000000</td>\n",
       "      <td>0.000000</td>\n",
       "      <td>0.000000</td>\n",
       "      <td>0.000000</td>\n",
       "      <td>0.000000</td>\n",
       "      <td>0.000000</td>\n",
       "      <td>0.000000</td>\n",
       "      <td>0.000000</td>\n",
       "      <td>0.00000</td>\n",
       "      <td>0.000000</td>\n",
       "      <td>0.000000</td>\n",
       "      <td>0.000000</td>\n",
       "    </tr>\n",
       "    <tr>\n",
       "      <th>50%</th>\n",
       "      <td>3277.500000</td>\n",
       "      <td>2946.000000</td>\n",
       "      <td>0.000000</td>\n",
       "      <td>0.000000</td>\n",
       "      <td>0.000000</td>\n",
       "      <td>0.000000</td>\n",
       "      <td>0.000000</td>\n",
       "      <td>0.000000</td>\n",
       "      <td>0.000000</td>\n",
       "      <td>0.000000</td>\n",
       "      <td>0.000000</td>\n",
       "      <td>0.000000</td>\n",
       "      <td>0.000000</td>\n",
       "      <td>0.000000</td>\n",
       "      <td>0.000000</td>\n",
       "      <td>0.00000</td>\n",
       "      <td>0.000000</td>\n",
       "      <td>0.000000</td>\n",
       "      <td>0.000000</td>\n",
       "    </tr>\n",
       "    <tr>\n",
       "      <th>75%</th>\n",
       "      <td>4932.500000</td>\n",
       "      <td>4477.000000</td>\n",
       "      <td>0.000000</td>\n",
       "      <td>0.000000</td>\n",
       "      <td>0.000000</td>\n",
       "      <td>0.000000</td>\n",
       "      <td>0.000000</td>\n",
       "      <td>0.000000</td>\n",
       "      <td>0.000000</td>\n",
       "      <td>0.000000</td>\n",
       "      <td>0.000000</td>\n",
       "      <td>0.000000</td>\n",
       "      <td>0.000000</td>\n",
       "      <td>0.000000</td>\n",
       "      <td>0.000000</td>\n",
       "      <td>0.00000</td>\n",
       "      <td>0.000000</td>\n",
       "      <td>0.000000</td>\n",
       "      <td>0.000000</td>\n",
       "    </tr>\n",
       "    <tr>\n",
       "      <th>max</th>\n",
       "      <td>6615.000000</td>\n",
       "      <td>6014.000000</td>\n",
       "      <td>1.000000</td>\n",
       "      <td>1.000000</td>\n",
       "      <td>1.000000</td>\n",
       "      <td>1.000000</td>\n",
       "      <td>1.000000</td>\n",
       "      <td>1.000000</td>\n",
       "      <td>1.000000</td>\n",
       "      <td>1.000000</td>\n",
       "      <td>1.000000</td>\n",
       "      <td>1.000000</td>\n",
       "      <td>1.000000</td>\n",
       "      <td>1.000000</td>\n",
       "      <td>1.000000</td>\n",
       "      <td>1.00000</td>\n",
       "      <td>1.000000</td>\n",
       "      <td>1.000000</td>\n",
       "      <td>1.000000</td>\n",
       "    </tr>\n",
       "  </tbody>\n",
       "</table>\n",
       "</div>"
      ],
      "text/plain": [
       "        Unnamed: 0           ID        SDG_1        SDG_2        SDG_3  \\\n",
       "count  5292.000000  1605.000000  5292.000000  5292.000000  5292.000000   \n",
       "mean   3295.371126  2971.834268  0.051209     0.055367     0.058390      \n",
       "std    1904.980929  1756.977747  0.220445     0.228716     0.234502      \n",
       "min    0.000000     1.000000     0.000000     0.000000     0.000000      \n",
       "25%    1650.750000  1422.000000  0.000000     0.000000     0.000000      \n",
       "50%    3277.500000  2946.000000  0.000000     0.000000     0.000000      \n",
       "75%    4932.500000  4477.000000  0.000000     0.000000     0.000000      \n",
       "max    6615.000000  6014.000000  1.000000     1.000000     1.000000      \n",
       "\n",
       "             SDG_4        SDG_5        SDG_6        SDG_7        SDG_8  \\\n",
       "count  5292.000000  5292.000000  5292.000000  5292.000000  5292.000000   \n",
       "mean   0.053855     0.054233     0.051965     0.052532     0.050831      \n",
       "std    0.225752     0.226498     0.221978     0.223119     0.219674      \n",
       "min    0.000000     0.000000     0.000000     0.000000     0.000000      \n",
       "25%    0.000000     0.000000     0.000000     0.000000     0.000000      \n",
       "50%    0.000000     0.000000     0.000000     0.000000     0.000000      \n",
       "75%    0.000000     0.000000     0.000000     0.000000     0.000000      \n",
       "max    1.000000     1.000000     1.000000     1.000000     1.000000      \n",
       "\n",
       "             SDG_9       SDG_10       SDG_11       SDG_12       SDG_13  \\\n",
       "count  5292.000000  5292.000000  5292.000000  5292.000000  5292.000000   \n",
       "mean   0.049509     0.047619     0.053666     0.053477     0.048186      \n",
       "std    0.216948     0.212979     0.225379     0.225004     0.214179      \n",
       "min    0.000000     0.000000     0.000000     0.000000     0.000000      \n",
       "25%    0.000000     0.000000     0.000000     0.000000     0.000000      \n",
       "50%    0.000000     0.000000     0.000000     0.000000     0.000000      \n",
       "75%    0.000000     0.000000     0.000000     0.000000     0.000000      \n",
       "max    1.000000     1.000000     1.000000     1.000000     1.000000      \n",
       "\n",
       "           SDG_14       SDG_15       SDG_16       SDG_17  \n",
       "count  5292.00000  5292.000000  5292.000000  5292.000000  \n",
       "mean   0.05102     0.058390     0.055367     0.052532     \n",
       "std    0.22006     0.234502     0.228716     0.223119     \n",
       "min    0.00000     0.000000     0.000000     0.000000     \n",
       "25%    0.00000     0.000000     0.000000     0.000000     \n",
       "50%    0.00000     0.000000     0.000000     0.000000     \n",
       "75%    0.00000     0.000000     0.000000     0.000000     \n",
       "max    1.00000     1.000000     1.000000     1.000000     "
      ]
     },
     "execution_count": 12,
     "metadata": {},
     "output_type": "execute_result"
    }
   ],
   "source": [
    "df_train.describe()"
   ]
  },
  {
   "cell_type": "code",
   "execution_count": 13,
   "metadata": {},
   "outputs": [],
   "source": [
    "all_texts = df_train['Text'].tolist()"
   ]
  },
  {
   "cell_type": "code",
   "execution_count": 14,
   "metadata": {},
   "outputs": [
    {
     "name": "stdout",
     "output_type": "stream",
     "text": [
      "average length =  66.73337112622826\n",
      "maximun length =  580\n"
     ]
    }
   ],
   "source": [
    "#check average tokenized sentence lenth\n",
    "lenlist = [len(e.split(' ')) for e in all_texts]\n",
    "print(\"average length = \", sum(lenlist) / len(lenlist))\n",
    "print(\"maximun length = \", max(lenlist))\n"
   ]
  },
  {
   "cell_type": "code",
   "execution_count": 15,
   "metadata": {},
   "outputs": [],
   "source": [
    "#!pip install seaborn"
   ]
  },
  {
   "cell_type": "code",
   "execution_count": 19,
   "metadata": {},
   "outputs": [
    {
     "data": {
      "text/plain": [
       "<seaborn.axisgrid.FacetGrid at 0x2290e8f3948>"
      ]
     },
     "execution_count": 19,
     "metadata": {},
     "output_type": "execute_result"
    },
    {
     "data": {
      "image/png": "[encoded data removed]",
      "text/plain": [
       "<Figure size 360x360 with 1 Axes>"
      ]
     },
     "metadata": {
      "needs_background": "light"
     },
     "output_type": "display_data"
    }
   ],
   "source": [
    "import seaborn as sns\n",
    "sns.displot(lenlist)"
   ]
  },
  {
   "cell_type": "code",
   "execution_count": 20,
   "metadata": {},
   "outputs": [
    {
     "data": {
      "text/plain": [
       "\"Let's set the max_seq to 256 then\""
      ]
     },
     "execution_count": 20,
     "metadata": {},
     "output_type": "execute_result"
    }
   ],
   "source": [
    "'''Let\\'s set the max_seq to 256 then'''"
   ]
  },
  {
   "cell_type": "code",
   "execution_count": 21,
   "metadata": {},
   "outputs": [
    {
     "data": {
      "text/html": [
       "<div>\n",
       "<style scoped>\n",
       "    .dataframe tbody tr th:only-of-type {\n",
       "        vertical-align: middle;\n",
       "    }\n",
       "\n",
       "    .dataframe tbody tr th {\n",
       "        vertical-align: top;\n",
       "    }\n",
       "\n",
       "    .dataframe thead th {\n",
       "        text-align: right;\n",
       "    }\n",
       "</style>\n",
       "<table border=\"1\" class=\"dataframe\">\n",
       "  <thead>\n",
       "    <tr style=\"text-align: right;\">\n",
       "      <th></th>\n",
       "      <th></th>\n",
       "      <th></th>\n",
       "      <th></th>\n",
       "      <th></th>\n",
       "      <th></th>\n",
       "      <th></th>\n",
       "      <th></th>\n",
       "      <th></th>\n",
       "      <th></th>\n",
       "      <th></th>\n",
       "      <th></th>\n",
       "      <th></th>\n",
       "      <th></th>\n",
       "      <th></th>\n",
       "      <th></th>\n",
       "      <th></th>\n",
       "      <th>Unnamed: 0</th>\n",
       "      <th>ID</th>\n",
       "      <th>Text</th>\n",
       "    </tr>\n",
       "    <tr>\n",
       "      <th>SDG_1</th>\n",
       "      <th>SDG_2</th>\n",
       "      <th>SDG_3</th>\n",
       "      <th>SDG_4</th>\n",
       "      <th>SDG_5</th>\n",
       "      <th>SDG_6</th>\n",
       "      <th>SDG_7</th>\n",
       "      <th>SDG_8</th>\n",
       "      <th>SDG_9</th>\n",
       "      <th>SDG_10</th>\n",
       "      <th>SDG_11</th>\n",
       "      <th>SDG_12</th>\n",
       "      <th>SDG_13</th>\n",
       "      <th>SDG_14</th>\n",
       "      <th>SDG_15</th>\n",
       "      <th>SDG_16</th>\n",
       "      <th>SDG_17</th>\n",
       "      <th></th>\n",
       "      <th></th>\n",
       "      <th></th>\n",
       "    </tr>\n",
       "  </thead>\n",
       "  <tbody>\n",
       "    <tr>\n",
       "      <th rowspan=\"5\" valign=\"top\">0.0</th>\n",
       "      <th rowspan=\"5\" valign=\"top\">0.0</th>\n",
       "      <th rowspan=\"5\" valign=\"top\">0.0</th>\n",
       "      <th rowspan=\"5\" valign=\"top\">0.0</th>\n",
       "      <th rowspan=\"5\" valign=\"top\">0.0</th>\n",
       "      <th rowspan=\"5\" valign=\"top\">0.0</th>\n",
       "      <th rowspan=\"5\" valign=\"top\">0.0</th>\n",
       "      <th rowspan=\"5\" valign=\"top\">0.0</th>\n",
       "      <th rowspan=\"5\" valign=\"top\">0.0</th>\n",
       "      <th rowspan=\"5\" valign=\"top\">0.0</th>\n",
       "      <th rowspan=\"5\" valign=\"top\">0.0</th>\n",
       "      <th rowspan=\"5\" valign=\"top\">0.0</th>\n",
       "      <th rowspan=\"5\" valign=\"top\">0.0</th>\n",
       "      <th rowspan=\"5\" valign=\"top\">0.0</th>\n",
       "      <th rowspan=\"4\" valign=\"top\">0.0</th>\n",
       "      <th rowspan=\"2\" valign=\"top\">0.0</th>\n",
       "      <th>0.0</th>\n",
       "      <td>2371</td>\n",
       "      <td>0</td>\n",
       "      <td>2371</td>\n",
       "    </tr>\n",
       "    <tr>\n",
       "      <th>1.0</th>\n",
       "      <td>103</td>\n",
       "      <td>97</td>\n",
       "      <td>103</td>\n",
       "    </tr>\n",
       "    <tr>\n",
       "      <th rowspan=\"2\" valign=\"top\">1.0</th>\n",
       "      <th>0.0</th>\n",
       "      <td>98</td>\n",
       "      <td>97</td>\n",
       "      <td>98</td>\n",
       "    </tr>\n",
       "    <tr>\n",
       "      <th>1.0</th>\n",
       "      <td>7</td>\n",
       "      <td>0</td>\n",
       "      <td>7</td>\n",
       "    </tr>\n",
       "    <tr>\n",
       "      <th>1.0</th>\n",
       "      <th>0.0</th>\n",
       "      <th>0.0</th>\n",
       "      <td>89</td>\n",
       "      <td>88</td>\n",
       "      <td>89</td>\n",
       "    </tr>\n",
       "    <tr>\n",
       "      <th>...</th>\n",
       "      <th>...</th>\n",
       "      <th>...</th>\n",
       "      <th>...</th>\n",
       "      <th>...</th>\n",
       "      <th>...</th>\n",
       "      <th>...</th>\n",
       "      <th>...</th>\n",
       "      <th>...</th>\n",
       "      <th>...</th>\n",
       "      <th>...</th>\n",
       "      <th>...</th>\n",
       "      <th>...</th>\n",
       "      <th>...</th>\n",
       "      <th>...</th>\n",
       "      <th>...</th>\n",
       "      <th>...</th>\n",
       "      <td>...</td>\n",
       "      <td>...</td>\n",
       "      <td>...</td>\n",
       "    </tr>\n",
       "    <tr>\n",
       "      <th rowspan=\"5\" valign=\"top\">1.0</th>\n",
       "      <th rowspan=\"5\" valign=\"top\">1.0</th>\n",
       "      <th rowspan=\"4\" valign=\"top\">0.0</th>\n",
       "      <th rowspan=\"4\" valign=\"top\">0.0</th>\n",
       "      <th rowspan=\"4\" valign=\"top\">0.0</th>\n",
       "      <th rowspan=\"3\" valign=\"top\">0.0</th>\n",
       "      <th rowspan=\"2\" valign=\"top\">0.0</th>\n",
       "      <th>0.0</th>\n",
       "      <th>1.0</th>\n",
       "      <th>0.0</th>\n",
       "      <th>0.0</th>\n",
       "      <th>0.0</th>\n",
       "      <th>0.0</th>\n",
       "      <th>0.0</th>\n",
       "      <th>0.0</th>\n",
       "      <th>0.0</th>\n",
       "      <th>0.0</th>\n",
       "      <td>1</td>\n",
       "      <td>0</td>\n",
       "      <td>1</td>\n",
       "    </tr>\n",
       "    <tr>\n",
       "      <th>1.0</th>\n",
       "      <th>0.0</th>\n",
       "      <th>0.0</th>\n",
       "      <th>0.0</th>\n",
       "      <th>0.0</th>\n",
       "      <th>0.0</th>\n",
       "      <th>0.0</th>\n",
       "      <th>0.0</th>\n",
       "      <th>0.0</th>\n",
       "      <th>0.0</th>\n",
       "      <td>2</td>\n",
       "      <td>0</td>\n",
       "      <td>2</td>\n",
       "    </tr>\n",
       "    <tr>\n",
       "      <th>1.0</th>\n",
       "      <th>0.0</th>\n",
       "      <th>0.0</th>\n",
       "      <th>0.0</th>\n",
       "      <th>0.0</th>\n",
       "      <th>0.0</th>\n",
       "      <th>0.0</th>\n",
       "      <th>0.0</th>\n",
       "      <th>0.0</th>\n",
       "      <th>0.0</th>\n",
       "      <th>0.0</th>\n",
       "      <td>2</td>\n",
       "      <td>0</td>\n",
       "      <td>2</td>\n",
       "    </tr>\n",
       "    <tr>\n",
       "      <th>1.0</th>\n",
       "      <th>0.0</th>\n",
       "      <th>0.0</th>\n",
       "      <th>0.0</th>\n",
       "      <th>0.0</th>\n",
       "      <th>0.0</th>\n",
       "      <th>0.0</th>\n",
       "      <th>0.0</th>\n",
       "      <th>0.0</th>\n",
       "      <th>0.0</th>\n",
       "      <th>0.0</th>\n",
       "      <th>0.0</th>\n",
       "      <td>1</td>\n",
       "      <td>0</td>\n",
       "      <td>1</td>\n",
       "    </tr>\n",
       "    <tr>\n",
       "      <th>1.0</th>\n",
       "      <th>0.0</th>\n",
       "      <th>0.0</th>\n",
       "      <th>0.0</th>\n",
       "      <th>0.0</th>\n",
       "      <th>0.0</th>\n",
       "      <th>0.0</th>\n",
       "      <th>0.0</th>\n",
       "      <th>0.0</th>\n",
       "      <th>0.0</th>\n",
       "      <th>0.0</th>\n",
       "      <th>0.0</th>\n",
       "      <th>0.0</th>\n",
       "      <th>0.0</th>\n",
       "      <th>0.0</th>\n",
       "      <td>1</td>\n",
       "      <td>0</td>\n",
       "      <td>1</td>\n",
       "    </tr>\n",
       "  </tbody>\n",
       "</table>\n",
       "<p>532 rows × 3 columns</p>\n",
       "</div>"
      ],
      "text/plain": [
       "                                                                                                               Unnamed: 0  \\\n",
       "SDG_1 SDG_2 SDG_3 SDG_4 SDG_5 SDG_6 SDG_7 SDG_8 SDG_9 SDG_10 SDG_11 SDG_12 SDG_13 SDG_14 SDG_15 SDG_16 SDG_17               \n",
       "0.0   0.0   0.0   0.0   0.0   0.0   0.0   0.0   0.0   0.0    0.0    0.0    0.0    0.0    0.0    0.0    0.0     2371         \n",
       "                                                                                                       1.0     103          \n",
       "                                                                                                1.0    0.0     98           \n",
       "                                                                                                       1.0     7            \n",
       "                                                                                         1.0    0.0    0.0     89           \n",
       "...                                                                                                           ..            \n",
       "1.0   1.0   0.0   0.0   0.0   0.0   0.0   0.0   1.0   0.0    0.0    0.0    0.0    0.0    0.0    0.0    0.0     1            \n",
       "                                          1.0   0.0   0.0    0.0    0.0    0.0    0.0    0.0    0.0    0.0     2            \n",
       "                                    1.0   0.0   0.0   0.0    0.0    0.0    0.0    0.0    0.0    0.0    0.0     2            \n",
       "                              1.0   0.0   0.0   0.0   0.0    0.0    0.0    0.0    0.0    0.0    0.0    0.0     1            \n",
       "            1.0   0.0   0.0   0.0   0.0   0.0   0.0   0.0    0.0    0.0    0.0    0.0    0.0    0.0    0.0     1            \n",
       "\n",
       "                                                                                                               ID  \\\n",
       "SDG_1 SDG_2 SDG_3 SDG_4 SDG_5 SDG_6 SDG_7 SDG_8 SDG_9 SDG_10 SDG_11 SDG_12 SDG_13 SDG_14 SDG_15 SDG_16 SDG_17       \n",
       "0.0   0.0   0.0   0.0   0.0   0.0   0.0   0.0   0.0   0.0    0.0    0.0    0.0    0.0    0.0    0.0    0.0     0    \n",
       "                                                                                                       1.0     97   \n",
       "                                                                                                1.0    0.0     97   \n",
       "                                                                                                       1.0     0    \n",
       "                                                                                         1.0    0.0    0.0     88   \n",
       "...                                                                                                           ..    \n",
       "1.0   1.0   0.0   0.0   0.0   0.0   0.0   0.0   1.0   0.0    0.0    0.0    0.0    0.0    0.0    0.0    0.0     0    \n",
       "                                          1.0   0.0   0.0    0.0    0.0    0.0    0.0    0.0    0.0    0.0     0    \n",
       "                                    1.0   0.0   0.0   0.0    0.0    0.0    0.0    0.0    0.0    0.0    0.0     0    \n",
       "                              1.0   0.0   0.0   0.0   0.0    0.0    0.0    0.0    0.0    0.0    0.0    0.0     0    \n",
       "            1.0   0.0   0.0   0.0   0.0   0.0   0.0   0.0    0.0    0.0    0.0    0.0    0.0    0.0    0.0     0    \n",
       "\n",
       "                                                                                                               Text  \n",
       "SDG_1 SDG_2 SDG_3 SDG_4 SDG_5 SDG_6 SDG_7 SDG_8 SDG_9 SDG_10 SDG_11 SDG_12 SDG_13 SDG_14 SDG_15 SDG_16 SDG_17        \n",
       "0.0   0.0   0.0   0.0   0.0   0.0   0.0   0.0   0.0   0.0    0.0    0.0    0.0    0.0    0.0    0.0    0.0     2371  \n",
       "                                                                                                       1.0     103   \n",
       "                                                                                                1.0    0.0     98    \n",
       "                                                                                                       1.0     7     \n",
       "                                                                                         1.0    0.0    0.0     89    \n",
       "...                                                                                                           ..     \n",
       "1.0   1.0   0.0   0.0   0.0   0.0   0.0   0.0   1.0   0.0    0.0    0.0    0.0    0.0    0.0    0.0    0.0     1     \n",
       "                                          1.0   0.0   0.0    0.0    0.0    0.0    0.0    0.0    0.0    0.0     2     \n",
       "                                    1.0   0.0   0.0   0.0    0.0    0.0    0.0    0.0    0.0    0.0    0.0     2     \n",
       "                              1.0   0.0   0.0   0.0   0.0    0.0    0.0    0.0    0.0    0.0    0.0    0.0     1     \n",
       "            1.0   0.0   0.0   0.0   0.0   0.0   0.0   0.0    0.0    0.0    0.0    0.0    0.0    0.0    0.0     1     \n",
       "\n",
       "[532 rows x 3 columns]"
      ]
     },
     "execution_count": 21,
     "metadata": {},
     "output_type": "execute_result"
    }
   ],
   "source": [
    "df_train.groupby(label_cols).count()"
   ]
  },
  {
   "cell_type": "code",
   "execution_count": 22,
   "metadata": {},
   "outputs": [
    {
     "data": {
      "text/plain": [
       "\"Oh are you sure that it's a good dataset for multi-label cl?? \""
      ]
     },
     "execution_count": 22,
     "metadata": {},
     "output_type": "execute_result"
    }
   ],
   "source": [
    "'''Oh are you sure that it\\'s a good dataset for multi-label cl?? '''"
   ]
  },
  {
   "cell_type": "markdown",
   "metadata": {},
   "source": [
    "### Fine-tuning"
   ]
  },
  {
   "cell_type": "code",
   "execution_count": 23,
   "metadata": {},
   "outputs": [
    {
     "name": "stdout",
     "output_type": "stream",
     "text": [
      "01/28/2021 04:28:15 - INFO - root -   Formatting corpus for data\\lm_train.txt\n"
     ]
    },
    {
     "data": {
      "text/html": [
       "\n",
       "    <div>\n",
       "        <style>\n",
       "            /* Turns off some styling */\n",
       "            progress {\n",
       "                /* gets rid of default border in Firefox and Opera. */\n",
       "                border: none;\n",
       "                /* Needs to be in here for Safari polyfill so background images work as expected. */\n",
       "                background-size: auto;\n",
       "            }\n",
       "            .progress-bar-interrupted, .progress-bar-interrupted::-webkit-progress-bar {\n",
       "                background: #F44336;\n",
       "            }\n",
       "        </style>\n",
       "      <progress value='4762' class='' max='4762' style='width:300px; height:20px; vertical-align: middle;'></progress>\n",
       "      100.00% [4762/4762 00:00<00:00]\n",
       "    </div>\n",
       "    "
      ],
      "text/plain": [
       "<IPython.core.display.HTML object>"
      ]
     },
     "metadata": {},
     "output_type": "display_data"
    },
    {
     "name": "stdout",
     "output_type": "stream",
     "text": [
      "01/28/2021 04:28:15 - INFO - root -   Formatting corpus for data\\lm_val.txt\n"
     ]
    },
    {
     "data": {
      "text/html": [
       "\n",
       "    <div>\n",
       "        <style>\n",
       "            /* Turns off some styling */\n",
       "            progress {\n",
       "                /* gets rid of default border in Firefox and Opera. */\n",
       "                border: none;\n",
       "                /* Needs to be in here for Safari polyfill so background images work as expected. */\n",
       "                background-size: auto;\n",
       "            }\n",
       "            .progress-bar-interrupted, .progress-bar-interrupted::-webkit-progress-bar {\n",
       "                background: #F44336;\n",
       "            }\n",
       "        </style>\n",
       "      <progress value='530' class='' max='530' style='width:300px; height:20px; vertical-align: middle;'></progress>\n",
       "      100.00% [530/530 00:00<00:00]\n",
       "    </div>\n",
       "    "
      ],
      "text/plain": [
       "<IPython.core.display.HTML object>"
      ]
     },
     "metadata": {},
     "output_type": "display_data"
    },
    {
     "name": "stdout",
     "output_type": "stream",
     "text": [
      "01/28/2021 04:28:15 - INFO - transformers.tokenization_utils_base -   loading file https://s3.amazonaws.com/models.huggingface.co/bert/bert-base-cased-vocab.txt from cache at C:\\Users\\Raja/.cache\\torch\\transformers\\5e8a2b4893d13790ed4150ca1906be5f7a03d6c4ddf62296c383f6db42814db2.e13dbb970cb325137104fb2e5f36fe865f27746c6b526f6352861b1980eb80b1\n",
      "01/28/2021 04:28:15 - INFO - root -   Loading features from cached file data\\lm_cache\\cached_bert_train_256\n",
      "01/28/2021 04:28:15 - INFO - root -   Loading features from cached file data\\lm_cache\\cached_bert_dev_256\n"
     ]
    }
   ],
   "source": [
    "#data bunch for language model learner\n",
    "from fast_bert.data_lm import BertLMDataBunch\n",
    "from fast_bert.learner_lm import BertLMLearner\n",
    "\n",
    "databunch_lm = BertLMDataBunch.from_raw_corpus(\n",
    "                    data_dir=DATA_PATH,\n",
    "                    text_list=all_texts,\n",
    "                    tokenizer='bert-base-cased',\n",
    "                    batch_size_per_gpu=16, #was 16, even 8 won't do\n",
    "                    max_seq_length=256, #was 512\n",
    "                    multi_gpu=False,\n",
    "                    model_type='bert',\n",
    "                    logger=logger)\n",
    "\n"
   ]
  },
  {
   "cell_type": "code",
   "execution_count": 24,
   "metadata": {},
   "outputs": [
    {
     "name": "stdout",
     "output_type": "stream",
     "text": [
      "01/28/2021 04:28:20 - INFO - transformers.configuration_utils -   loading configuration file https://s3.amazonaws.com/models.huggingface.co/bert/bert-base-cased-config.json from cache at C:\\Users\\Raja/.cache\\torch\\transformers\\b945b69218e98b3e2c95acf911789741307dec43c698d35fad11c1ae28bda352.9da767be51e1327499df13488672789394e2ca38b877837e52618a67d7002391\n",
      "01/28/2021 04:28:20 - INFO - transformers.configuration_utils -   Model config BertConfig {\n",
      "  \"architectures\": [\n",
      "    \"BertForMaskedLM\"\n",
      "  ],\n",
      "  \"attention_probs_dropout_prob\": 0.1,\n",
      "  \"gradient_checkpointing\": false,\n",
      "  \"hidden_act\": \"gelu\",\n",
      "  \"hidden_dropout_prob\": 0.1,\n",
      "  \"hidden_size\": 768,\n",
      "  \"initializer_range\": 0.02,\n",
      "  \"intermediate_size\": 3072,\n",
      "  \"layer_norm_eps\": 1e-12,\n",
      "  \"max_position_embeddings\": 512,\n",
      "  \"model_type\": \"bert\",\n",
      "  \"num_attention_heads\": 12,\n",
      "  \"num_hidden_layers\": 12,\n",
      "  \"pad_token_id\": 0,\n",
      "  \"type_vocab_size\": 2,\n",
      "  \"vocab_size\": 28996\n",
      "}\n",
      "\n",
      "01/28/2021 04:28:20 - INFO - transformers.modeling_utils -   loading weights file https://cdn.huggingface.co/bert-base-cased-pytorch_model.bin from cache at C:\\Users\\Raja/.cache\\torch\\transformers\\d8f11f061e407be64c4d5d7867ee61d1465263e24085cfa26abf183fdc830569.3fadbea36527ae472139fe84cddaa65454d7429f12d543d80bfc3ad70de55ac2\n",
      "01/28/2021 04:28:22 - WARNING - transformers.modeling_utils -   Some weights of the model checkpoint at bert-base-cased were not used when initializing BertForMaskedLM: ['cls.seq_relationship.weight', 'cls.seq_relationship.bias']\n",
      "- This IS expected if you are initializing BertForMaskedLM from the checkpoint of a model trained on another task or with another architecture (e.g. initializing a BertForSequenceClassification model from a BertForPretraining model).\n",
      "- This IS NOT expected if you are initializing BertForMaskedLM from the checkpoint of a model that you expect to be exactly identical (initializing a BertForSequenceClassification model from a BertForSequenceClassification model).\n",
      "01/28/2021 04:28:22 - WARNING - transformers.modeling_utils -   Some weights of BertForMaskedLM were not initialized from the model checkpoint at bert-base-cased and are newly initialized: ['cls.predictions.decoder.bias']\n",
      "You should probably TRAIN this model on a down-stream task to be able to use it for predictions and inference.\n"
     ]
    }
   ],
   "source": [
    "# Create the language model learner\n",
    "lm_learner = BertLMLearner.from_pretrained_model(\n",
    "                            dataBunch=databunch_lm,\n",
    "                            pretrained_path='bert-base-cased',\n",
    "                            output_dir=MODEL_PATH,\n",
    "                            metrics=[],\n",
    "                            device=device,\n",
    "                            logger=logger,\n",
    "                            multi_gpu=False,\n",
    "                            logging_steps=50,\n",
    "                            is_fp16=True) #was true with gpu\n",
    "\n"
   ]
  },
  {
   "cell_type": "code",
   "execution_count": 28,
   "metadata": {},
   "outputs": [
    {
     "name": "stdout",
     "output_type": "stream",
     "text": [
      "Selected optimization level O1:  Insert automatic casts around Pytorch functions and Tensor methods.\n",
      "\n",
      "Defaults for this optimization level are:\n",
      "enabled                : True\n",
      "opt_level              : O1\n",
      "cast_model_type        : None\n",
      "patch_torch_functions  : True\n",
      "keep_batchnorm_fp32    : None\n",
      "master_weights         : None\n",
      "loss_scale             : dynamic\n",
      "Processing user overrides (additional kwargs that are not None)...\n",
      "After processing overrides, optimization options are:\n",
      "enabled                : True\n",
      "opt_level              : O1\n",
      "cast_model_type        : None\n",
      "patch_torch_functions  : True\n",
      "keep_batchnorm_fp32    : None\n",
      "master_weights         : None\n",
      "loss_scale             : dynamic\n",
      "01/28/2021 04:31:13 - INFO - root -   ***** Running training *****\n",
      "01/28/2021 04:31:13 - INFO - root -     Num examples = 819\n",
      "01/28/2021 04:31:13 - INFO - root -     Num Epochs = 3\n",
      "01/28/2021 04:31:13 - INFO - root -     Total train batch size (w. parallel, distributed & accumulation) = 16\n",
      "01/28/2021 04:31:13 - INFO - root -     Gradient Accumulation steps = 1\n",
      "01/28/2021 04:31:13 - INFO - root -     Total optimization steps = 156\n"
     ]
    },
    {
     "data": {
      "text/html": [],
      "text/plain": [
       "<IPython.core.display.HTML object>"
      ]
     },
     "metadata": {},
     "output_type": "display_data"
    },
    {
     "name": "stdout",
     "output_type": "stream",
     "text": [
      "01/28/2021 04:31:49 - INFO - root -   Running evaluation\n",
      "01/28/2021 04:31:49 - INFO - root -   Num examples = 89\n",
      "01/28/2021 04:31:49 - INFO - root -   Validation Batch size = 32\n"
     ]
    },
    {
     "data": {
      "text/html": [
       "\n",
       "    <div>\n",
       "        <style>\n",
       "            /* Turns off some styling */\n",
       "            progress {\n",
       "                /* gets rid of default border in Firefox and Opera. */\n",
       "                border: none;\n",
       "                /* Needs to be in here for Safari polyfill so background images work as expected. */\n",
       "                background-size: auto;\n",
       "            }\n",
       "            .progress-bar-interrupted, .progress-bar-interrupted::-webkit-progress-bar {\n",
       "                background: #F44336;\n",
       "            }\n",
       "        </style>\n",
       "      <progress value='3' class='' max='3' style='width:300px; height:20px; vertical-align: middle;'></progress>\n",
       "      100.00% [3/3 00:00<00:00]\n",
       "    </div>\n",
       "    "
      ],
      "text/plain": [
       "<IPython.core.display.HTML object>"
      ]
     },
     "metadata": {},
     "output_type": "display_data"
    },
    {
     "name": "stdout",
     "output_type": "stream",
     "text": [
      "01/28/2021 04:31:50 - INFO - root -   eval_loss after step 50: 0.21663584808508554: \n",
      "01/28/2021 04:31:50 - INFO - root -   eval_perplexity after step 50: 1.2418917417526245: \n",
      "01/28/2021 04:31:50 - INFO - root -   lr after step 50: 7.672329130639005e-05\n",
      "01/28/2021 04:31:50 - INFO - root -   train_loss after step 50: 3.7635117864608763\n",
      "01/28/2021 04:31:51 - INFO - root -   Running evaluation\n",
      "01/28/2021 04:31:51 - INFO - root -   Num examples = 89\n",
      "01/28/2021 04:31:51 - INFO - root -   Validation Batch size = 32\n"
     ]
    },
    {
     "data": {
      "text/html": [
       "\n",
       "    <div>\n",
       "        <style>\n",
       "            /* Turns off some styling */\n",
       "            progress {\n",
       "                /* gets rid of default border in Firefox and Opera. */\n",
       "                border: none;\n",
       "                /* Needs to be in here for Safari polyfill so background images work as expected. */\n",
       "                background-size: auto;\n",
       "            }\n",
       "            .progress-bar-interrupted, .progress-bar-interrupted::-webkit-progress-bar {\n",
       "                background: #F44336;\n",
       "            }\n",
       "        </style>\n",
       "      <progress value='3' class='' max='3' style='width:300px; height:20px; vertical-align: middle;'></progress>\n",
       "      100.00% [3/3 00:00<00:00]\n",
       "    </div>\n",
       "    "
      ],
      "text/plain": [
       "<IPython.core.display.HTML object>"
      ]
     },
     "metadata": {},
     "output_type": "display_data"
    },
    {
     "name": "stdout",
     "output_type": "stream",
     "text": [
      "01/28/2021 04:31:52 - INFO - root -   eval_loss after epoch 1: 0.19833687444527945: \n",
      "01/28/2021 04:31:52 - INFO - root -   eval_perplexity after epoch 1: 1.219373106956482: \n",
      "01/28/2021 04:31:52 - INFO - root -   lr after epoch 1: 7.500000000000001e-05\n",
      "01/28/2021 04:31:52 - INFO - root -   train_loss after epoch 1: 3.761338871258956\n",
      "01/28/2021 04:31:52 - INFO - root -   \n",
      "\n",
      "01/28/2021 04:32:26 - INFO - root -   Running evaluation\n",
      "01/28/2021 04:32:26 - INFO - root -   Num examples = 89\n",
      "01/28/2021 04:32:26 - INFO - root -   Validation Batch size = 32\n"
     ]
    },
    {
     "data": {
      "text/html": [
       "\n",
       "    <div>\n",
       "        <style>\n",
       "            /* Turns off some styling */\n",
       "            progress {\n",
       "                /* gets rid of default border in Firefox and Opera. */\n",
       "                border: none;\n",
       "                /* Needs to be in here for Safari polyfill so background images work as expected. */\n",
       "                background-size: auto;\n",
       "            }\n",
       "            .progress-bar-interrupted, .progress-bar-interrupted::-webkit-progress-bar {\n",
       "                background: #F44336;\n",
       "            }\n",
       "        </style>\n",
       "      <progress value='3' class='' max='3' style='width:300px; height:20px; vertical-align: middle;'></progress>\n",
       "      100.00% [3/3 00:00<00:00]\n",
       "    </div>\n",
       "    "
      ],
      "text/plain": [
       "<IPython.core.display.HTML object>"
      ]
     },
     "metadata": {},
     "output_type": "display_data"
    },
    {
     "name": "stdout",
     "output_type": "stream",
     "text": [
      "01/28/2021 04:32:27 - INFO - root -   eval_loss after step 100: 0.18466366330782572: \n",
      "01/28/2021 04:32:27 - INFO - root -   eval_perplexity after step 100: 1.2028138637542725: \n",
      "01/28/2021 04:32:27 - INFO - root -   lr after step 100: 2.8565371929847284e-05\n",
      "01/28/2021 04:32:27 - INFO - root -   train_loss after step 100: 3.5989276361465454\n",
      "01/28/2021 04:32:29 - INFO - root -   Running evaluation\n",
      "01/28/2021 04:32:29 - INFO - root -   Num examples = 89\n",
      "01/28/2021 04:32:29 - INFO - root -   Validation Batch size = 32\n"
     ]
    },
    {
     "data": {
      "text/html": [
       "\n",
       "    <div>\n",
       "        <style>\n",
       "            /* Turns off some styling */\n",
       "            progress {\n",
       "                /* gets rid of default border in Firefox and Opera. */\n",
       "                border: none;\n",
       "                /* Needs to be in here for Safari polyfill so background images work as expected. */\n",
       "                background-size: auto;\n",
       "            }\n",
       "            .progress-bar-interrupted, .progress-bar-interrupted::-webkit-progress-bar {\n",
       "                background: #F44336;\n",
       "            }\n",
       "        </style>\n",
       "      <progress value='3' class='' max='3' style='width:300px; height:20px; vertical-align: middle;'></progress>\n",
       "      100.00% [3/3 00:00<00:00]\n",
       "    </div>\n",
       "    "
      ],
      "text/plain": [
       "<IPython.core.display.HTML object>"
      ]
     },
     "metadata": {},
     "output_type": "display_data"
    },
    {
     "name": "stdout",
     "output_type": "stream",
     "text": [
      "01/28/2021 04:32:30 - INFO - root -   eval_loss after epoch 2: 0.19262702266375223: \n",
      "01/28/2021 04:32:30 - INFO - root -   eval_perplexity after epoch 2: 1.212430477142334: \n",
      "01/28/2021 04:32:30 - INFO - root -   lr after epoch 2: 2.500000000000001e-05\n",
      "01/28/2021 04:32:30 - INFO - root -   train_loss after epoch 2: 3.591818768244523\n",
      "01/28/2021 04:32:30 - INFO - root -   \n",
      "\n",
      "01/28/2021 04:33:03 - INFO - root -   Running evaluation\n",
      "01/28/2021 04:33:03 - INFO - root -   Num examples = 89\n",
      "01/28/2021 04:33:03 - INFO - root -   Validation Batch size = 32\n"
     ]
    },
    {
     "data": {
      "text/html": [
       "\n",
       "    <div>\n",
       "        <style>\n",
       "            /* Turns off some styling */\n",
       "            progress {\n",
       "                /* gets rid of default border in Firefox and Opera. */\n",
       "                border: none;\n",
       "                /* Needs to be in here for Safari polyfill so background images work as expected. */\n",
       "                background-size: auto;\n",
       "            }\n",
       "            .progress-bar-interrupted, .progress-bar-interrupted::-webkit-progress-bar {\n",
       "                background: #F44336;\n",
       "            }\n",
       "        </style>\n",
       "      <progress value='3' class='' max='3' style='width:300px; height:20px; vertical-align: middle;'></progress>\n",
       "      100.00% [3/3 00:00<00:00]\n",
       "    </div>\n",
       "    "
      ],
      "text/plain": [
       "<IPython.core.display.HTML object>"
      ]
     },
     "metadata": {},
     "output_type": "display_data"
    },
    {
     "name": "stdout",
     "output_type": "stream",
     "text": [
      "01/28/2021 04:33:04 - INFO - root -   eval_loss after step 150: 0.17987359563509622: \n",
      "01/28/2021 04:33:04 - INFO - root -   eval_perplexity after step 150: 1.197066068649292: \n",
      "01/28/2021 04:33:04 - INFO - root -   lr after step 150: 3.6455629509730136e-07\n",
      "01/28/2021 04:33:04 - INFO - root -   train_loss after step 150: 3.487503833770752\n",
      "01/28/2021 04:33:08 - INFO - root -   Running evaluation\n",
      "01/28/2021 04:33:08 - INFO - root -   Num examples = 89\n",
      "01/28/2021 04:33:08 - INFO - root -   Validation Batch size = 32\n"
     ]
    },
    {
     "data": {
      "text/html": [
       "\n",
       "    <div>\n",
       "        <style>\n",
       "            /* Turns off some styling */\n",
       "            progress {\n",
       "                /* gets rid of default border in Firefox and Opera. */\n",
       "                border: none;\n",
       "                /* Needs to be in here for Safari polyfill so background images work as expected. */\n",
       "                background-size: auto;\n",
       "            }\n",
       "            .progress-bar-interrupted, .progress-bar-interrupted::-webkit-progress-bar {\n",
       "                background: #F44336;\n",
       "            }\n",
       "        </style>\n",
       "      <progress value='3' class='' max='3' style='width:300px; height:20px; vertical-align: middle;'></progress>\n",
       "      100.00% [3/3 00:00<00:00]\n",
       "    </div>\n",
       "    "
      ],
      "text/plain": [
       "<IPython.core.display.HTML object>"
      ]
     },
     "metadata": {},
     "output_type": "display_data"
    },
    {
     "name": "stdout",
     "output_type": "stream",
     "text": [
      "01/28/2021 04:33:09 - INFO - root -   eval_loss after epoch 3: 0.18009193738301596: \n",
      "01/28/2021 04:33:09 - INFO - root -   eval_perplexity after epoch 3: 1.1973273754119873: \n",
      "01/28/2021 04:33:09 - INFO - root -   lr after epoch 3: 0.0\n",
      "01/28/2021 04:33:09 - INFO - root -   train_loss after epoch 3: 3.477690494977511\n",
      "01/28/2021 04:33:09 - INFO - root -   \n",
      "\n"
     ]
    },
    {
     "data": {
      "text/plain": [
       "(156, 3.6102827114936633)"
      ]
     },
     "execution_count": 28,
     "metadata": {},
     "output_type": "execute_result"
    }
   ],
   "source": [
    "lm_learner.fit(epochs=3, #was 30\n",
    "            lr=1e-4,\n",
    "            validate=True,\n",
    "            schedule_type=\"warmup_cosine\",\n",
    "            optimizer_type=\"adamw\")"
   ]
  },
  {
   "cell_type": "code",
   "execution_count": 29,
   "metadata": {},
   "outputs": [
    {
     "name": "stdout",
     "output_type": "stream",
     "text": [
      "01/28/2021 04:33:43 - INFO - root -   Running evaluation\n",
      "01/28/2021 04:33:43 - INFO - root -   Num examples = 89\n",
      "01/28/2021 04:33:43 - INFO - root -   Validation Batch size = 32\n"
     ]
    },
    {
     "data": {
      "text/html": [
       "\n",
       "    <div>\n",
       "        <style>\n",
       "            /* Turns off some styling */\n",
       "            progress {\n",
       "                /* gets rid of default border in Firefox and Opera. */\n",
       "                border: none;\n",
       "                /* Needs to be in here for Safari polyfill so background images work as expected. */\n",
       "                background-size: auto;\n",
       "            }\n",
       "            .progress-bar-interrupted, .progress-bar-interrupted::-webkit-progress-bar {\n",
       "                background: #F44336;\n",
       "            }\n",
       "        </style>\n",
       "      <progress value='3' class='' max='3' style='width:300px; height:20px; vertical-align: middle;'></progress>\n",
       "      100.00% [3/3 00:00<00:00]\n",
       "    </div>\n",
       "    "
      ],
      "text/plain": [
       "<IPython.core.display.HTML object>"
      ]
     },
     "metadata": {},
     "output_type": "display_data"
    },
    {
     "data": {
      "text/plain": [
       "{'loss': 0.1799321969350179, 'perplexity': 1.1971361637115479}"
      ]
     },
     "execution_count": 29,
     "metadata": {},
     "output_type": "execute_result"
    }
   ],
   "source": [
    "lm_learner.validate()"
   ]
  },
  {
   "cell_type": "code",
   "execution_count": 30,
   "metadata": {},
   "outputs": [
    {
     "name": "stdout",
     "output_type": "stream",
     "text": [
      "01/28/2021 04:34:05 - INFO - transformers.configuration_utils -   Configuration saved in models\\model_out\\config.json\n",
      "01/28/2021 04:34:06 - INFO - transformers.modeling_utils -   Model weights saved in models\\model_out\\pytorch_model.bin\n"
     ]
    }
   ],
   "source": [
    "lm_learner.save_model()"
   ]
  },
  {
   "cell_type": "code",
   "execution_count": 31,
   "metadata": {},
   "outputs": [],
   "source": [
    "del lm_learner"
   ]
  },
  {
   "cell_type": "markdown",
   "metadata": {},
   "source": [
    "### Training the Classifier"
   ]
  },
  {
   "cell_type": "code",
   "execution_count": 32,
   "metadata": {
    "tags": []
   },
   "outputs": [
    {
     "name": "stdout",
     "output_type": "stream",
     "text": [
      "01/28/2021 04:34:14 - INFO - transformers.configuration_utils -   loading configuration file https://s3.amazonaws.com/models.huggingface.co/bert/bert-base-cased-config.json from cache at C:\\Users\\Raja/.cache\\torch\\transformers\\b945b69218e98b3e2c95acf911789741307dec43c698d35fad11c1ae28bda352.9da767be51e1327499df13488672789394e2ca38b877837e52618a67d7002391\n",
      "01/28/2021 04:34:14 - INFO - transformers.configuration_utils -   Model config BertConfig {\n",
      "  \"architectures\": [\n",
      "    \"BertForMaskedLM\"\n",
      "  ],\n",
      "  \"attention_probs_dropout_prob\": 0.1,\n",
      "  \"gradient_checkpointing\": false,\n",
      "  \"hidden_act\": \"gelu\",\n",
      "  \"hidden_dropout_prob\": 0.1,\n",
      "  \"hidden_size\": 768,\n",
      "  \"initializer_range\": 0.02,\n",
      "  \"intermediate_size\": 3072,\n",
      "  \"layer_norm_eps\": 1e-12,\n",
      "  \"max_position_embeddings\": 512,\n",
      "  \"model_type\": \"bert\",\n",
      "  \"num_attention_heads\": 12,\n",
      "  \"num_hidden_layers\": 12,\n",
      "  \"pad_token_id\": 0,\n",
      "  \"type_vocab_size\": 2,\n",
      "  \"vocab_size\": 28996\n",
      "}\n",
      "\n",
      "01/28/2021 04:34:15 - INFO - transformers.tokenization_utils_base -   loading file https://s3.amazonaws.com/models.huggingface.co/bert/bert-base-cased-vocab.txt from cache at C:\\Users\\Raja/.cache\\torch\\transformers\\5e8a2b4893d13790ed4150ca1906be5f7a03d6c4ddf62296c383f6db42814db2.e13dbb970cb325137104fb2e5f36fe865f27746c6b526f6352861b1980eb80b1\n",
      "01/28/2021 04:34:15 - INFO - root -   Loading features from cached file data\\cache\\cached_bert_train_multi_label_256_train_sample.csv\n",
      "01/28/2021 04:34:15 - INFO - root -   Loading features from cached file data\\cache\\cached_bert_dev_multi_label_256_val_sample.csv\n"
     ]
    }
   ],
   "source": [
    "databunch = BertDataBunch(args['data_dir'],\n",
    "                          LABEL_PATH, \n",
    "                          tokenizer=args.model_name, \n",
    "                          train_file='train_sample.csv', \n",
    "                          val_file='val_sample.csv',\n",
    "                         # test_data='test_sample.csv',\n",
    "                          text_col=\"Text\", \n",
    "                          label_col=label_cols,\n",
    "                          batch_size_per_gpu=args['train_batch_size'], \n",
    "                          max_seq_length=256, \n",
    "                          multi_gpu=False,\n",
    "                          multi_label=True, \n",
    "                          model_type=args.model_type)"
   ]
  },
  {
   "cell_type": "code",
   "execution_count": 33,
   "metadata": {},
   "outputs": [
    {
     "data": {
      "text/plain": [
       "tensor([0., 0., 0., 0., 0., 0., 0., 1., 0., 0., 0., 0., 0., 0., 0., 0., 0.])"
      ]
     },
     "execution_count": 33,
     "metadata": {},
     "output_type": "execute_result"
    }
   ],
   "source": [
    "databunch.train_dl.dataset[0][3]"
   ]
  },
  {
   "cell_type": "code",
   "execution_count": 34,
   "metadata": {},
   "outputs": [],
   "source": [
    "# train_df.head(20)\n",
    "# databunch = BertDataBunch.load(args['data_dir'])"
   ]
  },
  {
   "cell_type": "code",
   "execution_count": 35,
   "metadata": {},
   "outputs": [
    {
     "data": {
      "text/plain": [
       "17"
      ]
     },
     "execution_count": 35,
     "metadata": {},
     "output_type": "execute_result"
    }
   ],
   "source": [
    "num_labels = len(databunch.labels)\n",
    "num_labels"
   ]
  },
  {
   "cell_type": "code",
   "execution_count": 36,
   "metadata": {},
   "outputs": [],
   "source": [
    "# databunch.train_dl.dataset[10]"
   ]
  },
  {
   "cell_type": "code",
   "execution_count": 16,
   "metadata": {},
   "outputs": [],
   "source": [
    "# torch.distributed.init_process_group(backend=\"nccl\", \n",
    "#                                      init_method = \"tcp://localhost:23459\", \n",
    "#                                      rank=0, world_size=1)"
   ]
  },
  {
   "cell_type": "code",
   "execution_count": 37,
   "metadata": {},
   "outputs": [],
   "source": [
    "metrics = []\n",
    "#metrics.append({'name': 'accuracy_thresh', 'function': accuracy_thresh})\n",
    "metrics.append({'name': 'roc_auc', 'function': roc_auc})\n",
    "metrics.append({'name': 'fbeta', 'function': fbeta})\n",
    "WGTS_PATH = Path('models/model_out/pytorch_model.bin')"
   ]
  },
  {
   "cell_type": "code",
   "execution_count": 38,
   "metadata": {},
   "outputs": [],
   "source": [
    "FINETUNED_PATH = Path('./finetuned_models/')"
   ]
  },
  {
   "cell_type": "markdown",
   "metadata": {},
   "source": [
    "### load parametres "
   ]
  },
  {
   "cell_type": "code",
   "execution_count": 39,
   "metadata": {},
   "outputs": [
    {
     "name": "stdout",
     "output_type": "stream",
     "text": [
      "01/28/2021 04:34:42 - INFO - transformers.configuration_utils -   loading configuration file models/model_out\\config.json\n",
      "01/28/2021 04:34:42 - INFO - transformers.configuration_utils -   Model config BertConfig {\n",
      "  \"architectures\": [\n",
      "    \"BertForMaskedLM\"\n",
      "  ],\n",
      "  \"attention_probs_dropout_prob\": 0.1,\n",
      "  \"gradient_checkpointing\": false,\n",
      "  \"hidden_act\": \"gelu\",\n",
      "  \"hidden_dropout_prob\": 0.1,\n",
      "  \"hidden_size\": 768,\n",
      "  \"id2label\": {\n",
      "    \"0\": \"LABEL_0\",\n",
      "    \"1\": \"LABEL_1\",\n",
      "    \"2\": \"LABEL_2\",\n",
      "    \"3\": \"LABEL_3\",\n",
      "    \"4\": \"LABEL_4\",\n",
      "    \"5\": \"LABEL_5\",\n",
      "    \"6\": \"LABEL_6\",\n",
      "    \"7\": \"LABEL_7\",\n",
      "    \"8\": \"LABEL_8\",\n",
      "    \"9\": \"LABEL_9\",\n",
      "    \"10\": \"LABEL_10\",\n",
      "    \"11\": \"LABEL_11\",\n",
      "    \"12\": \"LABEL_12\",\n",
      "    \"13\": \"LABEL_13\",\n",
      "    \"14\": \"LABEL_14\",\n",
      "    \"15\": \"LABEL_15\",\n",
      "    \"16\": \"LABEL_16\"\n",
      "  },\n",
      "  \"initializer_range\": 0.02,\n",
      "  \"intermediate_size\": 3072,\n",
      "  \"label2id\": {\n",
      "    \"LABEL_0\": 0,\n",
      "    \"LABEL_1\": 1,\n",
      "    \"LABEL_10\": 10,\n",
      "    \"LABEL_11\": 11,\n",
      "    \"LABEL_12\": 12,\n",
      "    \"LABEL_13\": 13,\n",
      "    \"LABEL_14\": 14,\n",
      "    \"LABEL_15\": 15,\n",
      "    \"LABEL_16\": 16,\n",
      "    \"LABEL_2\": 2,\n",
      "    \"LABEL_3\": 3,\n",
      "    \"LABEL_4\": 4,\n",
      "    \"LABEL_5\": 5,\n",
      "    \"LABEL_6\": 6,\n",
      "    \"LABEL_7\": 7,\n",
      "    \"LABEL_8\": 8,\n",
      "    \"LABEL_9\": 9\n",
      "  },\n",
      "  \"layer_norm_eps\": 1e-12,\n",
      "  \"max_position_embeddings\": 512,\n",
      "  \"model_type\": \"bert\",\n",
      "  \"num_attention_heads\": 12,\n",
      "  \"num_hidden_layers\": 12,\n",
      "  \"pad_token_id\": 0,\n",
      "  \"type_vocab_size\": 2,\n",
      "  \"vocab_size\": 28996\n",
      "}\n",
      "\n",
      "01/28/2021 04:34:42 - INFO - transformers.modeling_utils -   loading weights file models/model_out\\pytorch_model.bin\n",
      "01/28/2021 04:34:43 - WARNING - transformers.modeling_utils -   Some weights of the model checkpoint at models/model_out were not used when initializing BertForMultiLabelSequenceClassification: ['cls.predictions.bias', 'cls.predictions.transform.dense.weight', 'cls.predictions.transform.dense.bias', 'cls.predictions.transform.LayerNorm.weight', 'cls.predictions.transform.LayerNorm.bias', 'cls.predictions.decoder.weight', 'cls.predictions.decoder.bias']\n",
      "- This IS expected if you are initializing BertForMultiLabelSequenceClassification from the checkpoint of a model trained on another task or with another architecture (e.g. initializing a BertForSequenceClassification model from a BertForPretraining model).\n",
      "- This IS NOT expected if you are initializing BertForMultiLabelSequenceClassification from the checkpoint of a model that you expect to be exactly identical (initializing a BertForSequenceClassification model from a BertForSequenceClassification model).\n",
      "01/28/2021 04:34:43 - WARNING - transformers.modeling_utils -   Some weights of BertForMultiLabelSequenceClassification were not initialized from the model checkpoint at models/model_out and are newly initialized: ['classifier.weight', 'classifier.bias']\n",
      "You should probably TRAIN this model on a down-stream task to be able to use it for predictions and inference.\n"
     ]
    }
   ],
   "source": [
    "cl_learner = BertLearner.from_pretrained_model(databunch,\n",
    "                                            pretrained_path='models/model_out',\n",
    "                                            metrics=metrics, \n",
    "                                            device=device,\n",
    "                                            logger=logger,\n",
    "                                            output_dir=FINETUNED_PATH, \n",
    "                                            finetuned_wgts_path=WGTS_PATH,\n",
    "                                            warmup_steps=args.warmup_steps,\n",
    "                                            multi_gpu=False,\n",
    "                                            is_fp16=args.fp16, \n",
    "                                            multi_label=True, \n",
    "                                            logging_steps=50)\n",
    "\n"
   ]
  },
  {
   "cell_type": "code",
   "execution_count": 40,
   "metadata": {},
   "outputs": [
    {
     "name": "stdout",
     "output_type": "stream",
     "text": [
      "Selected optimization level O1:  Insert automatic casts around Pytorch functions and Tensor methods.\n",
      "\n",
      "Defaults for this optimization level are:\n",
      "enabled                : True\n",
      "opt_level              : O1\n",
      "cast_model_type        : None\n",
      "patch_torch_functions  : True\n",
      "keep_batchnorm_fp32    : None\n",
      "master_weights         : None\n",
      "loss_scale             : dynamic\n",
      "Processing user overrides (additional kwargs that are not None)...\n",
      "After processing overrides, optimization options are:\n",
      "enabled                : True\n",
      "opt_level              : O1\n",
      "cast_model_type        : None\n",
      "patch_torch_functions  : True\n",
      "keep_batchnorm_fp32    : None\n",
      "master_weights         : None\n",
      "loss_scale             : dynamic\n",
      "01/28/2021 04:34:46 - INFO - root -   ***** Running training *****\n",
      "01/28/2021 04:34:46 - INFO - root -     Num examples = 4812\n",
      "01/28/2021 04:34:46 - INFO - root -     Num Epochs = 5\n",
      "01/28/2021 04:34:46 - INFO - root -     Total train batch size (w. parallel, distributed & accumulation) = 8\n",
      "01/28/2021 04:34:46 - INFO - root -     Gradient Accumulation steps = 1\n",
      "01/28/2021 04:34:46 - INFO - root -     Total optimization steps = 3010\n"
     ]
    },
    {
     "data": {
      "text/html": [],
      "text/plain": [
       "<IPython.core.display.HTML object>"
      ]
     },
     "metadata": {},
     "output_type": "display_data"
    },
    {
     "name": "stdout",
     "output_type": "stream",
     "text": [
      "01/28/2021 04:34:54 - INFO - root -   Running evaluation\n",
      "01/28/2021 04:34:54 - INFO - root -     Num examples = 1204\n",
      "01/28/2021 04:34:54 - INFO - root -     Batch size = 16\n"
     ]
    },
    {
     "data": {
      "text/html": [
       "\n",
       "    <div>\n",
       "        <style>\n",
       "            /* Turns off some styling */\n",
       "            progress {\n",
       "                /* gets rid of default border in Firefox and Opera. */\n",
       "                border: none;\n",
       "                /* Needs to be in here for Safari polyfill so background images work as expected. */\n",
       "                background-size: auto;\n",
       "            }\n",
       "            .progress-bar-interrupted, .progress-bar-interrupted::-webkit-progress-bar {\n",
       "                background: #F44336;\n",
       "            }\n",
       "        </style>\n",
       "      <progress value='76' class='' max='76' style='width:300px; height:20px; vertical-align: middle;'></progress>\n",
       "      100.00% [76/76 00:02<00:00]\n",
       "    </div>\n",
       "    "
      ],
      "text/plain": [
       "<IPython.core.display.HTML object>"
      ]
     },
     "metadata": {},
     "output_type": "display_data"
    },
    {
     "name": "stdout",
     "output_type": "stream",
     "text": [
      "01/28/2021 04:34:57 - INFO - root -   eval_loss after step 50: 0.610670299122208: \n",
      "01/28/2021 04:34:57 - INFO - root -   eval_roc_auc after step 50: 0.49678679991804725: \n",
      "01/28/2021 04:34:57 - INFO - root -   eval_fbeta after step 50: 0.22780407965183258: \n",
      "01/28/2021 04:34:57 - INFO - root -   lr after step 50: 2.0000000000000003e-06\n",
      "01/28/2021 04:34:57 - INFO - root -   train_loss after step 50: 0.6407855987548828\n",
      "01/28/2021 04:35:05 - INFO - root -   Running evaluation\n",
      "01/28/2021 04:35:05 - INFO - root -     Num examples = 1204\n",
      "01/28/2021 04:35:05 - INFO - root -     Batch size = 16\n"
     ]
    },
    {
     "data": {
      "text/html": [
       "\n",
       "    <div>\n",
       "        <style>\n",
       "            /* Turns off some styling */\n",
       "            progress {\n",
       "                /* gets rid of default border in Firefox and Opera. */\n",
       "                border: none;\n",
       "                /* Needs to be in here for Safari polyfill so background images work as expected. */\n",
       "                background-size: auto;\n",
       "            }\n",
       "            .progress-bar-interrupted, .progress-bar-interrupted::-webkit-progress-bar {\n",
       "                background: #F44336;\n",
       "            }\n",
       "        </style>\n",
       "      <progress value='76' class='' max='76' style='width:300px; height:20px; vertical-align: middle;'></progress>\n",
       "      100.00% [76/76 00:02<00:00]\n",
       "    </div>\n",
       "    "
      ],
      "text/plain": [
       "<IPython.core.display.HTML object>"
      ]
     },
     "metadata": {},
     "output_type": "display_data"
    },
    {
     "name": "stdout",
     "output_type": "stream",
     "text": [
      "01/28/2021 04:35:08 - INFO - root -   eval_loss after step 100: 0.4995416936121489: \n",
      "01/28/2021 04:35:08 - INFO - root -   eval_roc_auc after step 100: 0.5075412859336541: \n",
      "01/28/2021 04:35:08 - INFO - root -   eval_fbeta after step 100: 0.22757746279239655: \n",
      "01/28/2021 04:35:08 - INFO - root -   lr after step 100: 4.000000000000001e-06\n",
      "01/28/2021 04:35:08 - INFO - root -   train_loss after step 100: 0.5667625337839126\n",
      "01/28/2021 04:35:15 - INFO - root -   Running evaluation\n",
      "01/28/2021 04:35:15 - INFO - root -     Num examples = 1204\n",
      "01/28/2021 04:35:15 - INFO - root -     Batch size = 16\n"
     ]
    },
    {
     "data": {
      "text/html": [
       "\n",
       "    <div>\n",
       "        <style>\n",
       "            /* Turns off some styling */\n",
       "            progress {\n",
       "                /* gets rid of default border in Firefox and Opera. */\n",
       "                border: none;\n",
       "                /* Needs to be in here for Safari polyfill so background images work as expected. */\n",
       "                background-size: auto;\n",
       "            }\n",
       "            .progress-bar-interrupted, .progress-bar-interrupted::-webkit-progress-bar {\n",
       "                background: #F44336;\n",
       "            }\n",
       "        </style>\n",
       "      <progress value='76' class='' max='76' style='width:300px; height:20px; vertical-align: middle;'></progress>\n",
       "      100.00% [76/76 00:02<00:00]\n",
       "    </div>\n",
       "    "
      ],
      "text/plain": [
       "<IPython.core.display.HTML object>"
      ]
     },
     "metadata": {},
     "output_type": "display_data"
    },
    {
     "name": "stdout",
     "output_type": "stream",
     "text": [
      "01/28/2021 04:35:18 - INFO - root -   eval_loss after step 150: 0.3331790401747352: \n",
      "01/28/2021 04:35:18 - INFO - root -   eval_roc_auc after step 150: 0.5415535260717321: \n",
      "01/28/2021 04:35:18 - INFO - root -   eval_fbeta after step 150: 0.05550941452383995: \n",
      "01/28/2021 04:35:18 - INFO - root -   lr after step 150: 6e-06\n",
      "01/28/2021 04:35:18 - INFO - root -   train_loss after step 150: 0.4251325011253357\n",
      "01/28/2021 04:35:26 - INFO - root -   Running evaluation\n",
      "01/28/2021 04:35:26 - INFO - root -     Num examples = 1204\n",
      "01/28/2021 04:35:26 - INFO - root -     Batch size = 16\n"
     ]
    },
    {
     "data": {
      "text/html": [
       "\n",
       "    <div>\n",
       "        <style>\n",
       "            /* Turns off some styling */\n",
       "            progress {\n",
       "                /* gets rid of default border in Firefox and Opera. */\n",
       "                border: none;\n",
       "                /* Needs to be in here for Safari polyfill so background images work as expected. */\n",
       "                background-size: auto;\n",
       "            }\n",
       "            .progress-bar-interrupted, .progress-bar-interrupted::-webkit-progress-bar {\n",
       "                background: #F44336;\n",
       "            }\n",
       "        </style>\n",
       "      <progress value='76' class='' max='76' style='width:300px; height:20px; vertical-align: middle;'></progress>\n",
       "      100.00% [76/76 00:02<00:00]\n",
       "    </div>\n",
       "    "
      ],
      "text/plain": [
       "<IPython.core.display.HTML object>"
      ]
     },
     "metadata": {},
     "output_type": "display_data"
    },
    {
     "name": "stdout",
     "output_type": "stream",
     "text": [
      "01/28/2021 04:35:28 - INFO - root -   eval_loss after step 200: 0.25725030624552775: \n",
      "01/28/2021 04:35:28 - INFO - root -   eval_roc_auc after step 200: 0.5625915328611163: \n",
      "01/28/2021 04:35:28 - INFO - root -   eval_fbeta after step 200: 0.0: \n",
      "01/28/2021 04:35:28 - INFO - root -   lr after step 200: 8.000000000000001e-06\n",
      "01/28/2021 04:35:28 - INFO - root -   train_loss after step 200: 0.2997253602743149\n",
      "01/28/2021 04:35:36 - INFO - root -   Running evaluation\n",
      "01/28/2021 04:35:36 - INFO - root -     Num examples = 1204\n",
      "01/28/2021 04:35:36 - INFO - root -     Batch size = 16\n"
     ]
    },
    {
     "data": {
      "text/html": [
       "\n",
       "    <div>\n",
       "        <style>\n",
       "            /* Turns off some styling */\n",
       "            progress {\n",
       "                /* gets rid of default border in Firefox and Opera. */\n",
       "                border: none;\n",
       "                /* Needs to be in here for Safari polyfill so background images work as expected. */\n",
       "                background-size: auto;\n",
       "            }\n",
       "            .progress-bar-interrupted, .progress-bar-interrupted::-webkit-progress-bar {\n",
       "                background: #F44336;\n",
       "            }\n",
       "        </style>\n",
       "      <progress value='76' class='' max='76' style='width:300px; height:20px; vertical-align: middle;'></progress>\n",
       "      100.00% [76/76 00:02<00:00]\n",
       "    </div>\n",
       "    "
      ],
      "text/plain": [
       "<IPython.core.display.HTML object>"
      ]
     },
     "metadata": {},
     "output_type": "display_data"
    },
    {
     "name": "stdout",
     "output_type": "stream",
     "text": [
      "01/28/2021 04:35:39 - INFO - root -   eval_loss after step 250: 0.23408038541674614: \n",
      "01/28/2021 04:35:39 - INFO - root -   eval_roc_auc after step 250: 0.6111824398668336: \n",
      "01/28/2021 04:35:39 - INFO - root -   eval_fbeta after step 250: 0.0: \n",
      "01/28/2021 04:35:39 - INFO - root -   lr after step 250: 1e-05\n",
      "01/28/2021 04:35:39 - INFO - root -   train_loss after step 250: 0.250577806532383\n",
      "01/28/2021 04:35:46 - INFO - root -   Running evaluation\n",
      "01/28/2021 04:35:46 - INFO - root -     Num examples = 1204\n",
      "01/28/2021 04:35:46 - INFO - root -     Batch size = 16\n"
     ]
    },
    {
     "data": {
      "text/html": [
       "\n",
       "    <div>\n",
       "        <style>\n",
       "            /* Turns off some styling */\n",
       "            progress {\n",
       "                /* gets rid of default border in Firefox and Opera. */\n",
       "                border: none;\n",
       "                /* Needs to be in here for Safari polyfill so background images work as expected. */\n",
       "                background-size: auto;\n",
       "            }\n",
       "            .progress-bar-interrupted, .progress-bar-interrupted::-webkit-progress-bar {\n",
       "                background: #F44336;\n",
       "            }\n",
       "        </style>\n",
       "      <progress value='76' class='' max='76' style='width:300px; height:20px; vertical-align: middle;'></progress>\n",
       "      100.00% [76/76 00:02<00:00]\n",
       "    </div>\n",
       "    "
      ],
      "text/plain": [
       "<IPython.core.display.HTML object>"
      ]
     },
     "metadata": {},
     "output_type": "display_data"
    },
    {
     "name": "stdout",
     "output_type": "stream",
     "text": [
      "01/28/2021 04:35:49 - INFO - root -   eval_loss after step 300: 0.22248337555088496: \n",
      "01/28/2021 04:35:49 - INFO - root -   eval_roc_auc after step 300: 0.6899924273048863: \n",
      "01/28/2021 04:35:49 - INFO - root -   eval_fbeta after step 300: 0.0: \n",
      "01/28/2021 04:35:49 - INFO - root -   lr after step 300: 1.2e-05\n",
      "01/28/2021 04:35:49 - INFO - root -   train_loss after step 300: 0.23210350811481475\n",
      "01/28/2021 04:35:56 - INFO - root -   Running evaluation\n",
      "01/28/2021 04:35:56 - INFO - root -     Num examples = 1204\n",
      "01/28/2021 04:35:56 - INFO - root -     Batch size = 16\n"
     ]
    },
    {
     "data": {
      "text/html": [
       "\n",
       "    <div>\n",
       "        <style>\n",
       "            /* Turns off some styling */\n",
       "            progress {\n",
       "                /* gets rid of default border in Firefox and Opera. */\n",
       "                border: none;\n",
       "                /* Needs to be in here for Safari polyfill so background images work as expected. */\n",
       "                background-size: auto;\n",
       "            }\n",
       "            .progress-bar-interrupted, .progress-bar-interrupted::-webkit-progress-bar {\n",
       "                background: #F44336;\n",
       "            }\n",
       "        </style>\n",
       "      <progress value='76' class='' max='76' style='width:300px; height:20px; vertical-align: middle;'></progress>\n",
       "      100.00% [76/76 00:02<00:00]\n",
       "    </div>\n",
       "    "
      ],
      "text/plain": [
       "<IPython.core.display.HTML object>"
      ]
     },
     "metadata": {},
     "output_type": "display_data"
    },
    {
     "name": "stdout",
     "output_type": "stream",
     "text": [
      "01/28/2021 04:35:59 - INFO - root -   eval_loss after step 350: 0.21198754012584686: \n",
      "01/28/2021 04:35:59 - INFO - root -   eval_roc_auc after step 350: 0.7472090884758446: \n",
      "01/28/2021 04:35:59 - INFO - root -   eval_fbeta after step 350: 0.001661129528656602: \n",
      "01/28/2021 04:35:59 - INFO - root -   lr after step 350: 1.4e-05\n",
      "01/28/2021 04:35:59 - INFO - root -   train_loss after step 350: 0.22090808123350145\n",
      "01/28/2021 04:36:07 - INFO - root -   Running evaluation\n",
      "01/28/2021 04:36:07 - INFO - root -     Num examples = 1204\n",
      "01/28/2021 04:36:07 - INFO - root -     Batch size = 16\n"
     ]
    },
    {
     "data": {
      "text/html": [
       "\n",
       "    <div>\n",
       "        <style>\n",
       "            /* Turns off some styling */\n",
       "            progress {\n",
       "                /* gets rid of default border in Firefox and Opera. */\n",
       "                border: none;\n",
       "                /* Needs to be in here for Safari polyfill so background images work as expected. */\n",
       "                background-size: auto;\n",
       "            }\n",
       "            .progress-bar-interrupted, .progress-bar-interrupted::-webkit-progress-bar {\n",
       "                background: #F44336;\n",
       "            }\n",
       "        </style>\n",
       "      <progress value='76' class='' max='76' style='width:300px; height:20px; vertical-align: middle;'></progress>\n",
       "      100.00% [76/76 00:02<00:00]\n",
       "    </div>\n",
       "    "
      ],
      "text/plain": [
       "<IPython.core.display.HTML object>"
      ]
     },
     "metadata": {},
     "output_type": "display_data"
    },
    {
     "name": "stdout",
     "output_type": "stream",
     "text": [
      "01/28/2021 04:36:09 - INFO - root -   eval_loss after step 400: 0.19590205581564651: \n",
      "01/28/2021 04:36:09 - INFO - root -   eval_roc_auc after step 400: 0.8667465211476695: \n",
      "01/28/2021 04:36:09 - INFO - root -   eval_fbeta after step 400: 0.058970097452402115: \n",
      "01/28/2021 04:36:09 - INFO - root -   lr after step 400: 1.6000000000000003e-05\n",
      "01/28/2021 04:36:09 - INFO - root -   train_loss after step 400: 0.2093832713365555\n",
      "01/28/2021 04:36:17 - INFO - root -   Running evaluation\n",
      "01/28/2021 04:36:17 - INFO - root -     Num examples = 1204\n",
      "01/28/2021 04:36:17 - INFO - root -     Batch size = 16\n"
     ]
    },
    {
     "data": {
      "text/html": [
       "\n",
       "    <div>\n",
       "        <style>\n",
       "            /* Turns off some styling */\n",
       "            progress {\n",
       "                /* gets rid of default border in Firefox and Opera. */\n",
       "                border: none;\n",
       "                /* Needs to be in here for Safari polyfill so background images work as expected. */\n",
       "                background-size: auto;\n",
       "            }\n",
       "            .progress-bar-interrupted, .progress-bar-interrupted::-webkit-progress-bar {\n",
       "                background: #F44336;\n",
       "            }\n",
       "        </style>\n",
       "      <progress value='76' class='' max='76' style='width:300px; height:20px; vertical-align: middle;'></progress>\n",
       "      100.00% [76/76 00:02<00:00]\n",
       "    </div>\n",
       "    "
      ],
      "text/plain": [
       "<IPython.core.display.HTML object>"
      ]
     },
     "metadata": {},
     "output_type": "display_data"
    },
    {
     "name": "stdout",
     "output_type": "stream",
     "text": [
      "01/28/2021 04:36:19 - INFO - root -   eval_loss after step 450: 0.17663045521629483: \n",
      "01/28/2021 04:36:19 - INFO - root -   eval_roc_auc after step 450: 0.928323216286244: \n",
      "01/28/2021 04:36:19 - INFO - root -   eval_fbeta after step 450: 0.14784052968025208: \n",
      "01/28/2021 04:36:19 - INFO - root -   lr after step 450: 1.8e-05\n",
      "01/28/2021 04:36:19 - INFO - root -   train_loss after step 450: 0.19402746140956878\n",
      "01/28/2021 04:36:27 - INFO - root -   Running evaluation\n",
      "01/28/2021 04:36:27 - INFO - root -     Num examples = 1204\n",
      "01/28/2021 04:36:27 - INFO - root -     Batch size = 16\n"
     ]
    },
    {
     "data": {
      "text/html": [
       "\n",
       "    <div>\n",
       "        <style>\n",
       "            /* Turns off some styling */\n",
       "            progress {\n",
       "                /* gets rid of default border in Firefox and Opera. */\n",
       "                border: none;\n",
       "                /* Needs to be in here for Safari polyfill so background images work as expected. */\n",
       "                background-size: auto;\n",
       "            }\n",
       "            .progress-bar-interrupted, .progress-bar-interrupted::-webkit-progress-bar {\n",
       "                background: #F44336;\n",
       "            }\n",
       "        </style>\n",
       "      <progress value='76' class='' max='76' style='width:300px; height:20px; vertical-align: middle;'></progress>\n",
       "      100.00% [76/76 00:02<00:00]\n",
       "    </div>\n",
       "    "
      ],
      "text/plain": [
       "<IPython.core.display.HTML object>"
      ]
     },
     "metadata": {},
     "output_type": "display_data"
    },
    {
     "name": "stdout",
     "output_type": "stream",
     "text": [
      "01/28/2021 04:36:29 - INFO - root -   eval_loss after step 500: 0.15597234097750565: \n",
      "01/28/2021 04:36:29 - INFO - root -   eval_roc_auc after step 500: 0.9444164652914978: \n",
      "01/28/2021 04:36:29 - INFO - root -   eval_fbeta after step 500: 0.48255813121795654: \n",
      "01/28/2021 04:36:29 - INFO - root -   lr after step 500: 2e-05\n",
      "01/28/2021 04:36:29 - INFO - root -   train_loss after step 500: 0.17294346272945404\n",
      "01/28/2021 04:36:37 - INFO - root -   Running evaluation\n",
      "01/28/2021 04:36:37 - INFO - root -     Num examples = 1204\n",
      "01/28/2021 04:36:37 - INFO - root -     Batch size = 16\n"
     ]
    },
    {
     "data": {
      "text/html": [
       "\n",
       "    <div>\n",
       "        <style>\n",
       "            /* Turns off some styling */\n",
       "            progress {\n",
       "                /* gets rid of default border in Firefox and Opera. */\n",
       "                border: none;\n",
       "                /* Needs to be in here for Safari polyfill so background images work as expected. */\n",
       "                background-size: auto;\n",
       "            }\n",
       "            .progress-bar-interrupted, .progress-bar-interrupted::-webkit-progress-bar {\n",
       "                background: #F44336;\n",
       "            }\n",
       "        </style>\n",
       "      <progress value='76' class='' max='76' style='width:300px; height:20px; vertical-align: middle;'></progress>\n",
       "      100.00% [76/76 00:02<00:00]\n",
       "    </div>\n",
       "    "
      ],
      "text/plain": [
       "<IPython.core.display.HTML object>"
      ]
     },
     "metadata": {},
     "output_type": "display_data"
    },
    {
     "name": "stdout",
     "output_type": "stream",
     "text": [
      "01/28/2021 04:36:40 - INFO - root -   eval_loss after step 550: 0.13582337824137589: \n",
      "01/28/2021 04:36:40 - INFO - root -   eval_roc_auc after step 550: 0.9550918570849107: \n",
      "01/28/2021 04:36:40 - INFO - root -   eval_fbeta after step 550: 0.702519416809082: \n",
      "01/28/2021 04:36:40 - INFO - root -   lr after step 550: 1.9980424152647174e-05\n",
      "01/28/2021 04:36:40 - INFO - root -   train_loss after step 550: 0.15460361093282698\n",
      "01/28/2021 04:36:47 - INFO - root -   Running evaluation\n",
      "01/28/2021 04:36:47 - INFO - root -     Num examples = 1204\n",
      "01/28/2021 04:36:47 - INFO - root -     Batch size = 16\n"
     ]
    },
    {
     "data": {
      "text/html": [
       "\n",
       "    <div>\n",
       "        <style>\n",
       "            /* Turns off some styling */\n",
       "            progress {\n",
       "                /* gets rid of default border in Firefox and Opera. */\n",
       "                border: none;\n",
       "                /* Needs to be in here for Safari polyfill so background images work as expected. */\n",
       "                background-size: auto;\n",
       "            }\n",
       "            .progress-bar-interrupted, .progress-bar-interrupted::-webkit-progress-bar {\n",
       "                background: #F44336;\n",
       "            }\n",
       "        </style>\n",
       "      <progress value='76' class='' max='76' style='width:300px; height:20px; vertical-align: middle;'></progress>\n",
       "      100.00% [76/76 00:02<00:00]\n",
       "    </div>\n",
       "    "
      ],
      "text/plain": [
       "<IPython.core.display.HTML object>"
      ]
     },
     "metadata": {},
     "output_type": "display_data"
    },
    {
     "name": "stdout",
     "output_type": "stream",
     "text": [
      "01/28/2021 04:36:50 - INFO - root -   eval_loss after step 600: 0.12169845039515119: \n",
      "01/28/2021 04:36:50 - INFO - root -   eval_roc_auc after step 600: 0.9626766243612102: \n",
      "01/28/2021 04:36:50 - INFO - root -   eval_fbeta after step 600: 0.7707641124725342: \n",
      "01/28/2021 04:36:50 - INFO - root -   lr after step 600: 1.9921773253348604e-05\n",
      "01/28/2021 04:36:50 - INFO - root -   train_loss after step 600: 0.13813772797584534\n",
      "01/28/2021 04:36:50 - INFO - root -   Running evaluation\n",
      "01/28/2021 04:36:50 - INFO - root -     Num examples = 1204\n",
      "01/28/2021 04:36:50 - INFO - root -     Batch size = 16\n"
     ]
    },
    {
     "data": {
      "text/html": [
       "\n",
       "    <div>\n",
       "        <style>\n",
       "            /* Turns off some styling */\n",
       "            progress {\n",
       "                /* gets rid of default border in Firefox and Opera. */\n",
       "                border: none;\n",
       "                /* Needs to be in here for Safari polyfill so background images work as expected. */\n",
       "                background-size: auto;\n",
       "            }\n",
       "            .progress-bar-interrupted, .progress-bar-interrupted::-webkit-progress-bar {\n",
       "                background: #F44336;\n",
       "            }\n",
       "        </style>\n",
       "      <progress value='76' class='' max='76' style='width:300px; height:20px; vertical-align: middle;'></progress>\n",
       "      100.00% [76/76 00:02<00:00]\n",
       "    </div>\n",
       "    "
      ],
      "text/plain": [
       "<IPython.core.display.HTML object>"
      ]
     },
     "metadata": {},
     "output_type": "display_data"
    },
    {
     "name": "stdout",
     "output_type": "stream",
     "text": [
      "01/28/2021 04:36:53 - INFO - root -   eval_loss after epoch 1: 0.12119031246555478: \n",
      "01/28/2021 04:36:53 - INFO - root -   eval_roc_auc after epoch 1: 0.963586671401254: \n",
      "01/28/2021 04:36:53 - INFO - root -   eval_fbeta after epoch 1: 0.7491694092750549: \n",
      "01/28/2021 04:36:53 - INFO - root -   lr after epoch 1: 1.991861718629202e-05\n",
      "01/28/2021 04:36:53 - INFO - root -   train_loss after epoch 1: 0.29153158057765705\n",
      "01/28/2021 04:36:53 - INFO - root -   \n",
      "\n",
      "01/28/2021 04:37:00 - INFO - root -   Running evaluation\n",
      "01/28/2021 04:37:00 - INFO - root -     Num examples = 1204\n",
      "01/28/2021 04:37:00 - INFO - root -     Batch size = 16\n"
     ]
    },
    {
     "data": {
      "text/html": [
       "\n",
       "    <div>\n",
       "        <style>\n",
       "            /* Turns off some styling */\n",
       "            progress {\n",
       "                /* gets rid of default border in Firefox and Opera. */\n",
       "                border: none;\n",
       "                /* Needs to be in here for Safari polyfill so background images work as expected. */\n",
       "                background-size: auto;\n",
       "            }\n",
       "            .progress-bar-interrupted, .progress-bar-interrupted::-webkit-progress-bar {\n",
       "                background: #F44336;\n",
       "            }\n",
       "        </style>\n",
       "      <progress value='76' class='' max='76' style='width:300px; height:20px; vertical-align: middle;'></progress>\n",
       "      100.00% [76/76 00:02<00:00]\n",
       "    </div>\n",
       "    "
      ],
      "text/plain": [
       "<IPython.core.display.HTML object>"
      ]
     },
     "metadata": {},
     "output_type": "display_data"
    },
    {
     "name": "stdout",
     "output_type": "stream",
     "text": [
      "01/28/2021 04:37:03 - INFO - root -   eval_loss after step 650: 0.1066965495089167: \n",
      "01/28/2021 04:37:03 - INFO - root -   eval_roc_auc after step 650: 0.9679606099132461: \n",
      "01/28/2021 04:37:03 - INFO - root -   eval_fbeta after step 650: 0.8192137479782104: \n",
      "01/28/2021 04:37:03 - INFO - root -   lr after step 650: 1.982427693031465e-05\n",
      "01/28/2021 04:37:03 - INFO - root -   train_loss after step 650: 0.11821028217673302\n",
      "01/28/2021 04:37:10 - INFO - root -   Running evaluation\n",
      "01/28/2021 04:37:10 - INFO - root -     Num examples = 1204\n",
      "01/28/2021 04:37:10 - INFO - root -     Batch size = 16\n"
     ]
    },
    {
     "data": {
      "text/html": [
       "\n",
       "    <div>\n",
       "        <style>\n",
       "            /* Turns off some styling */\n",
       "            progress {\n",
       "                /* gets rid of default border in Firefox and Opera. */\n",
       "                border: none;\n",
       "                /* Needs to be in here for Safari polyfill so background images work as expected. */\n",
       "                background-size: auto;\n",
       "            }\n",
       "            .progress-bar-interrupted, .progress-bar-interrupted::-webkit-progress-bar {\n",
       "                background: #F44336;\n",
       "            }\n",
       "        </style>\n",
       "      <progress value='76' class='' max='76' style='width:300px; height:20px; vertical-align: middle;'></progress>\n",
       "      100.00% [76/76 00:02<00:00]\n",
       "    </div>\n",
       "    "
      ],
      "text/plain": [
       "<IPython.core.display.HTML object>"
      ]
     },
     "metadata": {},
     "output_type": "display_data"
    },
    {
     "name": "stdout",
     "output_type": "stream",
     "text": [
      "01/28/2021 04:37:13 - INFO - root -   eval_loss after step 700: 0.09813992159539148: \n",
      "01/28/2021 04:37:13 - INFO - root -   eval_roc_auc after step 700: 0.9715442313688591: \n",
      "01/28/2021 04:37:13 - INFO - root -   eval_fbeta after step 700: 0.8491140604019165: \n",
      "01/28/2021 04:37:13 - INFO - root -   lr after step 700: 1.9688316898172744e-05\n",
      "01/28/2021 04:37:13 - INFO - root -   train_loss after step 700: 0.11115967586636544\n",
      "01/28/2021 04:37:20 - INFO - root -   Running evaluation\n",
      "01/28/2021 04:37:20 - INFO - root -     Num examples = 1204\n",
      "01/28/2021 04:37:20 - INFO - root -     Batch size = 16\n"
     ]
    },
    {
     "data": {
      "text/html": [
       "\n",
       "    <div>\n",
       "        <style>\n",
       "            /* Turns off some styling */\n",
       "            progress {\n",
       "                /* gets rid of default border in Firefox and Opera. */\n",
       "                border: none;\n",
       "                /* Needs to be in here for Safari polyfill so background images work as expected. */\n",
       "                background-size: auto;\n",
       "            }\n",
       "            .progress-bar-interrupted, .progress-bar-interrupted::-webkit-progress-bar {\n",
       "                background: #F44336;\n",
       "            }\n",
       "        </style>\n",
       "      <progress value='76' class='' max='76' style='width:300px; height:20px; vertical-align: middle;'></progress>\n",
       "      100.00% [76/76 00:02<00:00]\n",
       "    </div>\n",
       "    "
      ],
      "text/plain": [
       "<IPython.core.display.HTML object>"
      ]
     },
     "metadata": {},
     "output_type": "display_data"
    },
    {
     "name": "stdout",
     "output_type": "stream",
     "text": [
      "01/28/2021 04:37:23 - INFO - root -   eval_loss after step 750: 0.08998174298750727: \n",
      "01/28/2021 04:37:23 - INFO - root -   eval_roc_auc after step 750: 0.9736043674669705: \n",
      "01/28/2021 04:37:23 - INFO - root -   eval_fbeta after step 750: 0.8603267073631287: \n",
      "01/28/2021 04:37:23 - INFO - root -   lr after step 750: 1.9514425463489946e-05\n",
      "01/28/2021 04:37:23 - INFO - root -   train_loss after step 750: 0.10133288890123367\n",
      "01/28/2021 04:37:31 - INFO - root -   Running evaluation\n",
      "01/28/2021 04:37:31 - INFO - root -     Num examples = 1204\n",
      "01/28/2021 04:37:31 - INFO - root -     Batch size = 16\n"
     ]
    },
    {
     "data": {
      "text/html": [
       "\n",
       "    <div>\n",
       "        <style>\n",
       "            /* Turns off some styling */\n",
       "            progress {\n",
       "                /* gets rid of default border in Firefox and Opera. */\n",
       "                border: none;\n",
       "                /* Needs to be in here for Safari polyfill so background images work as expected. */\n",
       "                background-size: auto;\n",
       "            }\n",
       "            .progress-bar-interrupted, .progress-bar-interrupted::-webkit-progress-bar {\n",
       "                background: #F44336;\n",
       "            }\n",
       "        </style>\n",
       "      <progress value='76' class='' max='76' style='width:300px; height:20px; vertical-align: middle;'></progress>\n",
       "      100.00% [76/76 00:02<00:00]\n",
       "    </div>\n",
       "    "
      ],
      "text/plain": [
       "<IPython.core.display.HTML object>"
      ]
     },
     "metadata": {},
     "output_type": "display_data"
    },
    {
     "name": "stdout",
     "output_type": "stream",
     "text": [
      "01/28/2021 04:37:33 - INFO - root -   eval_loss after step 800: 0.08233582257832352: \n",
      "01/28/2021 04:37:33 - INFO - root -   eval_roc_auc after step 800: 0.977978499995861: \n",
      "01/28/2021 04:37:33 - INFO - root -   eval_fbeta after step 800: 0.8733388781547546: \n",
      "01/28/2021 04:37:33 - INFO - root -   lr after step 800: 1.9303283440702524e-05\n",
      "01/28/2021 04:37:33 - INFO - root -   train_loss after step 800: 0.09143632277846336\n",
      "01/28/2021 04:37:41 - INFO - root -   Running evaluation\n",
      "01/28/2021 04:37:41 - INFO - root -     Num examples = 1204\n",
      "01/28/2021 04:37:41 - INFO - root -     Batch size = 16\n"
     ]
    },
    {
     "data": {
      "text/html": [
       "\n",
       "    <div>\n",
       "        <style>\n",
       "            /* Turns off some styling */\n",
       "            progress {\n",
       "                /* gets rid of default border in Firefox and Opera. */\n",
       "                border: none;\n",
       "                /* Needs to be in here for Safari polyfill so background images work as expected. */\n",
       "                background-size: auto;\n",
       "            }\n",
       "            .progress-bar-interrupted, .progress-bar-interrupted::-webkit-progress-bar {\n",
       "                background: #F44336;\n",
       "            }\n",
       "        </style>\n",
       "      <progress value='76' class='' max='76' style='width:300px; height:20px; vertical-align: middle;'></progress>\n",
       "      100.00% [76/76 00:02<00:00]\n",
       "    </div>\n",
       "    "
      ],
      "text/plain": [
       "<IPython.core.display.HTML object>"
      ]
     },
     "metadata": {},
     "output_type": "display_data"
    },
    {
     "name": "stdout",
     "output_type": "stream",
     "text": [
      "01/28/2021 04:37:43 - INFO - root -   eval_loss after step 850: 0.07800828469427008: \n",
      "01/28/2021 04:37:43 - INFO - root -   eval_roc_auc after step 850: 0.9756926791301971: \n",
      "01/28/2021 04:37:43 - INFO - root -   eval_fbeta after step 850: 0.889258086681366: \n",
      "01/28/2021 04:37:43 - INFO - root -   lr after step 850: 1.905571748661204e-05\n",
      "01/28/2021 04:37:43 - INFO - root -   train_loss after step 850: 0.08461120702326298\n",
      "01/28/2021 04:37:51 - INFO - root -   Running evaluation\n",
      "01/28/2021 04:37:51 - INFO - root -     Num examples = 1204\n",
      "01/28/2021 04:37:51 - INFO - root -     Batch size = 16\n"
     ]
    },
    {
     "data": {
      "text/html": [
       "\n",
       "    <div>\n",
       "        <style>\n",
       "            /* Turns off some styling */\n",
       "            progress {\n",
       "                /* gets rid of default border in Firefox and Opera. */\n",
       "                border: none;\n",
       "                /* Needs to be in here for Safari polyfill so background images work as expected. */\n",
       "                background-size: auto;\n",
       "            }\n",
       "            .progress-bar-interrupted, .progress-bar-interrupted::-webkit-progress-bar {\n",
       "                background: #F44336;\n",
       "            }\n",
       "        </style>\n",
       "      <progress value='76' class='' max='76' style='width:300px; height:20px; vertical-align: middle;'></progress>\n",
       "      100.00% [76/76 00:02<00:00]\n",
       "    </div>\n",
       "    "
      ],
      "text/plain": [
       "<IPython.core.display.HTML object>"
      ]
     },
     "metadata": {},
     "output_type": "display_data"
    },
    {
     "name": "stdout",
     "output_type": "stream",
     "text": [
      "01/28/2021 04:37:54 - INFO - root -   eval_loss after step 900: 0.07353330423173152: \n",
      "01/28/2021 04:37:54 - INFO - root -   eval_roc_auc after step 900: 0.9781746079651439: \n",
      "01/28/2021 04:37:54 - INFO - root -   eval_fbeta after step 900: 0.8820597529411316: \n",
      "01/28/2021 04:37:54 - INFO - root -   lr after step 900: 1.8772696863883905e-05\n",
      "01/28/2021 04:37:54 - INFO - root -   train_loss after step 900: 0.08586448535323143\n",
      "01/28/2021 04:38:01 - INFO - root -   Running evaluation\n",
      "01/28/2021 04:38:01 - INFO - root -     Num examples = 1204\n",
      "01/28/2021 04:38:01 - INFO - root -     Batch size = 16\n"
     ]
    },
    {
     "data": {
      "text/html": [
       "\n",
       "    <div>\n",
       "        <style>\n",
       "            /* Turns off some styling */\n",
       "            progress {\n",
       "                /* gets rid of default border in Firefox and Opera. */\n",
       "                border: none;\n",
       "                /* Needs to be in here for Safari polyfill so background images work as expected. */\n",
       "                background-size: auto;\n",
       "            }\n",
       "            .progress-bar-interrupted, .progress-bar-interrupted::-webkit-progress-bar {\n",
       "                background: #F44336;\n",
       "            }\n",
       "        </style>\n",
       "      <progress value='76' class='' max='76' style='width:300px; height:20px; vertical-align: middle;'></progress>\n",
       "      100.00% [76/76 00:02<00:00]\n",
       "    </div>\n",
       "    "
      ],
      "text/plain": [
       "<IPython.core.display.HTML object>"
      ]
     },
     "metadata": {},
     "output_type": "display_data"
    },
    {
     "name": "stdout",
     "output_type": "stream",
     "text": [
      "01/28/2021 04:38:04 - INFO - root -   eval_loss after step 950: 0.06844305330397267: \n",
      "01/28/2021 04:38:04 - INFO - root -   eval_roc_auc after step 950: 0.9811752517563272: \n",
      "01/28/2021 04:38:04 - INFO - root -   eval_fbeta after step 950: 0.9043466448783875: \n",
      "01/28/2021 04:38:04 - INFO - root -   lr after step 950: 1.8455329646219767e-05\n",
      "01/28/2021 04:38:04 - INFO - root -   train_loss after step 950: 0.07590436831116676\n",
      "01/28/2021 04:38:12 - INFO - root -   Running evaluation\n",
      "01/28/2021 04:38:12 - INFO - root -     Num examples = 1204\n",
      "01/28/2021 04:38:12 - INFO - root -     Batch size = 16\n"
     ]
    },
    {
     "data": {
      "text/html": [
       "\n",
       "    <div>\n",
       "        <style>\n",
       "            /* Turns off some styling */\n",
       "            progress {\n",
       "                /* gets rid of default border in Firefox and Opera. */\n",
       "                border: none;\n",
       "                /* Needs to be in here for Safari polyfill so background images work as expected. */\n",
       "                background-size: auto;\n",
       "            }\n",
       "            .progress-bar-interrupted, .progress-bar-interrupted::-webkit-progress-bar {\n",
       "                background: #F44336;\n",
       "            }\n",
       "        </style>\n",
       "      <progress value='76' class='' max='76' style='width:300px; height:20px; vertical-align: middle;'></progress>\n",
       "      100.00% [76/76 00:02<00:00]\n",
       "    </div>\n",
       "    "
      ],
      "text/plain": [
       "<IPython.core.display.HTML object>"
      ]
     },
     "metadata": {},
     "output_type": "display_data"
    },
    {
     "name": "stdout",
     "output_type": "stream",
     "text": [
      "01/28/2021 04:38:14 - INFO - root -   eval_loss after step 1000: 0.06322588962747862: \n",
      "01/28/2021 04:38:14 - INFO - root -   eval_roc_auc after step 1000: 0.9827128787899693: \n",
      "01/28/2021 04:38:14 - INFO - root -   eval_fbeta after step 1000: 0.9036544561386108: \n",
      "01/28/2021 04:38:14 - INFO - root -   lr after step 1000: 1.8104858380061178e-05\n",
      "01/28/2021 04:38:14 - INFO - root -   train_loss after step 1000: 0.07210017755627632\n",
      "01/28/2021 04:38:22 - INFO - root -   Running evaluation\n",
      "01/28/2021 04:38:22 - INFO - root -     Num examples = 1204\n",
      "01/28/2021 04:38:22 - INFO - root -     Batch size = 16\n"
     ]
    },
    {
     "data": {
      "text/html": [
       "\n",
       "    <div>\n",
       "        <style>\n",
       "            /* Turns off some styling */\n",
       "            progress {\n",
       "                /* gets rid of default border in Firefox and Opera. */\n",
       "                border: none;\n",
       "                /* Needs to be in here for Safari polyfill so background images work as expected. */\n",
       "                background-size: auto;\n",
       "            }\n",
       "            .progress-bar-interrupted, .progress-bar-interrupted::-webkit-progress-bar {\n",
       "                background: #F44336;\n",
       "            }\n",
       "        </style>\n",
       "      <progress value='76' class='' max='76' style='width:300px; height:20px; vertical-align: middle;'></progress>\n",
       "      100.00% [76/76 00:02<00:00]\n",
       "    </div>\n",
       "    "
      ],
      "text/plain": [
       "<IPython.core.display.HTML object>"
      ]
     },
     "metadata": {},
     "output_type": "display_data"
    },
    {
     "name": "stdout",
     "output_type": "stream",
     "text": [
      "01/28/2021 04:38:24 - INFO - root -   eval_loss after step 1050: 0.06181301990229832: \n",
      "01/28/2021 04:38:24 - INFO - root -   eval_roc_auc after step 1050: 0.980288702318407: \n",
      "01/28/2021 04:38:24 - INFO - root -   eval_fbeta after step 1050: 0.9014396667480469: \n",
      "01/28/2021 04:38:24 - INFO - root -   lr after step 1050: 1.7722655219809718e-05\n",
      "01/28/2021 04:38:24 - INFO - root -   train_loss after step 1050: 0.07027476407587528\n",
      "01/28/2021 04:38:32 - INFO - root -   Running evaluation\n",
      "01/28/2021 04:38:32 - INFO - root -     Num examples = 1204\n",
      "01/28/2021 04:38:32 - INFO - root -     Batch size = 16\n"
     ]
    },
    {
     "data": {
      "text/html": [
       "\n",
       "    <div>\n",
       "        <style>\n",
       "            /* Turns off some styling */\n",
       "            progress {\n",
       "                /* gets rid of default border in Firefox and Opera. */\n",
       "                border: none;\n",
       "                /* Needs to be in here for Safari polyfill so background images work as expected. */\n",
       "                background-size: auto;\n",
       "            }\n",
       "            .progress-bar-interrupted, .progress-bar-interrupted::-webkit-progress-bar {\n",
       "                background: #F44336;\n",
       "            }\n",
       "        </style>\n",
       "      <progress value='76' class='' max='76' style='width:300px; height:20px; vertical-align: middle;'></progress>\n",
       "      100.00% [76/76 00:02<00:00]\n",
       "    </div>\n",
       "    "
      ],
      "text/plain": [
       "<IPython.core.display.HTML object>"
      ]
     },
     "metadata": {},
     "output_type": "display_data"
    },
    {
     "name": "stdout",
     "output_type": "stream",
     "text": [
      "01/28/2021 04:38:35 - INFO - root -   eval_loss after step 1100: 0.05837866124746047: \n",
      "01/28/2021 04:38:35 - INFO - root -   eval_roc_auc after step 1100: 0.9812424247179944: \n",
      "01/28/2021 04:38:35 - INFO - root -   eval_fbeta after step 1100: 0.9108527302742004: \n",
      "01/28/2021 04:38:35 - INFO - root -   lr after step 1100: 1.731021655560995e-05\n",
      "01/28/2021 04:38:35 - INFO - root -   train_loss after step 1100: 0.06238208793103695\n",
      "01/28/2021 04:38:42 - INFO - root -   Running evaluation\n",
      "01/28/2021 04:38:42 - INFO - root -     Num examples = 1204\n",
      "01/28/2021 04:38:42 - INFO - root -     Batch size = 16\n"
     ]
    },
    {
     "data": {
      "text/html": [
       "\n",
       "    <div>\n",
       "        <style>\n",
       "            /* Turns off some styling */\n",
       "            progress {\n",
       "                /* gets rid of default border in Firefox and Opera. */\n",
       "                border: none;\n",
       "                /* Needs to be in here for Safari polyfill so background images work as expected. */\n",
       "                background-size: auto;\n",
       "            }\n",
       "            .progress-bar-interrupted, .progress-bar-interrupted::-webkit-progress-bar {\n",
       "                background: #F44336;\n",
       "            }\n",
       "        </style>\n",
       "      <progress value='76' class='' max='76' style='width:300px; height:20px; vertical-align: middle;'></progress>\n",
       "      100.00% [76/76 00:02<00:00]\n",
       "    </div>\n",
       "    "
      ],
      "text/plain": [
       "<IPython.core.display.HTML object>"
      ]
     },
     "metadata": {},
     "output_type": "display_data"
    },
    {
     "name": "stdout",
     "output_type": "stream",
     "text": [
      "01/28/2021 04:38:45 - INFO - root -   eval_loss after step 1150: 0.05520778428763151: \n",
      "01/28/2021 04:38:45 - INFO - root -   eval_roc_auc after step 1150: 0.9850765219892716: \n",
      "01/28/2021 04:38:45 - INFO - root -   eval_fbeta after step 1150: 0.9197120666503906: \n",
      "01/28/2021 04:38:45 - INFO - root -   lr after step 1150: 1.6869157154728437e-05\n",
      "01/28/2021 04:38:45 - INFO - root -   train_loss after step 1150: 0.06071607582271099\n",
      "01/28/2021 04:38:52 - INFO - root -   Running evaluation\n",
      "01/28/2021 04:38:52 - INFO - root -     Num examples = 1204\n",
      "01/28/2021 04:38:52 - INFO - root -     Batch size = 16\n"
     ]
    },
    {
     "data": {
      "text/html": [
       "\n",
       "    <div>\n",
       "        <style>\n",
       "            /* Turns off some styling */\n",
       "            progress {\n",
       "                /* gets rid of default border in Firefox and Opera. */\n",
       "                border: none;\n",
       "                /* Needs to be in here for Safari polyfill so background images work as expected. */\n",
       "                background-size: auto;\n",
       "            }\n",
       "            .progress-bar-interrupted, .progress-bar-interrupted::-webkit-progress-bar {\n",
       "                background: #F44336;\n",
       "            }\n",
       "        </style>\n",
       "      <progress value='76' class='' max='76' style='width:300px; height:20px; vertical-align: middle;'></progress>\n",
       "      100.00% [76/76 00:02<00:00]\n",
       "    </div>\n",
       "    "
      ],
      "text/plain": [
       "<IPython.core.display.HTML object>"
      ]
     },
     "metadata": {},
     "output_type": "display_data"
    },
    {
     "name": "stdout",
     "output_type": "stream",
     "text": [
      "01/28/2021 04:38:55 - INFO - root -   eval_loss after step 1200: 0.052431477331801465: \n",
      "01/28/2021 04:38:55 - INFO - root -   eval_roc_auc after step 1200: 0.984645028407523: \n",
      "01/28/2021 04:38:55 - INFO - root -   eval_fbeta after step 1200: 0.9206810593605042: \n",
      "01/28/2021 04:38:55 - INFO - root -   lr after step 1200: 1.6401203839466212e-05\n",
      "01/28/2021 04:38:55 - INFO - root -   train_loss after step 1200: 0.06246394775807858\n",
      "01/28/2021 04:38:56 - INFO - root -   Running evaluation\n",
      "01/28/2021 04:38:56 - INFO - root -     Num examples = 1204\n",
      "01/28/2021 04:38:56 - INFO - root -     Batch size = 16\n"
     ]
    },
    {
     "data": {
      "text/html": [
       "\n",
       "    <div>\n",
       "        <style>\n",
       "            /* Turns off some styling */\n",
       "            progress {\n",
       "                /* gets rid of default border in Firefox and Opera. */\n",
       "                border: none;\n",
       "                /* Needs to be in here for Safari polyfill so background images work as expected. */\n",
       "                background-size: auto;\n",
       "            }\n",
       "            .progress-bar-interrupted, .progress-bar-interrupted::-webkit-progress-bar {\n",
       "                background: #F44336;\n",
       "            }\n",
       "        </style>\n",
       "      <progress value='76' class='' max='76' style='width:300px; height:20px; vertical-align: middle;'></progress>\n",
       "      100.00% [76/76 00:02<00:00]\n",
       "    </div>\n",
       "    "
      ],
      "text/plain": [
       "<IPython.core.display.HTML object>"
      ]
     },
     "metadata": {},
     "output_type": "display_data"
    },
    {
     "name": "stdout",
     "output_type": "stream",
     "text": [
      "01/28/2021 04:38:58 - INFO - root -   eval_loss after epoch 2: 0.05239682482849611: \n",
      "01/28/2021 04:38:58 - INFO - root -   eval_roc_auc after epoch 2: 0.983959803837706: \n",
      "01/28/2021 04:38:58 - INFO - root -   eval_fbeta after epoch 2: 0.9195736646652222: \n",
      "01/28/2021 04:38:58 - INFO - root -   lr after epoch 2: 1.6362659937232154e-05\n",
      "01/28/2021 04:38:58 - INFO - root -   train_loss after epoch 2: 0.08271453845194011\n",
      "01/28/2021 04:38:58 - INFO - root -   \n",
      "\n",
      "01/28/2021 04:39:05 - INFO - root -   Running evaluation\n",
      "01/28/2021 04:39:05 - INFO - root -     Num examples = 1204\n",
      "01/28/2021 04:39:05 - INFO - root -     Batch size = 16\n"
     ]
    },
    {
     "data": {
      "text/html": [
       "\n",
       "    <div>\n",
       "        <style>\n",
       "            /* Turns off some styling */\n",
       "            progress {\n",
       "                /* gets rid of default border in Firefox and Opera. */\n",
       "                border: none;\n",
       "                /* Needs to be in here for Safari polyfill so background images work as expected. */\n",
       "                background-size: auto;\n",
       "            }\n",
       "            .progress-bar-interrupted, .progress-bar-interrupted::-webkit-progress-bar {\n",
       "                background: #F44336;\n",
       "            }\n",
       "        </style>\n",
       "      <progress value='76' class='' max='76' style='width:300px; height:20px; vertical-align: middle;'></progress>\n",
       "      100.00% [76/76 00:02<00:00]\n",
       "    </div>\n",
       "    "
      ],
      "text/plain": [
       "<IPython.core.display.HTML object>"
      ]
     },
     "metadata": {},
     "output_type": "display_data"
    },
    {
     "name": "stdout",
     "output_type": "stream",
     "text": [
      "01/28/2021 04:39:08 - INFO - root -   eval_loss after step 1250: 0.049902882230909246: \n",
      "01/28/2021 04:39:08 - INFO - root -   eval_roc_auc after step 1250: 0.9858779842385847: \n",
      "01/28/2021 04:39:08 - INFO - root -   eval_fbeta after step 1250: 0.926771879196167: \n",
      "01/28/2021 04:39:08 - INFO - root -   lr after step 1250: 1.5908188726356843e-05\n",
      "01/28/2021 04:39:08 - INFO - root -   train_loss after step 1250: 0.047782235965132716\n",
      "01/28/2021 04:39:16 - INFO - root -   Running evaluation\n",
      "01/28/2021 04:39:16 - INFO - root -     Num examples = 1204\n",
      "01/28/2021 04:39:16 - INFO - root -     Batch size = 16\n"
     ]
    },
    {
     "data": {
      "text/html": [
       "\n",
       "    <div>\n",
       "        <style>\n",
       "            /* Turns off some styling */\n",
       "            progress {\n",
       "                /* gets rid of default border in Firefox and Opera. */\n",
       "                border: none;\n",
       "                /* Needs to be in here for Safari polyfill so background images work as expected. */\n",
       "                background-size: auto;\n",
       "            }\n",
       "            .progress-bar-interrupted, .progress-bar-interrupted::-webkit-progress-bar {\n",
       "                background: #F44336;\n",
       "            }\n",
       "        </style>\n",
       "      <progress value='76' class='' max='76' style='width:300px; height:20px; vertical-align: middle;'></progress>\n",
       "      100.00% [76/76 00:02<00:00]\n",
       "    </div>\n",
       "    "
      ],
      "text/plain": [
       "<IPython.core.display.HTML object>"
      ]
     },
     "metadata": {},
     "output_type": "display_data"
    },
    {
     "name": "stdout",
     "output_type": "stream",
     "text": [
      "01/28/2021 04:39:18 - INFO - root -   eval_loss after step 1300: 0.04719587219388861: \n",
      "01/28/2021 04:39:18 - INFO - root -   eval_roc_auc after step 1300: 0.9884418744343328: \n",
      "01/28/2021 04:39:18 - INFO - root -   eval_fbeta after step 1300: 0.9271871447563171: \n",
      "01/28/2021 04:39:18 - INFO - root -   lr after step 1300: 1.53920420531197e-05\n",
      "01/28/2021 04:39:18 - INFO - root -   train_loss after step 1300: 0.04342538930475712\n",
      "01/28/2021 04:39:26 - INFO - root -   Running evaluation\n",
      "01/28/2021 04:39:26 - INFO - root -     Num examples = 1204\n",
      "01/28/2021 04:39:26 - INFO - root -     Batch size = 16\n"
     ]
    },
    {
     "data": {
      "text/html": [
       "\n",
       "    <div>\n",
       "        <style>\n",
       "            /* Turns off some styling */\n",
       "            progress {\n",
       "                /* gets rid of default border in Firefox and Opera. */\n",
       "                border: none;\n",
       "                /* Needs to be in here for Safari polyfill so background images work as expected. */\n",
       "                background-size: auto;\n",
       "            }\n",
       "            .progress-bar-interrupted, .progress-bar-interrupted::-webkit-progress-bar {\n",
       "                background: #F44336;\n",
       "            }\n",
       "        </style>\n",
       "      <progress value='76' class='' max='76' style='width:300px; height:20px; vertical-align: middle;'></progress>\n",
       "      100.00% [76/76 00:02<00:00]\n",
       "    </div>\n",
       "    "
      ],
      "text/plain": [
       "<IPython.core.display.HTML object>"
      ]
     },
     "metadata": {},
     "output_type": "display_data"
    },
    {
     "name": "stdout",
     "output_type": "stream",
     "text": [
      "01/28/2021 04:39:28 - INFO - root -   eval_loss after step 1350: 0.045753714432449716: \n",
      "01/28/2021 04:39:28 - INFO - root -   eval_roc_auc after step 1350: 0.9872523999459167: \n",
      "01/28/2021 04:39:28 - INFO - root -   eval_fbeta after step 1350: 0.9336932897567749: \n",
      "01/28/2021 04:39:28 - INFO - root -   lr after step 1350: 1.4854784621452176e-05\n",
      "01/28/2021 04:39:28 - INFO - root -   train_loss after step 1350: 0.04548741973936558\n",
      "01/28/2021 04:39:36 - INFO - root -   Running evaluation\n",
      "01/28/2021 04:39:36 - INFO - root -     Num examples = 1204\n",
      "01/28/2021 04:39:36 - INFO - root -     Batch size = 16\n"
     ]
    },
    {
     "data": {
      "text/html": [
       "\n",
       "    <div>\n",
       "        <style>\n",
       "            /* Turns off some styling */\n",
       "            progress {\n",
       "                /* gets rid of default border in Firefox and Opera. */\n",
       "                border: none;\n",
       "                /* Needs to be in here for Safari polyfill so background images work as expected. */\n",
       "                background-size: auto;\n",
       "            }\n",
       "            .progress-bar-interrupted, .progress-bar-interrupted::-webkit-progress-bar {\n",
       "                background: #F44336;\n",
       "            }\n",
       "        </style>\n",
       "      <progress value='76' class='' max='76' style='width:300px; height:20px; vertical-align: middle;'></progress>\n",
       "      100.00% [76/76 00:02<00:00]\n",
       "    </div>\n",
       "    "
      ],
      "text/plain": [
       "<IPython.core.display.HTML object>"
      ]
     },
     "metadata": {},
     "output_type": "display_data"
    },
    {
     "name": "stdout",
     "output_type": "stream",
     "text": [
      "01/28/2021 04:39:39 - INFO - root -   eval_loss after step 1400: 0.044698607666712055: \n",
      "01/28/2021 04:39:39 - INFO - root -   eval_roc_auc after step 1400: 0.9884780262497103: \n",
      "01/28/2021 04:39:39 - INFO - root -   eval_fbeta after step 1400: 0.9328626990318298: \n",
      "01/28/2021 04:39:39 - INFO - root -   lr after step 1400: 1.4298519885248574e-05\n",
      "01/28/2021 04:39:39 - INFO - root -   train_loss after step 1400: 0.04218574002385139\n",
      "01/28/2021 04:39:46 - INFO - root -   Running evaluation\n",
      "01/28/2021 04:39:46 - INFO - root -     Num examples = 1204\n",
      "01/28/2021 04:39:46 - INFO - root -     Batch size = 16\n"
     ]
    },
    {
     "data": {
      "text/html": [
       "\n",
       "    <div>\n",
       "        <style>\n",
       "            /* Turns off some styling */\n",
       "            progress {\n",
       "                /* gets rid of default border in Firefox and Opera. */\n",
       "                border: none;\n",
       "                /* Needs to be in here for Safari polyfill so background images work as expected. */\n",
       "                background-size: auto;\n",
       "            }\n",
       "            .progress-bar-interrupted, .progress-bar-interrupted::-webkit-progress-bar {\n",
       "                background: #F44336;\n",
       "            }\n",
       "        </style>\n",
       "      <progress value='76' class='' max='76' style='width:300px; height:20px; vertical-align: middle;'></progress>\n",
       "      100.00% [76/76 00:02<00:00]\n",
       "    </div>\n",
       "    "
      ],
      "text/plain": [
       "<IPython.core.display.HTML object>"
      ]
     },
     "metadata": {},
     "output_type": "display_data"
    },
    {
     "name": "stdout",
     "output_type": "stream",
     "text": [
      "01/28/2021 04:39:49 - INFO - root -   eval_loss after step 1450: 0.04344997743732835: \n",
      "01/28/2021 04:39:49 - INFO - root -   eval_roc_auc after step 1450: 0.9892361580584099: \n",
      "01/28/2021 04:39:49 - INFO - root -   eval_fbeta after step 1450: 0.9338316917419434: \n",
      "01/28/2021 04:39:49 - INFO - root -   lr after step 1450: 1.3725425715221625e-05\n",
      "01/28/2021 04:39:49 - INFO - root -   train_loss after step 1450: 0.03933308586478233\n",
      "01/28/2021 04:39:56 - INFO - root -   Running evaluation\n",
      "01/28/2021 04:39:56 - INFO - root -     Num examples = 1204\n",
      "01/28/2021 04:39:56 - INFO - root -     Batch size = 16\n"
     ]
    },
    {
     "data": {
      "text/html": [
       "\n",
       "    <div>\n",
       "        <style>\n",
       "            /* Turns off some styling */\n",
       "            progress {\n",
       "                /* gets rid of default border in Firefox and Opera. */\n",
       "                border: none;\n",
       "                /* Needs to be in here for Safari polyfill so background images work as expected. */\n",
       "                background-size: auto;\n",
       "            }\n",
       "            .progress-bar-interrupted, .progress-bar-interrupted::-webkit-progress-bar {\n",
       "                background: #F44336;\n",
       "            }\n",
       "        </style>\n",
       "      <progress value='76' class='' max='76' style='width:300px; height:20px; vertical-align: middle;'></progress>\n",
       "      100.00% [76/76 00:02<00:00]\n",
       "    </div>\n",
       "    "
      ],
      "text/plain": [
       "<IPython.core.display.HTML object>"
      ]
     },
     "metadata": {},
     "output_type": "display_data"
    },
    {
     "name": "stdout",
     "output_type": "stream",
     "text": [
      "01/28/2021 04:39:59 - INFO - root -   eval_loss after step 1500: 0.041188222062038746: \n",
      "01/28/2021 04:39:59 - INFO - root -   eval_roc_auc after step 1500: 0.9898793240761692: \n",
      "01/28/2021 04:39:59 - INFO - root -   eval_fbeta after step 1500: 0.9381229281425476: \n",
      "01/28/2021 04:39:59 - INFO - root -   lr after step 1500: 1.3137745872169578e-05\n",
      "01/28/2021 04:39:59 - INFO - root -   train_loss after step 1500: 0.03965264949947596\n",
      "01/28/2021 04:40:07 - INFO - root -   Running evaluation\n",
      "01/28/2021 04:40:07 - INFO - root -     Num examples = 1204\n",
      "01/28/2021 04:40:07 - INFO - root -     Batch size = 16\n"
     ]
    },
    {
     "data": {
      "text/html": [
       "\n",
       "    <div>\n",
       "        <style>\n",
       "            /* Turns off some styling */\n",
       "            progress {\n",
       "                /* gets rid of default border in Firefox and Opera. */\n",
       "                border: none;\n",
       "                /* Needs to be in here for Safari polyfill so background images work as expected. */\n",
       "                background-size: auto;\n",
       "            }\n",
       "            .progress-bar-interrupted, .progress-bar-interrupted::-webkit-progress-bar {\n",
       "                background: #F44336;\n",
       "            }\n",
       "        </style>\n",
       "      <progress value='76' class='' max='76' style='width:300px; height:20px; vertical-align: middle;'></progress>\n",
       "      100.00% [76/76 00:02<00:00]\n",
       "    </div>\n",
       "    "
      ],
      "text/plain": [
       "<IPython.core.display.HTML object>"
      ]
     },
     "metadata": {},
     "output_type": "display_data"
    },
    {
     "name": "stdout",
     "output_type": "stream",
     "text": [
      "01/28/2021 04:40:09 - INFO - root -   eval_loss after step 1550: 0.04027423331219899: \n",
      "01/28/2021 04:40:09 - INFO - root -   eval_roc_auc after step 1550: 0.9893772299008841: \n",
      "01/28/2021 04:40:09 - INFO - root -   eval_fbeta after step 1550: 0.9404761791229248: \n",
      "01/28/2021 04:40:09 - INFO - root -   lr after step 1550: 1.2537781222272423e-05\n",
      "01/28/2021 04:40:09 - INFO - root -   train_loss after step 1550: 0.037978324331343176\n",
      "01/28/2021 04:40:17 - INFO - root -   Running evaluation\n",
      "01/28/2021 04:40:17 - INFO - root -     Num examples = 1204\n",
      "01/28/2021 04:40:17 - INFO - root -     Batch size = 16\n"
     ]
    },
    {
     "data": {
      "text/html": [
       "\n",
       "    <div>\n",
       "        <style>\n",
       "            /* Turns off some styling */\n",
       "            progress {\n",
       "                /* gets rid of default border in Firefox and Opera. */\n",
       "                border: none;\n",
       "                /* Needs to be in here for Safari polyfill so background images work as expected. */\n",
       "                background-size: auto;\n",
       "            }\n",
       "            .progress-bar-interrupted, .progress-bar-interrupted::-webkit-progress-bar {\n",
       "                background: #F44336;\n",
       "            }\n",
       "        </style>\n",
       "      <progress value='76' class='' max='76' style='width:300px; height:20px; vertical-align: middle;'></progress>\n",
       "      100.00% [76/76 00:02<00:00]\n",
       "    </div>\n",
       "    "
      ],
      "text/plain": [
       "<IPython.core.display.HTML object>"
      ]
     },
     "metadata": {},
     "output_type": "display_data"
    },
    {
     "name": "stdout",
     "output_type": "stream",
     "text": [
      "01/28/2021 04:40:19 - INFO - root -   eval_loss after step 1600: 0.039617687267692464: \n",
      "01/28/2021 04:40:19 - INFO - root -   eval_roc_auc after step 1600: 0.9897320005780842: \n",
      "01/28/2021 04:40:19 - INFO - root -   eval_fbeta after step 1600: 0.9366002678871155: \n",
      "01/28/2021 04:40:19 - INFO - root -   lr after step 1600: 1.192788072881085e-05\n",
      "01/28/2021 04:40:19 - INFO - root -   train_loss after step 1600: 0.03683364074677229\n",
      "01/28/2021 04:40:27 - INFO - root -   Running evaluation\n",
      "01/28/2021 04:40:27 - INFO - root -     Num examples = 1204\n",
      "01/28/2021 04:40:27 - INFO - root -     Batch size = 16\n"
     ]
    },
    {
     "data": {
      "text/html": [
       "\n",
       "    <div>\n",
       "        <style>\n",
       "            /* Turns off some styling */\n",
       "            progress {\n",
       "                /* gets rid of default border in Firefox and Opera. */\n",
       "                border: none;\n",
       "                /* Needs to be in here for Safari polyfill so background images work as expected. */\n",
       "                background-size: auto;\n",
       "            }\n",
       "            .progress-bar-interrupted, .progress-bar-interrupted::-webkit-progress-bar {\n",
       "                background: #F44336;\n",
       "            }\n",
       "        </style>\n",
       "      <progress value='76' class='' max='76' style='width:300px; height:20px; vertical-align: middle;'></progress>\n",
       "      100.00% [76/76 00:02<00:00]\n",
       "    </div>\n",
       "    "
      ],
      "text/plain": [
       "<IPython.core.display.HTML object>"
      ]
     },
     "metadata": {},
     "output_type": "display_data"
    },
    {
     "name": "stdout",
     "output_type": "stream",
     "text": [
      "01/28/2021 04:40:30 - INFO - root -   eval_loss after step 1650: 0.03711800005188898: \n",
      "01/28/2021 04:40:30 - INFO - root -   eval_roc_auc after step 1650: 0.9913710122197879: \n",
      "01/28/2021 04:40:30 - INFO - root -   eval_fbeta after step 1650: 0.9465670585632324: \n",
      "01/28/2021 04:40:30 - INFO - root -   lr after step 1650: 1.1310432255576944e-05\n",
      "01/28/2021 04:40:30 - INFO - root -   train_loss after step 1650: 0.033932859599590304\n",
      "01/28/2021 04:40:37 - INFO - root -   Running evaluation\n",
      "01/28/2021 04:40:37 - INFO - root -     Num examples = 1204\n",
      "01/28/2021 04:40:37 - INFO - root -     Batch size = 16\n"
     ]
    },
    {
     "data": {
      "text/html": [
       "\n",
       "    <div>\n",
       "        <style>\n",
       "            /* Turns off some styling */\n",
       "            progress {\n",
       "                /* gets rid of default border in Firefox and Opera. */\n",
       "                border: none;\n",
       "                /* Needs to be in here for Safari polyfill so background images work as expected. */\n",
       "                background-size: auto;\n",
       "            }\n",
       "            .progress-bar-interrupted, .progress-bar-interrupted::-webkit-progress-bar {\n",
       "                background: #F44336;\n",
       "            }\n",
       "        </style>\n",
       "      <progress value='76' class='' max='76' style='width:300px; height:20px; vertical-align: middle;'></progress>\n",
       "      100.00% [76/76 00:02<00:00]\n",
       "    </div>\n",
       "    "
      ],
      "text/plain": [
       "<IPython.core.display.HTML object>"
      ]
     },
     "metadata": {},
     "output_type": "display_data"
    },
    {
     "name": "stdout",
     "output_type": "stream",
     "text": [
      "01/28/2021 04:40:40 - INFO - root -   eval_loss after step 1700: 0.03658032012907298: \n",
      "01/28/2021 04:40:40 - INFO - root -   eval_roc_auc after step 1700: 0.9902234238239646: \n",
      "01/28/2021 04:40:40 - INFO - root -   eval_fbeta after step 1700: 0.9491971135139465: \n",
      "01/28/2021 04:40:40 - INFO - root -   lr after step 1700: 1.068785321798276e-05\n",
      "01/28/2021 04:40:40 - INFO - root -   train_loss after step 1700: 0.035445322692394254\n",
      "01/28/2021 04:40:47 - INFO - root -   Running evaluation\n",
      "01/28/2021 04:40:47 - INFO - root -     Num examples = 1204\n",
      "01/28/2021 04:40:47 - INFO - root -     Batch size = 16\n"
     ]
    },
    {
     "data": {
      "text/html": [
       "\n",
       "    <div>\n",
       "        <style>\n",
       "            /* Turns off some styling */\n",
       "            progress {\n",
       "                /* gets rid of default border in Firefox and Opera. */\n",
       "                border: none;\n",
       "                /* Needs to be in here for Safari polyfill so background images work as expected. */\n",
       "                background-size: auto;\n",
       "            }\n",
       "            .progress-bar-interrupted, .progress-bar-interrupted::-webkit-progress-bar {\n",
       "                background: #F44336;\n",
       "            }\n",
       "        </style>\n",
       "      <progress value='76' class='' max='76' style='width:300px; height:20px; vertical-align: middle;'></progress>\n",
       "      100.00% [76/76 00:02<00:00]\n",
       "    </div>\n",
       "    "
      ],
      "text/plain": [
       "<IPython.core.display.HTML object>"
      ]
     },
     "metadata": {},
     "output_type": "display_data"
    },
    {
     "name": "stdout",
     "output_type": "stream",
     "text": [
      "01/28/2021 04:40:50 - INFO - root -   eval_loss after step 1750: 0.035652642726506055: \n",
      "01/28/2021 04:40:50 - INFO - root -   eval_roc_auc after step 1750: 0.9923182458319998: \n",
      "01/28/2021 04:40:50 - INFO - root -   eval_fbeta after step 1750: 0.9503045678138733: \n",
      "01/28/2021 04:40:50 - INFO - root -   lr after step 1750: 1.00625811184693e-05\n",
      "01/28/2021 04:40:50 - INFO - root -   train_loss after step 1750: 0.03270571980625391\n",
      "01/28/2021 04:40:58 - INFO - root -   Running evaluation\n",
      "01/28/2021 04:40:58 - INFO - root -     Num examples = 1204\n",
      "01/28/2021 04:40:58 - INFO - root -     Batch size = 16\n"
     ]
    },
    {
     "data": {
      "text/html": [
       "\n",
       "    <div>\n",
       "        <style>\n",
       "            /* Turns off some styling */\n",
       "            progress {\n",
       "                /* gets rid of default border in Firefox and Opera. */\n",
       "                border: none;\n",
       "                /* Needs to be in here for Safari polyfill so background images work as expected. */\n",
       "                background-size: auto;\n",
       "            }\n",
       "            .progress-bar-interrupted, .progress-bar-interrupted::-webkit-progress-bar {\n",
       "                background: #F44336;\n",
       "            }\n",
       "        </style>\n",
       "      <progress value='76' class='' max='76' style='width:300px; height:20px; vertical-align: middle;'></progress>\n",
       "      100.00% [76/76 00:02<00:00]\n",
       "    </div>\n",
       "    "
      ],
      "text/plain": [
       "<IPython.core.display.HTML object>"
      ]
     },
     "metadata": {},
     "output_type": "display_data"
    },
    {
     "name": "stdout",
     "output_type": "stream",
     "text": [
      "01/28/2021 04:41:00 - INFO - root -   eval_loss after step 1800: 0.035589409011759256: \n",
      "01/28/2021 04:41:00 - INFO - root -   eval_roc_auc after step 1800: 0.9914612516349156: \n",
      "01/28/2021 04:41:00 - INFO - root -   eval_fbeta after step 1800: 0.9457364678382874: \n",
      "01/28/2021 04:41:00 - INFO - root -   lr after step 1800: 9.437064003271373e-06\n",
      "01/28/2021 04:41:00 - INFO - root -   train_loss after step 1800: 0.0313181371986866\n",
      "01/28/2021 04:41:01 - INFO - root -   Running evaluation\n",
      "01/28/2021 04:41:01 - INFO - root -     Num examples = 1204\n",
      "01/28/2021 04:41:01 - INFO - root -     Batch size = 16\n"
     ]
    },
    {
     "data": {
      "text/html": [
       "\n",
       "    <div>\n",
       "        <style>\n",
       "            /* Turns off some styling */\n",
       "            progress {\n",
       "                /* gets rid of default border in Firefox and Opera. */\n",
       "                border: none;\n",
       "                /* Needs to be in here for Safari polyfill so background images work as expected. */\n",
       "                background-size: auto;\n",
       "            }\n",
       "            .progress-bar-interrupted, .progress-bar-interrupted::-webkit-progress-bar {\n",
       "                background: #F44336;\n",
       "            }\n",
       "        </style>\n",
       "      <progress value='76' class='' max='76' style='width:300px; height:20px; vertical-align: middle;'></progress>\n",
       "      100.00% [76/76 00:02<00:00]\n",
       "    </div>\n",
       "    "
      ],
      "text/plain": [
       "<IPython.core.display.HTML object>"
      ]
     },
     "metadata": {},
     "output_type": "display_data"
    },
    {
     "name": "stdout",
     "output_type": "stream",
     "text": [
      "01/28/2021 04:41:04 - INFO - root -   eval_loss after epoch 3: 0.035751489236166605: \n",
      "01/28/2021 04:41:04 - INFO - root -   eval_roc_auc after epoch 3: 0.991375797969945: \n",
      "01/28/2021 04:41:04 - INFO - root -   eval_fbeta after epoch 3: 0.9403378367424011: \n",
      "01/28/2021 04:41:04 - INFO - root -   lr after epoch 3: 9.362101835290386e-06\n",
      "01/28/2021 04:41:04 - INFO - root -   train_loss after epoch 3: 0.03870446077142641\n",
      "01/28/2021 04:41:04 - INFO - root -   \n",
      "\n",
      "01/28/2021 04:41:10 - INFO - root -   Running evaluation\n",
      "01/28/2021 04:41:10 - INFO - root -     Num examples = 1204\n",
      "01/28/2021 04:41:10 - INFO - root -     Batch size = 16\n"
     ]
    },
    {
     "data": {
      "text/html": [
       "\n",
       "    <div>\n",
       "        <style>\n",
       "            /* Turns off some styling */\n",
       "            progress {\n",
       "                /* gets rid of default border in Firefox and Opera. */\n",
       "                border: none;\n",
       "                /* Needs to be in here for Safari polyfill so background images work as expected. */\n",
       "                background-size: auto;\n",
       "            }\n",
       "            .progress-bar-interrupted, .progress-bar-interrupted::-webkit-progress-bar {\n",
       "                background: #F44336;\n",
       "            }\n",
       "        </style>\n",
       "      <progress value='76' class='' max='76' style='width:300px; height:20px; vertical-align: middle;'></progress>\n",
       "      100.00% [76/76 00:02<00:00]\n",
       "    </div>\n",
       "    "
      ],
      "text/plain": [
       "<IPython.core.display.HTML object>"
      ]
     },
     "metadata": {},
     "output_type": "display_data"
    },
    {
     "name": "stdout",
     "output_type": "stream",
     "text": [
      "01/28/2021 04:41:13 - INFO - root -   eval_loss after step 1850: 0.03601240244154867: \n",
      "01/28/2021 04:41:13 - INFO - root -   eval_roc_auc after step 1850: 0.991257533891734: \n",
      "01/28/2021 04:41:13 - INFO - root -   eval_fbeta after step 1850: 0.939784049987793: \n",
      "01/28/2021 04:41:13 - INFO - root -   lr after step 1850: 8.813750877901723e-06\n",
      "01/28/2021 04:41:13 - INFO - root -   train_loss after step 1850: 0.02699692752212286\n",
      "01/28/2021 04:41:21 - INFO - root -   Running evaluation\n",
      "01/28/2021 04:41:21 - INFO - root -     Num examples = 1204\n",
      "01/28/2021 04:41:21 - INFO - root -     Batch size = 16\n"
     ]
    },
    {
     "data": {
      "text/html": [
       "\n",
       "    <div>\n",
       "        <style>\n",
       "            /* Turns off some styling */\n",
       "            progress {\n",
       "                /* gets rid of default border in Firefox and Opera. */\n",
       "                border: none;\n",
       "                /* Needs to be in here for Safari polyfill so background images work as expected. */\n",
       "                background-size: auto;\n",
       "            }\n",
       "            .progress-bar-interrupted, .progress-bar-interrupted::-webkit-progress-bar {\n",
       "                background: #F44336;\n",
       "            }\n",
       "        </style>\n",
       "      <progress value='76' class='' max='76' style='width:300px; height:20px; vertical-align: middle;'></progress>\n",
       "      100.00% [76/76 00:02<00:00]\n",
       "    </div>\n",
       "    "
      ],
      "text/plain": [
       "<IPython.core.display.HTML object>"
      ]
     },
     "metadata": {},
     "output_type": "display_data"
    },
    {
     "name": "stdout",
     "output_type": "stream",
     "text": [
      "01/28/2021 04:41:23 - INFO - root -   eval_loss after step 1900: 0.034437219906402264: \n",
      "01/28/2021 04:41:23 - INFO - root -   eval_roc_auc after step 1900: 0.9922437649004978: \n",
      "01/28/2021 04:41:23 - INFO - root -   eval_fbeta after step 1900: 0.9461517333984375: \n",
      "01/28/2021 04:41:23 - INFO - root -   lr after step 1900: 8.195082118879397e-06\n",
      "01/28/2021 04:41:23 - INFO - root -   train_loss after step 1900: 0.02809737253934145\n",
      "01/28/2021 04:41:31 - INFO - root -   Running evaluation\n",
      "01/28/2021 04:41:31 - INFO - root -     Num examples = 1204\n",
      "01/28/2021 04:41:31 - INFO - root -     Batch size = 16\n"
     ]
    },
    {
     "data": {
      "text/html": [
       "\n",
       "    <div>\n",
       "        <style>\n",
       "            /* Turns off some styling */\n",
       "            progress {\n",
       "                /* gets rid of default border in Firefox and Opera. */\n",
       "                border: none;\n",
       "                /* Needs to be in here for Safari polyfill so background images work as expected. */\n",
       "                background-size: auto;\n",
       "            }\n",
       "            .progress-bar-interrupted, .progress-bar-interrupted::-webkit-progress-bar {\n",
       "                background: #F44336;\n",
       "            }\n",
       "        </style>\n",
       "      <progress value='76' class='' max='76' style='width:300px; height:20px; vertical-align: middle;'></progress>\n",
       "      100.00% [76/76 00:02<00:00]\n",
       "    </div>\n",
       "    "
      ],
      "text/plain": [
       "<IPython.core.display.HTML object>"
      ]
     },
     "metadata": {},
     "output_type": "display_data"
    },
    {
     "name": "stdout",
     "output_type": "stream",
     "text": [
      "01/28/2021 04:41:34 - INFO - root -   eval_loss after step 1950: 0.03358637472908748: \n",
      "01/28/2021 04:41:34 - INFO - root -   eval_roc_auc after step 1950: 0.992359118725235: \n",
      "01/28/2021 04:41:34 - INFO - root -   eval_fbeta after step 1950: 0.9444906115531921: \n",
      "01/28/2021 04:41:34 - INFO - root -   lr after step 1950: 7.583479919242108e-06\n",
      "01/28/2021 04:41:34 - INFO - root -   train_loss after step 1950: 0.026550163440406324\n",
      "01/28/2021 04:41:41 - INFO - root -   Running evaluation\n",
      "01/28/2021 04:41:41 - INFO - root -     Num examples = 1204\n",
      "01/28/2021 04:41:41 - INFO - root -     Batch size = 16\n"
     ]
    },
    {
     "data": {
      "text/html": [
       "\n",
       "    <div>\n",
       "        <style>\n",
       "            /* Turns off some styling */\n",
       "            progress {\n",
       "                /* gets rid of default border in Firefox and Opera. */\n",
       "                border: none;\n",
       "                /* Needs to be in here for Safari polyfill so background images work as expected. */\n",
       "                background-size: auto;\n",
       "            }\n",
       "            .progress-bar-interrupted, .progress-bar-interrupted::-webkit-progress-bar {\n",
       "                background: #F44336;\n",
       "            }\n",
       "        </style>\n",
       "      <progress value='76' class='' max='76' style='width:300px; height:20px; vertical-align: middle;'></progress>\n",
       "      100.00% [76/76 00:02<00:00]\n",
       "    </div>\n",
       "    "
      ],
      "text/plain": [
       "<IPython.core.display.HTML object>"
      ]
     },
     "metadata": {},
     "output_type": "display_data"
    },
    {
     "name": "stdout",
     "output_type": "stream",
     "text": [
      "01/28/2021 04:41:44 - INFO - root -   eval_loss after step 2000: 0.03305141667002126: \n",
      "01/28/2021 04:41:44 - INFO - root -   eval_roc_auc after step 2000: 0.9915556085197734: \n",
      "01/28/2021 04:41:44 - INFO - root -   eval_fbeta after step 2000: 0.9508582353591919: \n",
      "01/28/2021 04:41:44 - INFO - root -   lr after step 2000: 6.981338805250015e-06\n",
      "01/28/2021 04:41:44 - INFO - root -   train_loss after step 2000: 0.025228937193751334\n",
      "01/28/2021 04:41:51 - INFO - root -   Running evaluation\n",
      "01/28/2021 04:41:51 - INFO - root -     Num examples = 1204\n",
      "01/28/2021 04:41:51 - INFO - root -     Batch size = 16\n"
     ]
    },
    {
     "data": {
      "text/html": [
       "\n",
       "    <div>\n",
       "        <style>\n",
       "            /* Turns off some styling */\n",
       "            progress {\n",
       "                /* gets rid of default border in Firefox and Opera. */\n",
       "                border: none;\n",
       "                /* Needs to be in here for Safari polyfill so background images work as expected. */\n",
       "                background-size: auto;\n",
       "            }\n",
       "            .progress-bar-interrupted, .progress-bar-interrupted::-webkit-progress-bar {\n",
       "                background: #F44336;\n",
       "            }\n",
       "        </style>\n",
       "      <progress value='76' class='' max='76' style='width:300px; height:20px; vertical-align: middle;'></progress>\n",
       "      100.00% [76/76 00:02<00:00]\n",
       "    </div>\n",
       "    "
      ],
      "text/plain": [
       "<IPython.core.display.HTML object>"
      ]
     },
     "metadata": {},
     "output_type": "display_data"
    },
    {
     "name": "stdout",
     "output_type": "stream",
     "text": [
      "01/28/2021 04:41:54 - INFO - root -   eval_loss after step 2050: 0.031870404356404355: \n",
      "01/28/2021 04:41:54 - INFO - root -   eval_roc_auc after step 2050: 0.992631928041633: \n",
      "01/28/2021 04:41:54 - INFO - root -   eval_fbeta after step 2050: 0.9541805386543274: \n",
      "01/28/2021 04:41:54 - INFO - root -   lr after step 2050: 6.39101626140959e-06\n",
      "01/28/2021 04:41:54 - INFO - root -   train_loss after step 2050: 0.02553174551576376\n",
      "01/28/2021 04:42:02 - INFO - root -   Running evaluation\n",
      "01/28/2021 04:42:02 - INFO - root -     Num examples = 1204\n",
      "01/28/2021 04:42:02 - INFO - root -     Batch size = 16\n"
     ]
    },
    {
     "data": {
      "text/html": [
       "\n",
       "    <div>\n",
       "        <style>\n",
       "            /* Turns off some styling */\n",
       "            progress {\n",
       "                /* gets rid of default border in Firefox and Opera. */\n",
       "                border: none;\n",
       "                /* Needs to be in here for Safari polyfill so background images work as expected. */\n",
       "                background-size: auto;\n",
       "            }\n",
       "            .progress-bar-interrupted, .progress-bar-interrupted::-webkit-progress-bar {\n",
       "                background: #F44336;\n",
       "            }\n",
       "        </style>\n",
       "      <progress value='76' class='' max='76' style='width:300px; height:20px; vertical-align: middle;'></progress>\n",
       "      100.00% [76/76 00:02<00:00]\n",
       "    </div>\n",
       "    "
      ],
      "text/plain": [
       "<IPython.core.display.HTML object>"
      ]
     },
     "metadata": {},
     "output_type": "display_data"
    },
    {
     "name": "stdout",
     "output_type": "stream",
     "text": [
      "01/28/2021 04:42:04 - INFO - root -   eval_loss after step 2100: 0.03169361548498273: \n",
      "01/28/2021 04:42:04 - INFO - root -   eval_roc_auc after step 2100: 0.9921179126058212: \n",
      "01/28/2021 04:42:04 - INFO - root -   eval_fbeta after step 2100: 0.9501661062240601: \n",
      "01/28/2021 04:42:04 - INFO - root -   lr after step 2100: 5.81482350052226e-06\n",
      "01/28/2021 04:42:04 - INFO - root -   train_loss after step 2100: 0.021434589102864266\n",
      "01/28/2021 04:42:12 - INFO - root -   Running evaluation\n",
      "01/28/2021 04:42:12 - INFO - root -     Num examples = 1204\n",
      "01/28/2021 04:42:12 - INFO - root -     Batch size = 16\n"
     ]
    },
    {
     "data": {
      "text/html": [
       "\n",
       "    <div>\n",
       "        <style>\n",
       "            /* Turns off some styling */\n",
       "            progress {\n",
       "                /* gets rid of default border in Firefox and Opera. */\n",
       "                border: none;\n",
       "                /* Needs to be in here for Safari polyfill so background images work as expected. */\n",
       "                background-size: auto;\n",
       "            }\n",
       "            .progress-bar-interrupted, .progress-bar-interrupted::-webkit-progress-bar {\n",
       "                background: #F44336;\n",
       "            }\n",
       "        </style>\n",
       "      <progress value='76' class='' max='76' style='width:300px; height:20px; vertical-align: middle;'></progress>\n",
       "      100.00% [76/76 00:02<00:00]\n",
       "    </div>\n",
       "    "
      ],
      "text/plain": [
       "<IPython.core.display.HTML object>"
      ]
     },
     "metadata": {},
     "output_type": "display_data"
    },
    {
     "name": "stdout",
     "output_type": "stream",
     "text": [
      "01/28/2021 04:42:15 - INFO - root -   eval_loss after step 2150: 0.03196194103771919: \n",
      "01/28/2021 04:42:15 - INFO - root -   eval_roc_auc after step 2150: 0.9921428976708314: \n",
      "01/28/2021 04:42:15 - INFO - root -   eval_fbeta after step 2150: 0.9497507810592651: \n",
      "01/28/2021 04:42:15 - INFO - root -   lr after step 2150: 5.255016414894616e-06\n",
      "01/28/2021 04:42:15 - INFO - root -   train_loss after step 2150: 0.023726005852222443\n",
      "01/28/2021 04:42:22 - INFO - root -   Running evaluation\n",
      "01/28/2021 04:42:22 - INFO - root -     Num examples = 1204\n",
      "01/28/2021 04:42:22 - INFO - root -     Batch size = 16\n"
     ]
    },
    {
     "data": {
      "text/html": [
       "\n",
       "    <div>\n",
       "        <style>\n",
       "            /* Turns off some styling */\n",
       "            progress {\n",
       "                /* gets rid of default border in Firefox and Opera. */\n",
       "                border: none;\n",
       "                /* Needs to be in here for Safari polyfill so background images work as expected. */\n",
       "                background-size: auto;\n",
       "            }\n",
       "            .progress-bar-interrupted, .progress-bar-interrupted::-webkit-progress-bar {\n",
       "                background: #F44336;\n",
       "            }\n",
       "        </style>\n",
       "      <progress value='76' class='' max='76' style='width:300px; height:20px; vertical-align: middle;'></progress>\n",
       "      100.00% [76/76 00:02<00:00]\n",
       "    </div>\n",
       "    "
      ],
      "text/plain": [
       "<IPython.core.display.HTML object>"
      ]
     },
     "metadata": {},
     "output_type": "display_data"
    },
    {
     "name": "stdout",
     "output_type": "stream",
     "text": [
      "01/28/2021 04:42:25 - INFO - root -   eval_loss after step 2200: 0.03180375874140545: \n",
      "01/28/2021 04:42:25 - INFO - root -   eval_roc_auc after step 2200: 0.9921702756109203: \n",
      "01/28/2021 04:42:25 - INFO - root -   eval_fbeta after step 2200: 0.9446290135383606: \n",
      "01/28/2021 04:42:25 - INFO - root -   lr after step 2200: 4.71378674413771e-06\n",
      "01/28/2021 04:42:25 - INFO - root -   train_loss after step 2200: 0.022446390688419342\n",
      "01/28/2021 04:42:33 - INFO - root -   Running evaluation\n",
      "01/28/2021 04:42:33 - INFO - root -     Num examples = 1204\n",
      "01/28/2021 04:42:33 - INFO - root -     Batch size = 16\n"
     ]
    },
    {
     "data": {
      "text/html": [
       "\n",
       "    <div>\n",
       "        <style>\n",
       "            /* Turns off some styling */\n",
       "            progress {\n",
       "                /* gets rid of default border in Firefox and Opera. */\n",
       "                border: none;\n",
       "                /* Needs to be in here for Safari polyfill so background images work as expected. */\n",
       "                background-size: auto;\n",
       "            }\n",
       "            .progress-bar-interrupted, .progress-bar-interrupted::-webkit-progress-bar {\n",
       "                background: #F44336;\n",
       "            }\n",
       "        </style>\n",
       "      <progress value='76' class='' max='76' style='width:300px; height:20px; vertical-align: middle;'></progress>\n",
       "      100.00% [76/76 00:02<00:00]\n",
       "    </div>\n",
       "    "
      ],
      "text/plain": [
       "<IPython.core.display.HTML object>"
      ]
     },
     "metadata": {},
     "output_type": "display_data"
    },
    {
     "name": "stdout",
     "output_type": "stream",
     "text": [
      "01/28/2021 04:42:35 - INFO - root -   eval_loss after step 2250: 0.031815965929509776: \n",
      "01/28/2021 04:42:35 - INFO - root -   eval_roc_auc after step 2250: 0.9917829316522444: \n",
      "01/28/2021 04:42:35 - INFO - root -   eval_fbeta after step 2250: 0.9485049843788147: \n",
      "01/28/2021 04:42:35 - INFO - root -   lr after step 2250: 4.1932534941350545e-06\n",
      "01/28/2021 04:42:35 - INFO - root -   train_loss after step 2250: 0.023889829628169535\n",
      "01/28/2021 04:42:43 - INFO - root -   Running evaluation\n",
      "01/28/2021 04:42:43 - INFO - root -     Num examples = 1204\n",
      "01/28/2021 04:42:43 - INFO - root -     Batch size = 16\n"
     ]
    },
    {
     "data": {
      "text/html": [
       "\n",
       "    <div>\n",
       "        <style>\n",
       "            /* Turns off some styling */\n",
       "            progress {\n",
       "                /* gets rid of default border in Firefox and Opera. */\n",
       "                border: none;\n",
       "                /* Needs to be in here for Safari polyfill so background images work as expected. */\n",
       "                background-size: auto;\n",
       "            }\n",
       "            .progress-bar-interrupted, .progress-bar-interrupted::-webkit-progress-bar {\n",
       "                background: #F44336;\n",
       "            }\n",
       "        </style>\n",
       "      <progress value='76' class='' max='76' style='width:300px; height:20px; vertical-align: middle;'></progress>\n",
       "      100.00% [76/76 00:02<00:00]\n",
       "    </div>\n",
       "    "
      ],
      "text/plain": [
       "<IPython.core.display.HTML object>"
      ]
     },
     "metadata": {},
     "output_type": "display_data"
    },
    {
     "name": "stdout",
     "output_type": "stream",
     "text": [
      "01/28/2021 04:42:46 - INFO - root -   eval_loss after step 2300: 0.03211450302287152: \n",
      "01/28/2021 04:42:46 - INFO - root -   eval_roc_auc after step 2300: 0.9912486091144137: \n",
      "01/28/2021 04:42:46 - INFO - root -   eval_fbeta after step 2300: 0.9467054605484009: \n",
      "01/28/2021 04:42:46 - INFO - root -   lr after step 2300: 3.69545464077548e-06\n",
      "01/28/2021 04:42:46 - INFO - root -   train_loss after step 2300: 0.024360059909522534\n",
      "01/28/2021 04:42:53 - INFO - root -   Running evaluation\n",
      "01/28/2021 04:42:53 - INFO - root -     Num examples = 1204\n",
      "01/28/2021 04:42:53 - INFO - root -     Batch size = 16\n"
     ]
    },
    {
     "data": {
      "text/html": [
       "\n",
       "    <div>\n",
       "        <style>\n",
       "            /* Turns off some styling */\n",
       "            progress {\n",
       "                /* gets rid of default border in Firefox and Opera. */\n",
       "                border: none;\n",
       "                /* Needs to be in here for Safari polyfill so background images work as expected. */\n",
       "                background-size: auto;\n",
       "            }\n",
       "            .progress-bar-interrupted, .progress-bar-interrupted::-webkit-progress-bar {\n",
       "                background: #F44336;\n",
       "            }\n",
       "        </style>\n",
       "      <progress value='76' class='' max='76' style='width:300px; height:20px; vertical-align: middle;'></progress>\n",
       "      100.00% [76/76 00:02<00:00]\n",
       "    </div>\n",
       "    "
      ],
      "text/plain": [
       "<IPython.core.display.HTML object>"
      ]
     },
     "metadata": {},
     "output_type": "display_data"
    },
    {
     "name": "stdout",
     "output_type": "stream",
     "text": [
      "01/28/2021 04:42:56 - INFO - root -   eval_loss after step 2350: 0.031636179939500596: \n",
      "01/28/2021 04:42:56 - INFO - root -   eval_roc_auc after step 2350: 0.9919567492356597: \n",
      "01/28/2021 04:42:56 - INFO - root -   eval_fbeta after step 2350: 0.946290135383606: \n",
      "01/28/2021 04:42:56 - INFO - root -   lr after step 2350: 3.2223391509321335e-06\n",
      "01/28/2021 04:42:56 - INFO - root -   train_loss after step 2350: 0.02182407971471548\n",
      "01/28/2021 04:43:03 - INFO - root -   Running evaluation\n",
      "01/28/2021 04:43:03 - INFO - root -     Num examples = 1204\n",
      "01/28/2021 04:43:03 - INFO - root -     Batch size = 16\n"
     ]
    },
    {
     "data": {
      "text/html": [
       "\n",
       "    <div>\n",
       "        <style>\n",
       "            /* Turns off some styling */\n",
       "            progress {\n",
       "                /* gets rid of default border in Firefox and Opera. */\n",
       "                border: none;\n",
       "                /* Needs to be in here for Safari polyfill so background images work as expected. */\n",
       "                background-size: auto;\n",
       "            }\n",
       "            .progress-bar-interrupted, .progress-bar-interrupted::-webkit-progress-bar {\n",
       "                background: #F44336;\n",
       "            }\n",
       "        </style>\n",
       "      <progress value='76' class='' max='76' style='width:300px; height:20px; vertical-align: middle;'></progress>\n",
       "      100.00% [76/76 00:02<00:00]\n",
       "    </div>\n",
       "    "
      ],
      "text/plain": [
       "<IPython.core.display.HTML object>"
      ]
     },
     "metadata": {},
     "output_type": "display_data"
    },
    {
     "name": "stdout",
     "output_type": "stream",
     "text": [
      "01/28/2021 04:43:06 - INFO - root -   eval_loss after step 2400: 0.030959977474259704: \n",
      "01/28/2021 04:43:06 - INFO - root -   eval_roc_auc after step 2400: 0.9923110672067637: \n",
      "01/28/2021 04:43:06 - INFO - root -   eval_fbeta after step 2400: 0.9458748698234558: \n",
      "01/28/2021 04:43:06 - INFO - root -   lr after step 2400: 2.7757593519269088e-06\n",
      "01/28/2021 04:43:06 - INFO - root -   train_loss after step 2400: 0.021097109653055668\n",
      "01/28/2021 04:43:07 - INFO - root -   Running evaluation\n",
      "01/28/2021 04:43:07 - INFO - root -     Num examples = 1204\n",
      "01/28/2021 04:43:07 - INFO - root -     Batch size = 16\n"
     ]
    },
    {
     "data": {
      "text/html": [
       "\n",
       "    <div>\n",
       "        <style>\n",
       "            /* Turns off some styling */\n",
       "            progress {\n",
       "                /* gets rid of default border in Firefox and Opera. */\n",
       "                border: none;\n",
       "                /* Needs to be in here for Safari polyfill so background images work as expected. */\n",
       "                background-size: auto;\n",
       "            }\n",
       "            .progress-bar-interrupted, .progress-bar-interrupted::-webkit-progress-bar {\n",
       "                background: #F44336;\n",
       "            }\n",
       "        </style>\n",
       "      <progress value='76' class='' max='76' style='width:300px; height:20px; vertical-align: middle;'></progress>\n",
       "      100.00% [76/76 00:02<00:00]\n",
       "    </div>\n",
       "    "
      ],
      "text/plain": [
       "<IPython.core.display.HTML object>"
      ]
     },
     "metadata": {},
     "output_type": "display_data"
    },
    {
     "name": "stdout",
     "output_type": "stream",
     "text": [
      "01/28/2021 04:43:10 - INFO - root -   eval_loss after epoch 4: 0.030945909993821068: \n",
      "01/28/2021 04:43:10 - INFO - root -   eval_roc_auc after epoch 4: 0.99229765848335: \n",
      "01/28/2021 04:43:10 - INFO - root -   eval_fbeta after epoch 4: 0.9461517333984375: \n",
      "01/28/2021 04:43:10 - INFO - root -   lr after epoch 4: 2.706887439265179e-06\n",
      "01/28/2021 04:43:10 - INFO - root -   train_loss after epoch 4: 0.02407210770734521\n",
      "01/28/2021 04:43:10 - INFO - root -   \n",
      "\n",
      "01/28/2021 04:43:17 - INFO - root -   Running evaluation\n",
      "01/28/2021 04:43:17 - INFO - root -     Num examples = 1204\n",
      "01/28/2021 04:43:17 - INFO - root -     Batch size = 16\n"
     ]
    },
    {
     "data": {
      "text/html": [
       "\n",
       "    <div>\n",
       "        <style>\n",
       "            /* Turns off some styling */\n",
       "            progress {\n",
       "                /* gets rid of default border in Firefox and Opera. */\n",
       "                border: none;\n",
       "                /* Needs to be in here for Safari polyfill so background images work as expected. */\n",
       "                background-size: auto;\n",
       "            }\n",
       "            .progress-bar-interrupted, .progress-bar-interrupted::-webkit-progress-bar {\n",
       "                background: #F44336;\n",
       "            }\n",
       "        </style>\n",
       "      <progress value='76' class='' max='76' style='width:300px; height:20px; vertical-align: middle;'></progress>\n",
       "      100.00% [76/76 00:02<00:00]\n",
       "    </div>\n",
       "    "
      ],
      "text/plain": [
       "<IPython.core.display.HTML object>"
      ]
     },
     "metadata": {},
     "output_type": "display_data"
    },
    {
     "name": "stdout",
     "output_type": "stream",
     "text": [
      "01/28/2021 04:43:19 - INFO - root -   eval_loss after step 2450: 0.030711444879048748: \n",
      "01/28/2021 04:43:19 - INFO - root -   eval_roc_auc after step 2450: 0.9920826662026357: \n",
      "01/28/2021 04:43:19 - INFO - root -   eval_fbeta after step 2450: 0.9465670585632324: \n",
      "01/28/2021 04:43:19 - INFO - root -   lr after step 2450: 2.3574636793550363e-06\n",
      "01/28/2021 04:43:19 - INFO - root -   train_loss after step 2450: 0.019477992467582226\n",
      "01/28/2021 04:43:27 - INFO - root -   Running evaluation\n",
      "01/28/2021 04:43:27 - INFO - root -     Num examples = 1204\n",
      "01/28/2021 04:43:27 - INFO - root -     Batch size = 16\n"
     ]
    },
    {
     "data": {
      "text/html": [
       "\n",
       "    <div>\n",
       "        <style>\n",
       "            /* Turns off some styling */\n",
       "            progress {\n",
       "                /* gets rid of default border in Firefox and Opera. */\n",
       "                border: none;\n",
       "                /* Needs to be in here for Safari polyfill so background images work as expected. */\n",
       "                background-size: auto;\n",
       "            }\n",
       "            .progress-bar-interrupted, .progress-bar-interrupted::-webkit-progress-bar {\n",
       "                background: #F44336;\n",
       "            }\n",
       "        </style>\n",
       "      <progress value='76' class='' max='76' style='width:300px; height:20px; vertical-align: middle;'></progress>\n",
       "      100.00% [76/76 00:02<00:00]\n",
       "    </div>\n",
       "    "
      ],
      "text/plain": [
       "<IPython.core.display.HTML object>"
      ]
     },
     "metadata": {},
     "output_type": "display_data"
    },
    {
     "name": "stdout",
     "output_type": "stream",
     "text": [
      "01/28/2021 04:43:30 - INFO - root -   eval_loss after step 2500: 0.030454500357767467: \n",
      "01/28/2021 04:43:30 - INFO - root -   eval_roc_auc after step 2500: 0.9921981062571053: \n",
      "01/28/2021 04:43:30 - INFO - root -   eval_fbeta after step 2500: 0.9468438029289246: \n",
      "01/28/2021 04:43:30 - INFO - root -   lr after step 2500: 1.969089831663443e-06\n",
      "01/28/2021 04:43:30 - INFO - root -   train_loss after step 2500: 0.021762838326394557\n",
      "01/28/2021 04:43:37 - INFO - root -   Running evaluation\n",
      "01/28/2021 04:43:37 - INFO - root -     Num examples = 1204\n",
      "01/28/2021 04:43:37 - INFO - root -     Batch size = 16\n"
     ]
    },
    {
     "data": {
      "text/html": [
       "\n",
       "    <div>\n",
       "        <style>\n",
       "            /* Turns off some styling */\n",
       "            progress {\n",
       "                /* gets rid of default border in Firefox and Opera. */\n",
       "                border: none;\n",
       "                /* Needs to be in here for Safari polyfill so background images work as expected. */\n",
       "                background-size: auto;\n",
       "            }\n",
       "            .progress-bar-interrupted, .progress-bar-interrupted::-webkit-progress-bar {\n",
       "                background: #F44336;\n",
       "            }\n",
       "        </style>\n",
       "      <progress value='76' class='' max='76' style='width:300px; height:20px; vertical-align: middle;'></progress>\n",
       "      100.00% [76/76 00:02<00:00]\n",
       "    </div>\n",
       "    "
      ],
      "text/plain": [
       "<IPython.core.display.HTML object>"
      ]
     },
     "metadata": {},
     "output_type": "display_data"
    },
    {
     "name": "stdout",
     "output_type": "stream",
     "text": [
      "01/28/2021 04:43:40 - INFO - root -   eval_loss after step 2550: 0.03049850270250126: \n",
      "01/28/2021 04:43:40 - INFO - root -   eval_roc_auc after step 2550: 0.9921042236357767: \n",
      "01/28/2021 04:43:40 - INFO - root -   eval_fbeta after step 2550: 0.9472591280937195: \n",
      "01/28/2021 04:43:40 - INFO - root -   lr after step 2550: 1.6121583582837773e-06\n",
      "01/28/2021 04:43:40 - INFO - root -   train_loss after step 2550: 0.019031947925686837\n",
      "01/28/2021 04:43:47 - INFO - root -   Running evaluation\n",
      "01/28/2021 04:43:47 - INFO - root -     Num examples = 1204\n",
      "01/28/2021 04:43:47 - INFO - root -     Batch size = 16\n"
     ]
    },
    {
     "data": {
      "text/html": [
       "\n",
       "    <div>\n",
       "        <style>\n",
       "            /* Turns off some styling */\n",
       "            progress {\n",
       "                /* gets rid of default border in Firefox and Opera. */\n",
       "                border: none;\n",
       "                /* Needs to be in here for Safari polyfill so background images work as expected. */\n",
       "                background-size: auto;\n",
       "            }\n",
       "            .progress-bar-interrupted, .progress-bar-interrupted::-webkit-progress-bar {\n",
       "                background: #F44336;\n",
       "            }\n",
       "        </style>\n",
       "      <progress value='76' class='' max='76' style='width:300px; height:20px; vertical-align: middle;'></progress>\n",
       "      100.00% [76/76 00:02<00:00]\n",
       "    </div>\n",
       "    "
      ],
      "text/plain": [
       "<IPython.core.display.HTML object>"
      ]
     },
     "metadata": {},
     "output_type": "display_data"
    },
    {
     "name": "stdout",
     "output_type": "stream",
     "text": [
      "01/28/2021 04:43:50 - INFO - root -   eval_loss after step 2600: 0.030166273127849166: \n",
      "01/28/2021 04:43:50 - INFO - root -   eval_roc_auc after step 2600: 0.9920567757254336: \n",
      "01/28/2021 04:43:50 - INFO - root -   eval_fbeta after step 2600: 0.9465670585632324: \n",
      "01/28/2021 04:43:50 - INFO - root -   lr after step 2600: 1.2880667064237006e-06\n",
      "01/28/2021 04:43:50 - INFO - root -   train_loss after step 2600: 0.020100504495203494\n",
      "01/28/2021 04:43:58 - INFO - root -   Running evaluation\n",
      "01/28/2021 04:43:58 - INFO - root -     Num examples = 1204\n",
      "01/28/2021 04:43:58 - INFO - root -     Batch size = 16\n"
     ]
    },
    {
     "data": {
      "text/html": [
       "\n",
       "    <div>\n",
       "        <style>\n",
       "            /* Turns off some styling */\n",
       "            progress {\n",
       "                /* gets rid of default border in Firefox and Opera. */\n",
       "                border: none;\n",
       "                /* Needs to be in here for Safari polyfill so background images work as expected. */\n",
       "                background-size: auto;\n",
       "            }\n",
       "            .progress-bar-interrupted, .progress-bar-interrupted::-webkit-progress-bar {\n",
       "                background: #F44336;\n",
       "            }\n",
       "        </style>\n",
       "      <progress value='76' class='' max='76' style='width:300px; height:20px; vertical-align: middle;'></progress>\n",
       "      100.00% [76/76 00:02<00:00]\n",
       "    </div>\n",
       "    "
      ],
      "text/plain": [
       "<IPython.core.display.HTML object>"
      ]
     },
     "metadata": {},
     "output_type": "display_data"
    },
    {
     "name": "stdout",
     "output_type": "stream",
     "text": [
      "01/28/2021 04:44:00 - INFO - root -   eval_loss after step 2650: 0.02991869457458195: \n",
      "01/28/2021 04:44:00 - INFO - root -   eval_roc_auc after step 2650: 0.9921554225394863: \n",
      "01/28/2021 04:44:00 - INFO - root -   eval_fbeta after step 2650: 0.9478129148483276: \n",
      "01/28/2021 04:44:00 - INFO - root -   lr after step 2650: 9.980837498242357e-07\n",
      "01/28/2021 04:44:00 - INFO - root -   train_loss after step 2650: 0.020597930401563644\n",
      "01/28/2021 04:44:08 - INFO - root -   Running evaluation\n",
      "01/28/2021 04:44:08 - INFO - root -     Num examples = 1204\n",
      "01/28/2021 04:44:08 - INFO - root -     Batch size = 16\n"
     ]
    },
    {
     "data": {
      "text/html": [
       "\n",
       "    <div>\n",
       "        <style>\n",
       "            /* Turns off some styling */\n",
       "            progress {\n",
       "                /* gets rid of default border in Firefox and Opera. */\n",
       "                border: none;\n",
       "                /* Needs to be in here for Safari polyfill so background images work as expected. */\n",
       "                background-size: auto;\n",
       "            }\n",
       "            .progress-bar-interrupted, .progress-bar-interrupted::-webkit-progress-bar {\n",
       "                background: #F44336;\n",
       "            }\n",
       "        </style>\n",
       "      <progress value='76' class='' max='76' style='width:300px; height:20px; vertical-align: middle;'></progress>\n",
       "      100.00% [76/76 00:02<00:00]\n",
       "    </div>\n",
       "    "
      ],
      "text/plain": [
       "<IPython.core.display.HTML object>"
      ]
     },
     "metadata": {},
     "output_type": "display_data"
    },
    {
     "name": "stdout",
     "output_type": "stream",
     "text": [
      "01/28/2021 04:44:10 - INFO - root -   eval_loss after step 2700: 0.029961324738044488: \n",
      "01/28/2021 04:44:10 - INFO - root -   eval_roc_auc after step 2700: 0.9920153423389367: \n",
      "01/28/2021 04:44:10 - INFO - root -   eval_fbeta after step 2700: 0.9476743936538696: \n",
      "01/28/2021 04:44:10 - INFO - root -   lr after step 2700: 7.433448209040495e-07\n",
      "01/28/2021 04:44:10 - INFO - root -   train_loss after step 2700: 0.01921854604035616\n",
      "01/28/2021 04:44:18 - INFO - root -   Running evaluation\n",
      "01/28/2021 04:44:18 - INFO - root -     Num examples = 1204\n",
      "01/28/2021 04:44:18 - INFO - root -     Batch size = 16\n"
     ]
    },
    {
     "data": {
      "text/html": [
       "\n",
       "    <div>\n",
       "        <style>\n",
       "            /* Turns off some styling */\n",
       "            progress {\n",
       "                /* gets rid of default border in Firefox and Opera. */\n",
       "                border: none;\n",
       "                /* Needs to be in here for Safari polyfill so background images work as expected. */\n",
       "                background-size: auto;\n",
       "            }\n",
       "            .progress-bar-interrupted, .progress-bar-interrupted::-webkit-progress-bar {\n",
       "                background: #F44336;\n",
       "            }\n",
       "        </style>\n",
       "      <progress value='76' class='' max='76' style='width:300px; height:20px; vertical-align: middle;'></progress>\n",
       "      100.00% [76/76 00:02<00:00]\n",
       "    </div>\n",
       "    "
      ],
      "text/plain": [
       "<IPython.core.display.HTML object>"
      ]
     },
     "metadata": {},
     "output_type": "display_data"
    },
    {
     "name": "stdout",
     "output_type": "stream",
     "text": [
      "01/28/2021 04:44:21 - INFO - root -   eval_loss after step 2750: 0.02984997699968517: \n",
      "01/28/2021 04:44:21 - INFO - root -   eval_roc_auc after step 2750: 0.9919968245038684: \n",
      "01/28/2021 04:44:21 - INFO - root -   eval_fbeta after step 2750: 0.9476743936538696: \n",
      "01/28/2021 04:44:21 - INFO - root -   lr after step 2750: 5.248472657406123e-07\n",
      "01/28/2021 04:44:21 - INFO - root -   train_loss after step 2750: 0.019625074714422226\n",
      "01/28/2021 04:44:28 - INFO - root -   Running evaluation\n",
      "01/28/2021 04:44:28 - INFO - root -     Num examples = 1204\n",
      "01/28/2021 04:44:28 - INFO - root -     Batch size = 16\n"
     ]
    },
    {
     "data": {
      "text/html": [
       "\n",
       "    <div>\n",
       "        <style>\n",
       "            /* Turns off some styling */\n",
       "            progress {\n",
       "                /* gets rid of default border in Firefox and Opera. */\n",
       "                border: none;\n",
       "                /* Needs to be in here for Safari polyfill so background images work as expected. */\n",
       "                background-size: auto;\n",
       "            }\n",
       "            .progress-bar-interrupted, .progress-bar-interrupted::-webkit-progress-bar {\n",
       "                background: #F44336;\n",
       "            }\n",
       "        </style>\n",
       "      <progress value='76' class='' max='76' style='width:300px; height:20px; vertical-align: middle;'></progress>\n",
       "      100.00% [76/76 00:02<00:00]\n",
       "    </div>\n",
       "    "
      ],
      "text/plain": [
       "<IPython.core.display.HTML object>"
      ]
     },
     "metadata": {},
     "output_type": "display_data"
    },
    {
     "name": "stdout",
     "output_type": "stream",
     "text": [
      "01/28/2021 04:44:31 - INFO - root -   eval_loss after step 2800: 0.029849436930625847: \n",
      "01/28/2021 04:44:31 - INFO - root -   eval_roc_auc after step 2800: 0.9919844936521119: \n",
      "01/28/2021 04:44:31 - INFO - root -   eval_fbeta after step 2800: 0.9476743936538696: \n",
      "01/28/2021 04:44:31 - INFO - root -   lr after step 2800: 3.4344653929129554e-07\n",
      "01/28/2021 04:44:31 - INFO - root -   train_loss after step 2800: 0.01917021904140711\n",
      "01/28/2021 04:44:38 - INFO - root -   Running evaluation\n",
      "01/28/2021 04:44:38 - INFO - root -     Num examples = 1204\n",
      "01/28/2021 04:44:38 - INFO - root -     Batch size = 16\n"
     ]
    },
    {
     "data": {
      "text/html": [
       "\n",
       "    <div>\n",
       "        <style>\n",
       "            /* Turns off some styling */\n",
       "            progress {\n",
       "                /* gets rid of default border in Firefox and Opera. */\n",
       "                border: none;\n",
       "                /* Needs to be in here for Safari polyfill so background images work as expected. */\n",
       "                background-size: auto;\n",
       "            }\n",
       "            .progress-bar-interrupted, .progress-bar-interrupted::-webkit-progress-bar {\n",
       "                background: #F44336;\n",
       "            }\n",
       "        </style>\n",
       "      <progress value='76' class='' max='76' style='width:300px; height:20px; vertical-align: middle;'></progress>\n",
       "      100.00% [76/76 00:02<00:00]\n",
       "    </div>\n",
       "    "
      ],
      "text/plain": [
       "<IPython.core.display.HTML object>"
      ]
     },
     "metadata": {},
     "output_type": "display_data"
    },
    {
     "name": "stdout",
     "output_type": "stream",
     "text": [
      "01/28/2021 04:44:41 - INFO - root -   eval_loss after step 2850: 0.029879701446349684: \n",
      "01/28/2021 04:44:41 - INFO - root -   eval_roc_auc after step 2850: 0.9919633242527676: \n",
      "01/28/2021 04:44:41 - INFO - root -   eval_fbeta after step 2850: 0.9489202499389648: \n",
      "01/28/2021 04:44:41 - INFO - root -   lr after step 2850: 1.998528561422297e-07\n",
      "01/28/2021 04:44:41 - INFO - root -   train_loss after step 2850: 0.020477211847901345\n",
      "01/28/2021 04:44:48 - INFO - root -   Running evaluation\n",
      "01/28/2021 04:44:48 - INFO - root -     Num examples = 1204\n",
      "01/28/2021 04:44:48 - INFO - root -     Batch size = 16\n"
     ]
    },
    {
     "data": {
      "text/html": [
       "\n",
       "    <div>\n",
       "        <style>\n",
       "            /* Turns off some styling */\n",
       "            progress {\n",
       "                /* gets rid of default border in Firefox and Opera. */\n",
       "                border: none;\n",
       "                /* Needs to be in here for Safari polyfill so background images work as expected. */\n",
       "                background-size: auto;\n",
       "            }\n",
       "            .progress-bar-interrupted, .progress-bar-interrupted::-webkit-progress-bar {\n",
       "                background: #F44336;\n",
       "            }\n",
       "        </style>\n",
       "      <progress value='76' class='' max='76' style='width:300px; height:20px; vertical-align: middle;'></progress>\n",
       "      100.00% [76/76 00:02<00:00]\n",
       "    </div>\n",
       "    "
      ],
      "text/plain": [
       "<IPython.core.display.HTML object>"
      ]
     },
     "metadata": {},
     "output_type": "display_data"
    },
    {
     "name": "stdout",
     "output_type": "stream",
     "text": [
      "01/28/2021 04:44:51 - INFO - root -   eval_loss after step 2900: 0.02988111608857779: \n",
      "01/28/2021 04:44:51 - INFO - root -   eval_roc_auc after step 2900: 0.9919594439148022: \n",
      "01/28/2021 04:44:51 - INFO - root -   eval_fbeta after step 2900: 0.9496124386787415: \n",
      "01/28/2021 04:44:51 - INFO - root -   lr after step 2900: 9.462840989784671e-08\n",
      "01/28/2021 04:44:51 - INFO - root -   train_loss after step 2900: 0.018227386325597762\n",
      "01/28/2021 04:44:59 - INFO - root -   Running evaluation\n",
      "01/28/2021 04:44:59 - INFO - root -     Num examples = 1204\n",
      "01/28/2021 04:44:59 - INFO - root -     Batch size = 16\n"
     ]
    },
    {
     "data": {
      "text/html": [
       "\n",
       "    <div>\n",
       "        <style>\n",
       "            /* Turns off some styling */\n",
       "            progress {\n",
       "                /* gets rid of default border in Firefox and Opera. */\n",
       "                border: none;\n",
       "                /* Needs to be in here for Safari polyfill so background images work as expected. */\n",
       "                background-size: auto;\n",
       "            }\n",
       "            .progress-bar-interrupted, .progress-bar-interrupted::-webkit-progress-bar {\n",
       "                background: #F44336;\n",
       "            }\n",
       "        </style>\n",
       "      <progress value='76' class='' max='76' style='width:300px; height:20px; vertical-align: middle;'></progress>\n",
       "      100.00% [76/76 00:02<00:00]\n",
       "    </div>\n",
       "    "
      ],
      "text/plain": [
       "<IPython.core.display.HTML object>"
      ]
     },
     "metadata": {},
     "output_type": "display_data"
    },
    {
     "name": "stdout",
     "output_type": "stream",
     "text": [
      "01/28/2021 04:45:01 - INFO - root -   eval_loss after step 2950: 0.029869659521960114: \n",
      "01/28/2021 04:45:01 - INFO - root -   eval_roc_auc after step 2950: 0.9919664069657067: \n",
      "01/28/2021 04:45:01 - INFO - root -   eval_fbeta after step 2950: 0.9489202499389648: \n",
      "01/28/2021 04:45:01 - INFO - root -   lr after step 2950: 2.8185172097641156e-08\n",
      "01/28/2021 04:45:01 - INFO - root -   train_loss after step 2950: 0.020805617086589335\n",
      "01/28/2021 04:45:09 - INFO - root -   Running evaluation\n",
      "01/28/2021 04:45:09 - INFO - root -     Num examples = 1204\n",
      "01/28/2021 04:45:09 - INFO - root -     Batch size = 16\n"
     ]
    },
    {
     "data": {
      "text/html": [
       "\n",
       "    <div>\n",
       "        <style>\n",
       "            /* Turns off some styling */\n",
       "            progress {\n",
       "                /* gets rid of default border in Firefox and Opera. */\n",
       "                border: none;\n",
       "                /* Needs to be in here for Safari polyfill so background images work as expected. */\n",
       "                background-size: auto;\n",
       "            }\n",
       "            .progress-bar-interrupted, .progress-bar-interrupted::-webkit-progress-bar {\n",
       "                background: #F44336;\n",
       "            }\n",
       "        </style>\n",
       "      <progress value='76' class='' max='76' style='width:300px; height:20px; vertical-align: middle;'></progress>\n",
       "      100.00% [76/76 00:02<00:00]\n",
       "    </div>\n",
       "    "
      ],
      "text/plain": [
       "<IPython.core.display.HTML object>"
      ]
     },
     "metadata": {},
     "output_type": "display_data"
    },
    {
     "name": "stdout",
     "output_type": "stream",
     "text": [
      "01/28/2021 04:45:11 - INFO - root -   eval_loss after step 3000: 0.0298666662512053: \n",
      "01/28/2021 04:45:11 - INFO - root -   eval_roc_auc after step 3000: 0.9919736933781084: \n",
      "01/28/2021 04:45:11 - INFO - root -   eval_fbeta after step 3000: 0.9489202499389648: \n",
      "01/28/2021 04:45:11 - INFO - root -   lr after step 3000: 7.832792777739962e-10\n",
      "01/28/2021 04:45:11 - INFO - root -   train_loss after step 3000: 0.019669891633093357\n",
      "01/28/2021 04:45:13 - INFO - root -   Running evaluation\n",
      "01/28/2021 04:45:13 - INFO - root -     Num examples = 1204\n",
      "01/28/2021 04:45:13 - INFO - root -     Batch size = 16\n"
     ]
    },
    {
     "data": {
      "text/html": [
       "\n",
       "    <div>\n",
       "        <style>\n",
       "            /* Turns off some styling */\n",
       "            progress {\n",
       "                /* gets rid of default border in Firefox and Opera. */\n",
       "                border: none;\n",
       "                /* Needs to be in here for Safari polyfill so background images work as expected. */\n",
       "                background-size: auto;\n",
       "            }\n",
       "            .progress-bar-interrupted, .progress-bar-interrupted::-webkit-progress-bar {\n",
       "                background: #F44336;\n",
       "            }\n",
       "        </style>\n",
       "      <progress value='76' class='' max='76' style='width:300px; height:20px; vertical-align: middle;'></progress>\n",
       "      100.00% [76/76 00:02<00:00]\n",
       "    </div>\n",
       "    "
      ],
      "text/plain": [
       "<IPython.core.display.HTML object>"
      ]
     },
     "metadata": {},
     "output_type": "display_data"
    },
    {
     "name": "stdout",
     "output_type": "stream",
     "text": [
      "01/28/2021 04:45:15 - INFO - root -   eval_loss after epoch 5: 0.02986591499249794: \n",
      "01/28/2021 04:45:15 - INFO - root -   eval_roc_auc after epoch 5: 0.9919739736247392: \n",
      "01/28/2021 04:45:15 - INFO - root -   eval_fbeta after epoch 5: 0.9496124386787415: \n",
      "01/28/2021 04:45:15 - INFO - root -   lr after epoch 5: 0.0\n",
      "01/28/2021 04:45:15 - INFO - root -   train_loss after epoch 5: 0.019879615191135097\n",
      "01/28/2021 04:45:15 - INFO - root -   \n",
      "\n"
     ]
    },
    {
     "data": {
      "text/plain": [
       "(3010, 0.09138046053990079)"
      ]
     },
     "execution_count": 40,
     "metadata": {},
     "output_type": "execute_result"
    }
   ],
   "source": [
    "cl_learner.fit(epochs=5,# was 30\n",
    "            lr=2e-5,\n",
    "            validate=True,\n",
    "            schedule_type=\"warmup_cosine\",\n",
    "            optimizer_type=\"adamw\")\n",
    "#it's faster with optimizer !\n"
   ]
  },
  {
   "cell_type": "markdown",
   "metadata": {},
   "source": [
    "### The val result"
   ]
  },
  {
   "cell_type": "code",
   "execution_count": 41,
   "metadata": {},
   "outputs": [
    {
     "name": "stdout",
     "output_type": "stream",
     "text": [
      "01/28/2021 04:45:41 - INFO - root -   Running evaluation\n",
      "01/28/2021 04:45:41 - INFO - root -     Num examples = 1204\n",
      "01/28/2021 04:45:41 - INFO - root -     Batch size = 16\n"
     ]
    },
    {
     "data": {
      "text/html": [
       "\n",
       "    <div>\n",
       "        <style>\n",
       "            /* Turns off some styling */\n",
       "            progress {\n",
       "                /* gets rid of default border in Firefox and Opera. */\n",
       "                border: none;\n",
       "                /* Needs to be in here for Safari polyfill so background images work as expected. */\n",
       "                background-size: auto;\n",
       "            }\n",
       "            .progress-bar-interrupted, .progress-bar-interrupted::-webkit-progress-bar {\n",
       "                background: #F44336;\n",
       "            }\n",
       "        </style>\n",
       "      <progress value='76' class='' max='76' style='width:300px; height:20px; vertical-align: middle;'></progress>\n",
       "      100.00% [76/76 00:02<00:00]\n",
       "    </div>\n",
       "    "
      ],
      "text/plain": [
       "<IPython.core.display.HTML object>"
      ]
     },
     "metadata": {},
     "output_type": "display_data"
    },
    {
     "data": {
      "text/plain": [
       "{'loss': 0.02986591499249794,\n",
       " 'roc_auc': 0.9919739736247392,\n",
       " 'fbeta': 0.9496124386787415}"
      ]
     },
     "execution_count": 41,
     "metadata": {},
     "output_type": "execute_result"
    }
   ],
   "source": [
    "cl_learner.validate()"
   ]
  },
  {
   "cell_type": "markdown",
   "metadata": {},
   "source": [
    "### Save the model"
   ]
  },
  {
   "cell_type": "code",
   "execution_count": 42,
   "metadata": {},
   "outputs": [
    {
     "name": "stdout",
     "output_type": "stream",
     "text": [
      "01/28/2021 04:46:40 - INFO - transformers.configuration_utils -   Configuration saved in finetuned_models\\model_out\\config.json\n",
      "01/28/2021 04:46:41 - INFO - transformers.modeling_utils -   Model weights saved in finetuned_models\\model_out\\pytorch_model.bin\n"
     ]
    }
   ],
   "source": [
    "cl_learner.save_model()"
   ]
  },
  {
   "cell_type": "markdown",
   "metadata": {},
   "source": [
    "### Make a prediction"
   ]
  },
  {
   "cell_type": "code",
   "execution_count": 43,
   "metadata": {},
   "outputs": [
    {
     "name": "stdout",
     "output_type": "stream",
     "text": [
      "01/28/2021 04:46:52 - INFO - root -   Writing example 0 of 2\n"
     ]
    },
    {
     "name": "stderr",
     "output_type": "stream",
     "text": [
      "C:\\Users\\Raja\\Documents\\SJI\\tools\\anaconda3\\envs\\fast-camembert\\lib\\site-packages\\pandas\\core\\frame.py:1490: FutureWarning: Using short name for 'orient' is deprecated. Only the options: ('dict', list, 'series', 'split', 'records', 'index') will be used in a future version. Use one of the above to silence this warning.\n",
      "  FutureWarning,\n"
     ]
    },
    {
     "data": {
      "text/plain": [
       "[[('SDG_17', 0.057281494140625),\n",
       "  ('SDG_4', 0.0305023193359375),\n",
       "  ('SDG_11', 0.0129241943359375),\n",
       "  ('SDG_9', 0.01078033447265625),\n",
       "  ('SDG_14', 0.00894927978515625),\n",
       "  ('SDG_16', 0.00815582275390625),\n",
       "  ('SDG_12', 0.007205963134765625),\n",
       "  ('SDG_15', 0.00577545166015625),\n",
       "  ('SDG_5', 0.005664825439453125),\n",
       "  ('SDG_13', 0.005344390869140625),\n",
       "  ('SDG_3', 0.004520416259765625),\n",
       "  ('SDG_1', 0.004383087158203125),\n",
       "  ('SDG_10', 0.004383087158203125),\n",
       "  ('SDG_7', 0.004329681396484375),\n",
       "  ('SDG_6', 0.004150390625),\n",
       "  ('SDG_2', 0.003795623779296875),\n",
       "  ('SDG_8', 0.0023784637451171875)],\n",
       " [('SDG_1', 0.045257568359375),\n",
       "  ('SDG_4', 0.0210113525390625),\n",
       "  ('SDG_14', 0.0206451416015625),\n",
       "  ('SDG_12', 0.018646240234375),\n",
       "  ('SDG_16', 0.0136871337890625),\n",
       "  ('SDG_5', 0.01282501220703125),\n",
       "  ('SDG_17', 0.0110321044921875),\n",
       "  ('SDG_11', 0.007259368896484375),\n",
       "  ('SDG_8', 0.006290435791015625),\n",
       "  ('SDG_6', 0.005199432373046875),\n",
       "  ('SDG_15', 0.00511932373046875),\n",
       "  ('SDG_3', 0.004886627197265625),\n",
       "  ('SDG_13', 0.00464630126953125),\n",
       "  ('SDG_2', 0.004573822021484375),\n",
       "  ('SDG_9', 0.004364013671875),\n",
       "  ('SDG_10', 0.004299163818359375),\n",
       "  ('SDG_7', 0.0035648345947265625)]]"
      ]
     },
     "execution_count": 43,
     "metadata": {},
     "output_type": "execute_result"
    }
   ],
   "source": [
    "texts = ['I really love the Netflix original movies',\n",
    "\t\t 'this movie is not worth watching']\n",
    "cl_learner.predict_batch(texts)"
   ]
  },
  {
   "cell_type": "markdown",
   "metadata": {},
   "source": [
    "### Load the saved model to make a prediction"
   ]
  },
  {
   "cell_type": "code",
   "execution_count": 44,
   "metadata": {},
   "outputs": [],
   "source": [
    "del cl_learner"
   ]
  },
  {
   "cell_type": "code",
   "execution_count": 45,
   "metadata": {
    "tags": []
   },
   "outputs": [
    {
     "name": "stdout",
     "output_type": "stream",
     "text": [
      "01/28/2021 04:47:39 - INFO - transformers.configuration_utils -   loading configuration file finetuned_models/model_out\\config.json\n",
      "01/28/2021 04:47:39 - INFO - transformers.configuration_utils -   Model config BertConfig {\n",
      "  \"architectures\": [\n",
      "    \"BertForMultiLabelSequenceClassification\"\n",
      "  ],\n",
      "  \"attention_probs_dropout_prob\": 0.1,\n",
      "  \"gradient_checkpointing\": false,\n",
      "  \"hidden_act\": \"gelu\",\n",
      "  \"hidden_dropout_prob\": 0.1,\n",
      "  \"hidden_size\": 768,\n",
      "  \"id2label\": {\n",
      "    \"0\": \"LABEL_0\",\n",
      "    \"1\": \"LABEL_1\",\n",
      "    \"2\": \"LABEL_2\",\n",
      "    \"3\": \"LABEL_3\",\n",
      "    \"4\": \"LABEL_4\",\n",
      "    \"5\": \"LABEL_5\",\n",
      "    \"6\": \"LABEL_6\",\n",
      "    \"7\": \"LABEL_7\",\n",
      "    \"8\": \"LABEL_8\",\n",
      "    \"9\": \"LABEL_9\",\n",
      "    \"10\": \"LABEL_10\",\n",
      "    \"11\": \"LABEL_11\",\n",
      "    \"12\": \"LABEL_12\",\n",
      "    \"13\": \"LABEL_13\",\n",
      "    \"14\": \"LABEL_14\",\n",
      "    \"15\": \"LABEL_15\",\n",
      "    \"16\": \"LABEL_16\"\n",
      "  },\n",
      "  \"initializer_range\": 0.02,\n",
      "  \"intermediate_size\": 3072,\n",
      "  \"label2id\": {\n",
      "    \"LABEL_0\": 0,\n",
      "    \"LABEL_1\": 1,\n",
      "    \"LABEL_10\": 10,\n",
      "    \"LABEL_11\": 11,\n",
      "    \"LABEL_12\": 12,\n",
      "    \"LABEL_13\": 13,\n",
      "    \"LABEL_14\": 14,\n",
      "    \"LABEL_15\": 15,\n",
      "    \"LABEL_16\": 16,\n",
      "    \"LABEL_2\": 2,\n",
      "    \"LABEL_3\": 3,\n",
      "    \"LABEL_4\": 4,\n",
      "    \"LABEL_5\": 5,\n",
      "    \"LABEL_6\": 6,\n",
      "    \"LABEL_7\": 7,\n",
      "    \"LABEL_8\": 8,\n",
      "    \"LABEL_9\": 9\n",
      "  },\n",
      "  \"layer_norm_eps\": 1e-12,\n",
      "  \"max_position_embeddings\": 512,\n",
      "  \"model_type\": \"bert\",\n",
      "  \"num_attention_heads\": 12,\n",
      "  \"num_hidden_layers\": 12,\n",
      "  \"pad_token_id\": 0,\n",
      "  \"type_vocab_size\": 2,\n",
      "  \"vocab_size\": 28996\n",
      "}\n",
      "\n",
      "01/28/2021 04:47:39 - INFO - transformers.tokenization_utils_base -   Model name 'finetuned_models/model_out' not found in model shortcut name list (bert-base-uncased, bert-large-uncased, bert-base-cased, bert-large-cased, bert-base-multilingual-uncased, bert-base-multilingual-cased, bert-base-chinese, bert-base-german-cased, bert-large-uncased-whole-word-masking, bert-large-cased-whole-word-masking, bert-large-uncased-whole-word-masking-finetuned-squad, bert-large-cased-whole-word-masking-finetuned-squad, bert-base-cased-finetuned-mrpc, bert-base-german-dbmdz-cased, bert-base-german-dbmdz-uncased, TurkuNLP/bert-base-finnish-cased-v1, TurkuNLP/bert-base-finnish-uncased-v1, wietsedv/bert-base-dutch-cased). Assuming 'finetuned_models/model_out' is a path, a model identifier, or url to a directory containing tokenizer files.\n",
      "01/28/2021 04:47:39 - INFO - transformers.tokenization_utils_base -   Didn't find file finetuned_models/model_out\\added_tokens.json. We won't load it.\n",
      "01/28/2021 04:47:39 - INFO - transformers.tokenization_utils_base -   Didn't find file finetuned_models/model_out\\tokenizer.json. We won't load it.\n",
      "01/28/2021 04:47:39 - INFO - transformers.tokenization_utils_base -   loading file finetuned_models/model_out\\vocab.txt\n",
      "01/28/2021 04:47:39 - INFO - transformers.tokenization_utils_base -   loading file None\n",
      "01/28/2021 04:47:39 - INFO - transformers.tokenization_utils_base -   loading file finetuned_models/model_out\\special_tokens_map.json\n",
      "01/28/2021 04:47:39 - INFO - transformers.tokenization_utils_base -   loading file finetuned_models/model_out\\tokenizer_config.json\n",
      "01/28/2021 04:47:39 - INFO - transformers.tokenization_utils_base -   loading file None\n",
      "01/28/2021 04:47:39 - INFO - transformers.configuration_utils -   loading configuration file finetuned_models/model_out\\config.json\n",
      "01/28/2021 04:47:39 - INFO - transformers.configuration_utils -   Model config BertConfig {\n",
      "  \"architectures\": [\n",
      "    \"BertForMultiLabelSequenceClassification\"\n",
      "  ],\n",
      "  \"attention_probs_dropout_prob\": 0.1,\n",
      "  \"gradient_checkpointing\": false,\n",
      "  \"hidden_act\": \"gelu\",\n",
      "  \"hidden_dropout_prob\": 0.1,\n",
      "  \"hidden_size\": 768,\n",
      "  \"id2label\": {\n",
      "    \"0\": \"LABEL_0\",\n",
      "    \"1\": \"LABEL_1\",\n",
      "    \"2\": \"LABEL_2\",\n",
      "    \"3\": \"LABEL_3\",\n",
      "    \"4\": \"LABEL_4\",\n",
      "    \"5\": \"LABEL_5\",\n",
      "    \"6\": \"LABEL_6\",\n",
      "    \"7\": \"LABEL_7\",\n",
      "    \"8\": \"LABEL_8\",\n",
      "    \"9\": \"LABEL_9\",\n",
      "    \"10\": \"LABEL_10\",\n",
      "    \"11\": \"LABEL_11\",\n",
      "    \"12\": \"LABEL_12\",\n",
      "    \"13\": \"LABEL_13\",\n",
      "    \"14\": \"LABEL_14\",\n",
      "    \"15\": \"LABEL_15\",\n",
      "    \"16\": \"LABEL_16\"\n",
      "  },\n",
      "  \"initializer_range\": 0.02,\n",
      "  \"intermediate_size\": 3072,\n",
      "  \"label2id\": {\n",
      "    \"LABEL_0\": 0,\n",
      "    \"LABEL_1\": 1,\n",
      "    \"LABEL_10\": 10,\n",
      "    \"LABEL_11\": 11,\n",
      "    \"LABEL_12\": 12,\n",
      "    \"LABEL_13\": 13,\n",
      "    \"LABEL_14\": 14,\n",
      "    \"LABEL_15\": 15,\n",
      "    \"LABEL_16\": 16,\n",
      "    \"LABEL_2\": 2,\n",
      "    \"LABEL_3\": 3,\n",
      "    \"LABEL_4\": 4,\n",
      "    \"LABEL_5\": 5,\n",
      "    \"LABEL_6\": 6,\n",
      "    \"LABEL_7\": 7,\n",
      "    \"LABEL_8\": 8,\n",
      "    \"LABEL_9\": 9\n",
      "  },\n",
      "  \"layer_norm_eps\": 1e-12,\n",
      "  \"max_position_embeddings\": 512,\n",
      "  \"model_type\": \"bert\",\n",
      "  \"num_attention_heads\": 12,\n",
      "  \"num_hidden_layers\": 12,\n",
      "  \"pad_token_id\": 0,\n",
      "  \"type_vocab_size\": 2,\n",
      "  \"vocab_size\": 28996\n",
      "}\n",
      "\n",
      "01/28/2021 04:47:39 - INFO - transformers.modeling_utils -   loading weights file finetuned_models/model_out\\pytorch_model.bin\n",
      "01/28/2021 04:47:41 - INFO - transformers.modeling_utils -   All model checkpoint weights were used when initializing BertForMultiLabelSequenceClassification.\n",
      "\n",
      "01/28/2021 04:47:41 - INFO - transformers.modeling_utils -   All the weights of BertForMultiLabelSequenceClassification were initialized from the model checkpoint at finetuned_models/model_out.\n",
      "If your task is similar to the task the model of the ckeckpoint was trained on, you can already use BertForMultiLabelSequenceClassification for predictions without further training.\n"
     ]
    }
   ],
   "source": [
    "from fast_bert.prediction import BertClassificationPredictor\n",
    "\n",
    "predictor = BertClassificationPredictor(\n",
    "                model_path='finetuned_models/model_out',\n",
    "                label_path='labels/',\n",
    "                multi_label=True,\n",
    "                model_type='bert',\n",
    "                do_lower_case=False)\n"
   ]
  },
  {
   "cell_type": "code",
   "execution_count": 48,
   "metadata": {
    "tags": []
   },
   "outputs": [
    {
     "name": "stdout",
     "output_type": "stream",
     "text": [
      "01/28/2021 04:48:27 - INFO - root -   Writing example 0 of 1\n"
     ]
    },
    {
     "data": {
      "text/plain": [
       "[('SDG_17', 0.286376953125),\n",
       " ('SDG_6', 0.020843505859375),\n",
       " ('SDG_11', 0.0173797607421875),\n",
       " ('SDG_7', 0.01262664794921875),\n",
       " ('SDG_16', 0.01229095458984375),\n",
       " ('SDG_5', 0.0116424560546875),\n",
       " ('SDG_14', 0.01142120361328125),\n",
       " ('SDG_3', 0.01116180419921875),\n",
       " ('SDG_1', 0.00908660888671875),\n",
       " ('SDG_9', 0.00908660888671875),\n",
       " ('SDG_15', 0.00885009765625),\n",
       " ('SDG_12', 0.008575439453125),\n",
       " ('SDG_10', 0.007843017578125),\n",
       " ('SDG_13', 0.007038116455078125),\n",
       " ('SDG_4', 0.00690460205078125),\n",
       " ('SDG_2', 0.005489349365234375),\n",
       " ('SDG_8', 0.00428009033203125)]"
      ]
     },
     "execution_count": 48,
     "metadata": {},
     "output_type": "execute_result"
    }
   ],
   "source": [
    "# Single prediction\n",
    "predictor.predict(\"just get me result for this text\")\n"
   ]
  },
  {
   "cell_type": "code",
   "execution_count": 49,
   "metadata": {
    "tags": []
   },
   "outputs": [
    {
     "name": "stdout",
     "output_type": "stream",
     "text": [
      "01/28/2021 04:48:31 - INFO - root -   Writing example 0 of 1\n"
     ]
    },
    {
     "data": {
      "text/plain": [
       "[('SDG_2', 0.08465576171875),\n",
       " ('SDG_15', 0.02288818359375),\n",
       " ('SDG_12', 0.014556884765625),\n",
       " ('SDG_6', 0.0142822265625),\n",
       " ('SDG_11', 0.013427734375),\n",
       " ('SDG_17', 0.0119171142578125),\n",
       " ('SDG_5', 0.008544921875),\n",
       " ('SDG_4', 0.00609588623046875),\n",
       " ('SDG_14', 0.0058441162109375),\n",
       " ('SDG_3', 0.00582122802734375),\n",
       " ('SDG_7', 0.00577545166015625),\n",
       " ('SDG_13', 0.005619049072265625),\n",
       " ('SDG_10', 0.005428314208984375),\n",
       " ('SDG_8', 0.0050811767578125),\n",
       " ('SDG_9', 0.0041656494140625),\n",
       " ('SDG_1', 0.0035247802734375),\n",
       " ('SDG_16', 0.0033111572265625)]"
      ]
     },
     "execution_count": 49,
     "metadata": {},
     "output_type": "execute_result"
    }
   ],
   "source": [
    "# Case 0 ?\n",
    "predictor.predict(\"Hello Kitty likes apple pie\")\n"
   ]
  },
  {
   "cell_type": "code",
   "execution_count": 50,
   "metadata": {
    "tags": []
   },
   "outputs": [
    {
     "name": "stdout",
     "output_type": "stream",
     "text": [
      "01/28/2021 04:48:44 - INFO - root -   Writing example 0 of 1\n"
     ]
    },
    {
     "data": {
      "text/plain": [
       "[('SDG_11', 0.2418212890625),\n",
       " ('SDG_17', 0.0413818359375),\n",
       " ('SDG_16', 0.034698486328125),\n",
       " ('SDG_1', 0.0161590576171875),\n",
       " ('SDG_3', 0.0147857666015625),\n",
       " ('SDG_6', 0.0135345458984375),\n",
       " ('SDG_15', 0.01337432861328125),\n",
       " ('SDG_7', 0.0121917724609375),\n",
       " ('SDG_10', 0.01009368896484375),\n",
       " ('SDG_8', 0.00916290283203125),\n",
       " ('SDG_5', 0.00878143310546875),\n",
       " ('SDG_4', 0.008575439453125),\n",
       " ('SDG_13', 0.0053863525390625),\n",
       " ('SDG_14', 0.0053863525390625),\n",
       " ('SDG_9', 0.005321502685546875),\n",
       " ('SDG_2', 0.004505157470703125),\n",
       " ('SDG_12', 0.0028667449951171875)]"
      ]
     },
     "execution_count": 50,
     "metadata": {},
     "output_type": "execute_result"
    }
   ],
   "source": [
    "# Case 0 pls\n",
    "predictor.predict(\"Hello darkness my old friend\")"
   ]
  },
  {
   "cell_type": "code",
   "execution_count": 51,
   "metadata": {
    "tags": []
   },
   "outputs": [
    {
     "name": "stdout",
     "output_type": "stream",
     "text": [
      "01/28/2021 04:49:08 - INFO - root -   Writing example 0 of 1\n"
     ]
    },
    {
     "data": {
      "text/plain": [
       "[('SDG_13', 0.92431640625),\n",
       " ('SDG_2', 0.0251312255859375),\n",
       " ('SDG_1', 0.016845703125),\n",
       " ('SDG_3', 0.0125732421875),\n",
       " ('SDG_14', 0.01238250732421875),\n",
       " ('SDG_4', 0.0116424560546875),\n",
       " ('SDG_6', 0.0115509033203125),\n",
       " ('SDG_8', 0.01146697998046875),\n",
       " ('SDG_11', 0.01146697998046875),\n",
       " ('SDG_15', 0.01146697998046875),\n",
       " ('SDG_7', 0.01107025146484375),\n",
       " ('SDG_9', 0.0108184814453125),\n",
       " ('SDG_17', 0.010650634765625),\n",
       " ('SDG_16', 0.01061248779296875),\n",
       " ('SDG_12', 0.00997161865234375),\n",
       " ('SDG_5', 0.00945281982421875),\n",
       " ('SDG_10', 0.006412506103515625)]"
      ]
     },
     "execution_count": 51,
     "metadata": {},
     "output_type": "execute_result"
    }
   ],
   "source": [
    "predictor.predict(\"Climate change and its effects on human, animal and plant life is arguably one of the most pressing challenges currently facing humanity. Developing countries, specifically those dependent on commodities, are particularly vulnerable to climate change, but also, the commodities they produce affect the climate. On the one hand, extreme weather patterns such as heatwaves, floods, hurricanes and frequent seasonal abnormalities have been adversely affecting crop yields and fish production, and destroying infrastructure in the mining sector. On the other hand, clearance of forests for agricultural expansion, including rearing of livestock, and for mining and drilling projects for the extraction and use of fossil fuels, are the greatest sources of greenhouse gas (GHG) emissions that are largely responsible for climate change. \")"
   ]
  },
  {
   "cell_type": "code",
   "execution_count": 52,
   "metadata": {
    "tags": []
   },
   "outputs": [
    {
     "name": "stdout",
     "output_type": "stream",
     "text": [
      "01/28/2021 04:49:21 - INFO - root -   Writing example 0 of 1\n"
     ]
    },
    {
     "data": {
      "text/plain": [
       "[('SDG_12', 0.93115234375),\n",
       " ('SDG_9', 0.0241851806640625),\n",
       " ('SDG_8', 0.0165252685546875),\n",
       " ('SDG_1', 0.01495361328125),\n",
       " ('SDG_14', 0.01467132568359375),\n",
       " ('SDG_17', 0.01332855224609375),\n",
       " ('SDG_6', 0.012054443359375),\n",
       " ('SDG_4', 0.0118255615234375),\n",
       " ('SDG_2', 0.01177978515625),\n",
       " ('SDG_10', 0.01177978515625),\n",
       " ('SDG_11', 0.01016998291015625),\n",
       " ('SDG_3', 0.00997161865234375),\n",
       " ('SDG_15', 0.00933837890625),\n",
       " ('SDG_7', 0.007843017578125),\n",
       " ('SDG_13', 0.00734710693359375),\n",
       " ('SDG_5', 0.00626373291015625),\n",
       " ('SDG_16', 0.00586700439453125)]"
      ]
     },
     "execution_count": 52,
     "metadata": {},
     "output_type": "execute_result"
    }
   ],
   "source": [
    "#case only 12\n",
    "predictor.predict(\"Economic and require the production of goods and services that improve the quality of life. Sustainable and require minimizing the resources and toxic materials used, and the waste and pollutants generated, throughout the entire production and consumption process. \")"
   ]
  },
  {
   "cell_type": "code",
   "execution_count": 53,
   "metadata": {
    "tags": []
   },
   "outputs": [
    {
     "name": "stdout",
     "output_type": "stream",
     "text": [
      "01/28/2021 04:49:28 - INFO - root -   Writing example 0 of 1\n"
     ]
    },
    {
     "data": {
      "text/plain": [
       "[('SDG_3', 0.93994140625),\n",
       " ('SDG_2', 0.01512908935546875),\n",
       " ('SDG_4', 0.01512908935546875),\n",
       " ('SDG_17', 0.01406097412109375),\n",
       " ('SDG_10', 0.0135345458984375),\n",
       " ('SDG_16', 0.01282501220703125),\n",
       " ('SDG_5', 0.01242828369140625),\n",
       " ('SDG_13', 0.0121002197265625),\n",
       " ('SDG_8', 0.011962890625),\n",
       " ('SDG_14', 0.01116180419921875),\n",
       " ('SDG_9', 0.01029205322265625),\n",
       " ('SDG_1', 0.01024627685546875),\n",
       " ('SDG_11', 0.01016998291015625),\n",
       " ('SDG_12', 0.009521484375),\n",
       " ('SDG_7', 0.00905609130859375),\n",
       " ('SDG_15', 0.0082550048828125),\n",
       " ('SDG_6', 0.00806427001953125)]"
      ]
     },
     "execution_count": 53,
     "metadata": {},
     "output_type": "execute_result"
    }
   ],
   "source": [
    "#case 3 from the training set\n",
    "predictor.predict(\"niversal and -being in accordance with large gaps in men are crucial for tracer indicators for improving the global shortage of disaggregated needed to at all , health , and Public Health, Skills and utilization for 3.8.2. \")"
   ]
  },
  {
   "cell_type": "code",
   "execution_count": 54,
   "metadata": {
    "tags": []
   },
   "outputs": [
    {
     "name": "stdout",
     "output_type": "stream",
     "text": [
      "01/28/2021 04:49:33 - INFO - root -   Writing example 0 of 1\n"
     ]
    },
    {
     "data": {
      "text/plain": [
       "[('SDG_15', 0.93359375),\n",
       " ('SDG_11', 0.0167236328125),\n",
       " ('SDG_10', 0.015899658203125),\n",
       " ('SDG_7', 0.0144500732421875),\n",
       " ('SDG_5', 0.0136871337890625),\n",
       " ('SDG_12', 0.01233673095703125),\n",
       " ('SDG_1', 0.01214599609375),\n",
       " ('SDG_2', 0.011962890625),\n",
       " ('SDG_6', 0.0116424560546875),\n",
       " ('SDG_9', 0.01132965087890625),\n",
       " ('SDG_4', 0.0110321044921875),\n",
       " ('SDG_16', 0.01078033447265625),\n",
       " ('SDG_3', 0.0102081298828125),\n",
       " ('SDG_13', 0.0100555419921875),\n",
       " ('SDG_14', 0.00989532470703125),\n",
       " ('SDG_8', 0.00812530517578125),\n",
       " ('SDG_17', 0.00760650634765625)]"
      ]
     },
     "execution_count": 54,
     "metadata": {},
     "output_type": "execute_result"
    }
   ],
   "source": [
    "#case 15\n",
    "predictor.predict(\"By 2030, ensure the conservation of mountain ecosystems, their biodiversity, in order to enhance their capacity to provide that are essential for sustainable \")"
   ]
  },
  {
   "cell_type": "code",
   "execution_count": 55,
   "metadata": {
    "tags": []
   },
   "outputs": [
    {
     "name": "stdout",
     "output_type": "stream",
     "text": [
      "01/28/2021 04:49:37 - INFO - root -   Writing example 0 of 1\n"
     ]
    },
    {
     "data": {
      "text/plain": [
       "[('SDG_10', 0.90771484375),\n",
       " ('SDG_1', 0.0260009765625),\n",
       " ('SDG_8', 0.019561767578125),\n",
       " ('SDG_17', 0.0194549560546875),\n",
       " ('SDG_5', 0.018096923828125),\n",
       " ('SDG_3', 0.0153656005859375),\n",
       " ('SDG_15', 0.0147857666015625),\n",
       " ('SDG_7', 0.0136871337890625),\n",
       " ('SDG_2', 0.01322174072265625),\n",
       " ('SDG_16', 0.01229095458984375),\n",
       " ('SDG_9', 0.0120086669921875),\n",
       " ('SDG_11', 0.01056671142578125),\n",
       " ('SDG_4', 0.00963592529296875),\n",
       " ('SDG_12', 0.00861358642578125),\n",
       " ('SDG_14', 0.0058441162109375),\n",
       " ('SDG_13', 0.0057525634765625),\n",
       " ('SDG_6', 0.00524139404296875)]"
      ]
     },
     "execution_count": 55,
     "metadata": {},
     "output_type": "execute_result"
    }
   ],
   "source": [
    "#case 10\n",
    "predictor.predict(\"a Implement the main mechanisms through measures of inequality due to 2012. However, this does not universal. Further improvements in the mid-1990s are fully participating in redistribution to deliver a comprehensive assessment of all, irrespective of special and labour towards capital has been accompanied by LDCs and health care, meaningful work and action is high child poverty the role . Redistribution is to 2015, the at different points of the aggregate measure of the bottom 40 per cent of income disparities. To shed some growth-enhancing reforms on age, sex, age, disability, race, class, ethnicity, religion or the working-age individuals, but analyses income mobility over 64.4 per cent; for families Finally, we take a decline in global commodity prices, in migrant workers in . As a country. The labour towards eradicating poverty, raising living standards, and communities of the mid-1990s are available. This approach by weaker insurance transfers. In a comprehensive assessment of planned and favourable access conditions for products that income inequality when inequality developments in the transaction costs of people, more heterogeneous role of the impact of of the , both on this investigates the proportion of various categories of the mid-1990s are found to quantify the decline in have emphasized the lower income levels. More specifically, it demands coherent set of inequality to LDCs to other key providers totalled $315 ; of economic or other key providers totalled $43.1 and the life course. The Goal 10 calls for over the labour towards more accommodative monetary have expanded. From 2005 to have emphasized the social, economic and equity, this progress over the income mobility of structural reforms undertaken or other average. Social spending in . As a comprehensive responses. Accordingly, they committed to undermine progress towards more redistributive impact of this was true in 2016 \")"
   ]
  },
  {
   "cell_type": "code",
   "execution_count": 56,
   "metadata": {
    "tags": []
   },
   "outputs": [
    {
     "name": "stdout",
     "output_type": "stream",
     "text": [
      "01/28/2021 04:49:41 - INFO - root -   Writing example 0 of 1\n"
     ]
    },
    {
     "data": {
      "text/plain": [
       "[('SDG_14', 0.89599609375),\n",
       " ('SDG_2', 0.0328369140625),\n",
       " ('SDG_4', 0.01473236083984375),\n",
       " ('SDG_7', 0.011871337890625),\n",
       " ('SDG_15', 0.01111602783203125),\n",
       " ('SDG_17', 0.01107025146484375),\n",
       " ('SDG_12', 0.010650634765625),\n",
       " ('SDG_13', 0.010650634765625),\n",
       " ('SDG_16', 0.0095977783203125),\n",
       " ('SDG_6', 0.0094146728515625),\n",
       " ('SDG_8', 0.0094146728515625),\n",
       " ('SDG_9', 0.00919342041015625),\n",
       " ('SDG_1', 0.0087432861328125),\n",
       " ('SDG_10', 0.00809478759765625),\n",
       " ('SDG_3', 0.0078125),\n",
       " ('SDG_5', 0.006824493408203125),\n",
       " ('SDG_11', 0.004627227783203125)]"
      ]
     },
     "execution_count": 56,
     "metadata": {},
     "output_type": "execute_result"
    }
   ],
   "source": [
    "#case 14 + case 2\n",
    "predictor.predict(\"By 2025, prevent and indicators, it plays in Sierra Leone revved up strategic roadmaps to Small Island , in the cycle of support. In this sector. Since millennia, the law and climate systems. Even the Intergovernmental Oceanographic Commission Criteria and livelihoods of the Ocean acidification is aimed at a island and -being, societal resilience and overfishing, eliminate subsidies which to overcapacity and stood at all kinds, in Indonesia, describes how fisheries . Most have been multiple laws, policies, and plans, in which are deeply rooted in the oxygen we breathe. Much has been severely food and efforts around SDG1 are rapidly particularly in achieving SDG1 on the wake of -scale food and sanitation, education and centres — a new challenges. Regular national targets on higher temperature and suffering from 128 . Most overweight and diversified seed and UN-DESA. 2 targets on creating more food, in agriculture. Groundwater is important in the SDGs. Coordination bodies have be sustainably secured for adaptation and increased investments out of SDG2 and extension services, markets and food , nutrition, as more coordinated contribution by farmers themselves. 9 3. Key Findings and neutral facilitator that increase productivity and mineral deficiencies. At the utilization of , could increase the same time, 40 are distinctive and strengthened, and agriculture and that facilitates enhanced intersectoral linkages\")\n",
    "\n"
   ]
  },
  {
   "cell_type": "code",
   "execution_count": 57,
   "metadata": {
    "tags": []
   },
   "outputs": [
    {
     "name": "stdout",
     "output_type": "stream",
     "text": [
      "01/28/2021 04:50:07 - INFO - root -   Writing example 0 of 1\n"
     ]
    },
    {
     "data": {
      "text/plain": [
       "[('SDG_14', 0.9443359375),\n",
       " ('SDG_7', 0.0142822265625),\n",
       " ('SDG_16', 0.0137939453125),\n",
       " ('SDG_17', 0.01332855224609375),\n",
       " ('SDG_4', 0.01302337646484375),\n",
       " ('SDG_2', 0.012969970703125),\n",
       " ('SDG_8', 0.01233673095703125),\n",
       " ('SDG_6', 0.012237548828125),\n",
       " ('SDG_9', 0.0119171142578125),\n",
       " ('SDG_3', 0.011688232421875),\n",
       " ('SDG_15', 0.01137542724609375),\n",
       " ('SDG_13', 0.0110321044921875),\n",
       " ('SDG_1', 0.0103302001953125),\n",
       " ('SDG_12', 0.00981903076171875),\n",
       " ('SDG_10', 0.00971221923828125),\n",
       " ('SDG_5', 0.00818634033203125),\n",
       " ('SDG_11', 0.006389617919921875)]"
      ]
     },
     "execution_count": 57,
     "metadata": {},
     "output_type": "execute_result"
    }
   ],
   "source": [
    "#case 1 + 14 => failed!\n",
    "predictor.predict(\" By 2030, missing the 2030 Agenda and the region as the longer term. The share of the , regional breakdowns are estimated with the region as a steep hike in 1999 to climate-related poverty, over the , and other forms of the vulnerable. Small- fisheries and coastal waters due to combat such fishing, entered into force of invasive organisms. Eighty percent of terrestrial, marine technology, taking into force in 20 per cent in 2013.\")\n"
   ]
  },
  {
   "cell_type": "code",
   "execution_count": 58,
   "metadata": {
    "tags": []
   },
   "outputs": [
    {
     "name": "stdout",
     "output_type": "stream",
     "text": [
      "01/28/2021 04:50:18 - INFO - root -   Writing example 0 of 1\n"
     ]
    },
    {
     "data": {
      "text/plain": [
       "[('SDG_14', 0.74853515625),\n",
       " ('SDG_3', 0.06500244140625),\n",
       " ('SDG_2', 0.0143890380859375),\n",
       " ('SDG_13', 0.010406494140625),\n",
       " ('SDG_16', 0.010009765625),\n",
       " ('SDG_1', 0.008514404296875),\n",
       " ('SDG_10', 0.0082855224609375),\n",
       " ('SDG_15', 0.00815582275390625),\n",
       " ('SDG_17', 0.00809478759765625),\n",
       " ('SDG_4', 0.00766754150390625),\n",
       " ('SDG_9', 0.00760650634765625),\n",
       " ('SDG_7', 0.007404327392578125),\n",
       " ('SDG_8', 0.007175445556640625),\n",
       " ('SDG_5', 0.007038116455078125),\n",
       " ('SDG_6', 0.006587982177734375),\n",
       " ('SDG_12', 0.005321502685546875),\n",
       " ('SDG_11', 0.004329681396484375)]"
      ]
     },
     "execution_count": 58,
     "metadata": {},
     "output_type": "execute_result"
    }
   ],
   "source": [
    "#case 3 + 14 => failed!\n",
    "predictor.predict(\"Most maternal mortality rate of the failure to 0.8 per cent in did not assisted by 2050. Current estimates are projected to for neglected tropical diseases. Small- fisheries and coastal waters due to combat such fishing, entered into force of invasive organisms. Eighty percent of terrestrial, marine technology, taking into force in 20 per cent in 2013.\")\n"
   ]
  },
  {
   "cell_type": "code",
   "execution_count": 59,
   "metadata": {
    "tags": []
   },
   "outputs": [
    {
     "name": "stdout",
     "output_type": "stream",
     "text": [
      "01/28/2021 04:50:23 - INFO - root -   Writing example 0 of 1\n"
     ]
    },
    {
     "data": {
      "text/plain": [
       "[('SDG_3', 0.9296875),\n",
       " ('SDG_2', 0.01525115966796875),\n",
       " ('SDG_10', 0.01384735107421875),\n",
       " ('SDG_13', 0.01363372802734375),\n",
       " ('SDG_1', 0.01358795166015625),\n",
       " ('SDG_17', 0.0117340087890625),\n",
       " ('SDG_4', 0.01061248779296875),\n",
       " ('SDG_8', 0.01056671142578125),\n",
       " ('SDG_5', 0.01049041748046875),\n",
       " ('SDG_9', 0.01029205322265625),\n",
       " ('SDG_14', 0.01009368896484375),\n",
       " ('SDG_16', 0.009674072265625),\n",
       " ('SDG_12', 0.00933837890625),\n",
       " ('SDG_7', 0.0090179443359375),\n",
       " ('SDG_11', 0.0089874267578125),\n",
       " ('SDG_15', 0.00714874267578125),\n",
       " ('SDG_6', 0.00579833984375)]"
      ]
     },
     "execution_count": 59,
     "metadata": {},
     "output_type": "execute_result"
    }
   ],
   "source": [
    "#case 3\n",
    "predictor.predict(\"Most maternal mortality rate of the failure to 0.8 per cent in did not assisted by 2050. Current estimates are projected to for neglected tropical diseases\")\n"
   ]
  },
  {
   "cell_type": "code",
   "execution_count": 60,
   "metadata": {
    "tags": []
   },
   "outputs": [
    {
     "name": "stdout",
     "output_type": "stream",
     "text": [
      "01/28/2021 04:50:26 - INFO - root -   Writing example 0 of 1\n"
     ]
    },
    {
     "data": {
      "text/plain": [
       "[('SDG_3', 0.875),\n",
       " ('SDG_2', 0.0254669189453125),\n",
       " ('SDG_1', 0.0141143798828125),\n",
       " ('SDG_13', 0.0137939453125),\n",
       " ('SDG_15', 0.01233673095703125),\n",
       " ('SDG_5', 0.00878143310546875),\n",
       " ('SDG_16', 0.00864410400390625),\n",
       " ('SDG_17', 0.00864410400390625),\n",
       " ('SDG_10', 0.008575439453125),\n",
       " ('SDG_14', 0.00841522216796875),\n",
       " ('SDG_4', 0.0083770751953125),\n",
       " ('SDG_7', 0.007694244384765625),\n",
       " ('SDG_11', 0.00679779052734375),\n",
       " ('SDG_12', 0.006565093994140625),\n",
       " ('SDG_8', 0.006412506103515625),\n",
       " ('SDG_9', 0.00634002685546875),\n",
       " ('SDG_6', 0.006122589111328125)]"
      ]
     },
     "execution_count": 60,
     "metadata": {},
     "output_type": "execute_result"
    }
   ],
   "source": [
    "#case 15+3 => failed!\n",
    "predictor.predict(\"Demand for terrestrial and the priority species and Development,1 which it vitally depends.Most maternal mortality rate of the failure to 0.8 per cent in did not assisted by 2050. Current estimates are projected to for neglected tropical diseases\")"
   ]
  },
  {
   "cell_type": "code",
   "execution_count": 61,
   "metadata": {
    "tags": []
   },
   "outputs": [
    {
     "name": "stdout",
     "output_type": "stream",
     "text": [
      "01/28/2021 04:50:32 - INFO - root -   Writing example 0 of 1\n"
     ]
    },
    {
     "data": {
      "text/plain": [
       "[('SDG_15', 0.93115234375),\n",
       " ('SDG_11', 0.0141143798828125),\n",
       " ('SDG_5', 0.01406097412109375),\n",
       " ('SDG_2', 0.014007568359375),\n",
       " ('SDG_10', 0.01363372802734375),\n",
       " ('SDG_7', 0.01287078857421875),\n",
       " ('SDG_14', 0.01233673095703125),\n",
       " ('SDG_4', 0.01116180419921875),\n",
       " ('SDG_1', 0.01107025146484375),\n",
       " ('SDG_6', 0.0110321044921875),\n",
       " ('SDG_16', 0.01073455810546875),\n",
       " ('SDG_9', 0.01061248779296875),\n",
       " ('SDG_17', 0.01049041748046875),\n",
       " ('SDG_3', 0.0101318359375),\n",
       " ('SDG_12', 0.00955963134765625),\n",
       " ('SDG_13', 0.00803375244140625),\n",
       " ('SDG_8', 0.007289886474609375)]"
      ]
     },
     "execution_count": 61,
     "metadata": {},
     "output_type": "execute_result"
    }
   ],
   "source": [
    "#case 15 => ok\n",
    "predictor.predict(\"Demand for terrestrial and the priority species and Development,1 which it vitally depends.\")\n"
   ]
  },
  {
   "cell_type": "code",
   "execution_count": 62,
   "metadata": {
    "tags": []
   },
   "outputs": [
    {
     "name": "stdout",
     "output_type": "stream",
     "text": [
      "01/28/2021 04:50:50 - INFO - root -   Writing example 0 of 1\n"
     ]
    },
    {
     "data": {
      "text/plain": [
       "[('SDG_15', 0.92236328125),\n",
       " ('SDG_11', 0.0141143798828125),\n",
       " ('SDG_10', 0.01302337646484375),\n",
       " ('SDG_1', 0.0125274658203125),\n",
       " ('SDG_16', 0.01233673095703125),\n",
       " ('SDG_7', 0.0121917724609375),\n",
       " ('SDG_5', 0.0120086669921875),\n",
       " ('SDG_9', 0.01061248779296875),\n",
       " ('SDG_2', 0.0101318359375),\n",
       " ('SDG_4', 0.0099334716796875),\n",
       " ('SDG_14', 0.009857177734375),\n",
       " ('SDG_3', 0.00955963134765625),\n",
       " ('SDG_13', 0.00933837890625),\n",
       " ('SDG_17', 0.0092315673828125),\n",
       " ('SDG_6', 0.0089874267578125),\n",
       " ('SDG_12', 0.00841522216796875),\n",
       " ('SDG_8', 0.00734710693359375)]"
      ]
     },
     "execution_count": 62,
     "metadata": {},
     "output_type": "execute_result"
    }
   ],
   "source": [
    "#case 15\n",
    "predictor.predict(\"Conservationists may be entirely known. What is and ecosystem protection discourse. The reviews the expansion of biodiversity conservation efforts, with obligations under $3.5 billion. No data available reports on which the current status and cycads. The study was less than in June 2018 for understanding the introduction and their , IPBES, 2018. www.ipbes.net/outcomes. Page 3 of illicit , and demand for sustainable to the utilization of harmful subsidies and private domestic public investment in the tools and protecting the risks and , and other uses, and sustainable relationships with continued poaching and freshwater and fauna and lessons learned from all sources to for mountain ecosystems essential for understanding the illicit poaching and extraction for forest decreased from 33.1 per cent of our relationship with terrestrial and , and trafficking taken together constitute one fifth of threatened species of how to join this way explore aligning forest strategy. The Red List Index of land is inequitable among stakeholders, and institutions, major challenges are still lower than doubled since 2007. This has evolved over long-term , -offs among SDG 15, the priority species of illicit poaching and the , the impact investment, and the extinction of the 15th Conference of the last century, humanity has increased environmental agencies\")"
   ]
  },
  {
   "cell_type": "code",
   "execution_count": 63,
   "metadata": {
    "tags": []
   },
   "outputs": [
    {
     "name": "stdout",
     "output_type": "stream",
     "text": [
      "01/28/2021 04:51:05 - INFO - root -   Writing example 0 of 1\n"
     ]
    },
    {
     "data": {
      "text/plain": [
       "[('SDG_15', 0.923828125),\n",
       " ('SDG_11', 0.01406097412109375),\n",
       " ('SDG_10', 0.01322174072265625),\n",
       " ('SDG_1', 0.012969970703125),\n",
       " ('SDG_16', 0.012481689453125),\n",
       " ('SDG_5', 0.0119171142578125),\n",
       " ('SDG_7', 0.0119171142578125),\n",
       " ('SDG_9', 0.01073455810546875),\n",
       " ('SDG_2', 0.01049041748046875),\n",
       " ('SDG_4', 0.0104522705078125),\n",
       " ('SDG_3', 0.0099334716796875),\n",
       " ('SDG_14', 0.009857177734375),\n",
       " ('SDG_13', 0.00963592529296875),\n",
       " ('SDG_17', 0.00894927978515625),\n",
       " ('SDG_6', 0.0087127685546875),\n",
       " ('SDG_12', 0.00844573974609375),\n",
       " ('SDG_8', 0.007488250732421875)]"
      ]
     },
     "execution_count": 63,
     "metadata": {},
     "output_type": "execute_result"
    }
   ],
   "source": [
    "#case 15 +3 failed\n",
    "predictor.predict(\"Conservationists may be entirely known. What is and ecosystem protection discourse. The reviews the expansion of biodiversity conservation efforts, with obligations under $3.5 billion. No data available reports on which the current status and cycads. The study was less than in June 2018 for understanding the introduction and their , IPBES, 2018. www.ipbes.net/outcomes. Page 3 of illicit , and demand for sustainable to the utilization of harmful subsidies and private domestic public investment in the tools and protecting the risks and , and other uses, and sustainable relationships with continued poaching and freshwater and fauna and lessons learned from all sources to for mountain ecosystems essential for understanding the illicit poaching and extraction for forest decreased from 33.1 per cent of our relationship with terrestrial and , and trafficking taken together constitute one fifth of threatened species of how to join this way explore aligning forest strategy. The Red List Index of land is inequitable among stakeholders, and institutions, major challenges are still lower than doubled since 2007. This has evolved over long-term , -offs among SDG 15, the priority species of illicit poaching and the , the impact investment, and the extinction of the 15th Conference of the last century, humanity has increased environmental agencies.Most maternal mortality rate of the failure to 0.8 per cent in did not assisted by 2050. Current estimates are projected to for neglected tropical diseases\")"
   ]
  },
  {
   "cell_type": "code",
   "execution_count": 65,
   "metadata": {},
   "outputs": [
    {
     "name": "stdout",
     "output_type": "stream",
     "text": [
      "01/28/2021 04:52:44 - INFO - root -   Writing example 0 of 2\n"
     ]
    },
    {
     "name": "stderr",
     "output_type": "stream",
     "text": [
      "C:\\Users\\Raja\\Documents\\SJI\\tools\\anaconda3\\envs\\fast-camembert\\lib\\site-packages\\pandas\\core\\frame.py:1490: FutureWarning: Using short name for 'orient' is deprecated. Only the options: ('dict', list, 'series', 'split', 'records', 'index') will be used in a future version. Use one of the above to silence this warning.\n",
      "  FutureWarning,\n"
     ]
    }
   ],
   "source": [
    "texts = [\n",
    "\t\"this is the first text\",\n",
    "\t\"this is the second text\"\n",
    "\t]\n",
    "\n",
    "multiple_predictions = predictor.predict_batch(texts)"
   ]
  },
  {
   "cell_type": "code",
   "execution_count": 66,
   "metadata": {},
   "outputs": [
    {
     "data": {
      "text/plain": [
       "[[('SDG_17', 0.03173828125),\n",
       "  ('SDG_1', 0.028167724609375),\n",
       "  ('SDG_11', 0.028106689453125),\n",
       "  ('SDG_6', 0.02215576171875),\n",
       "  ('SDG_14', 0.0191650390625),\n",
       "  ('SDG_4', 0.0186920166015625),\n",
       "  ('SDG_16', 0.0162200927734375),\n",
       "  ('SDG_3', 0.01495361328125),\n",
       "  ('SDG_13', 0.0137939453125),\n",
       "  ('SDG_7', 0.01111602783203125),\n",
       "  ('SDG_12', 0.00841522216796875),\n",
       "  ('SDG_15', 0.00806427001953125),\n",
       "  ('SDG_2', 0.0079345703125),\n",
       "  ('SDG_5', 0.004383087158203125),\n",
       "  ('SDG_9', 0.00359344482421875),\n",
       "  ('SDG_10', 0.003376007080078125),\n",
       "  ('SDG_8', 0.0031108856201171875)],\n",
       " [('SDG_17', 0.039276123046875),\n",
       "  ('SDG_1', 0.0306243896484375),\n",
       "  ('SDG_14', 0.025665283203125),\n",
       "  ('SDG_11', 0.0232391357421875),\n",
       "  ('SDG_6', 0.0202484130859375),\n",
       "  ('SDG_16', 0.01971435546875),\n",
       "  ('SDG_3', 0.0164031982421875),\n",
       "  ('SDG_4', 0.0161590576171875),\n",
       "  ('SDG_7', 0.01302337646484375),\n",
       "  ('SDG_13', 0.00955963134765625),\n",
       "  ('SDG_12', 0.009124755859375),\n",
       "  ('SDG_15', 0.009124755859375),\n",
       "  ('SDG_2', 0.007904052734375),\n",
       "  ('SDG_5', 0.005321502685546875),\n",
       "  ('SDG_10', 0.0037364959716796875),\n",
       "  ('SDG_9', 0.0036792755126953125),\n",
       "  ('SDG_8', 0.0034027099609375)]]"
      ]
     },
     "execution_count": 66,
     "metadata": {},
     "output_type": "execute_result"
    }
   ],
   "source": [
    "multiple_predictions"
   ]
  },
  {
   "cell_type": "code",
   "execution_count": null,
   "metadata": {},
   "outputs": [],
   "source": []
  },
  {
   "cell_type": "code",
   "execution_count": 67,
   "metadata": {},
   "outputs": [],
   "source": [
    "#evaluation on fine-tuning set \n",
    "df_val = pd.read_csv('./data/val_sample.csv')\n",
    "\n",
    "#predictor.get_learner()"
   ]
  },
  {
   "cell_type": "code",
   "execution_count": 68,
   "metadata": {},
   "outputs": [
    {
     "data": {
      "text/html": [
       "<div>\n",
       "<style scoped>\n",
       "    .dataframe tbody tr th:only-of-type {\n",
       "        vertical-align: middle;\n",
       "    }\n",
       "\n",
       "    .dataframe tbody tr th {\n",
       "        vertical-align: top;\n",
       "    }\n",
       "\n",
       "    .dataframe thead th {\n",
       "        text-align: right;\n",
       "    }\n",
       "</style>\n",
       "<table border=\"1\" class=\"dataframe\">\n",
       "  <thead>\n",
       "    <tr style=\"text-align: right;\">\n",
       "      <th></th>\n",
       "      <th>Unnamed: 0</th>\n",
       "      <th>ID</th>\n",
       "      <th>Text</th>\n",
       "      <th>SDG_1</th>\n",
       "      <th>SDG_2</th>\n",
       "      <th>SDG_3</th>\n",
       "      <th>SDG_4</th>\n",
       "      <th>SDG_5</th>\n",
       "      <th>SDG_6</th>\n",
       "      <th>SDG_7</th>\n",
       "      <th>SDG_8</th>\n",
       "      <th>SDG_9</th>\n",
       "      <th>SDG_10</th>\n",
       "      <th>SDG_11</th>\n",
       "      <th>SDG_12</th>\n",
       "      <th>SDG_13</th>\n",
       "      <th>SDG_14</th>\n",
       "      <th>SDG_15</th>\n",
       "      <th>SDG_16</th>\n",
       "      <th>SDG_17</th>\n",
       "    </tr>\n",
       "  </thead>\n",
       "  <tbody>\n",
       "    <tr>\n",
       "      <th>1319</th>\n",
       "      <td>221</td>\n",
       "      <td>650.0</td>\n",
       "      <td>In turn, have worsened. Virtually everywhere, some , African , in family ; childcare and communities of structural reforms involve trade-offs between objectives of inequality and favouring lower income groups. The voices of such regulations</td>\n",
       "      <td>0.0</td>\n",
       "      <td>0.0</td>\n",
       "      <td>0.0</td>\n",
       "      <td>0.0</td>\n",
       "      <td>0.0</td>\n",
       "      <td>0.0</td>\n",
       "      <td>0.0</td>\n",
       "      <td>0.0</td>\n",
       "      <td>0.0</td>\n",
       "      <td>1.0</td>\n",
       "      <td>0.0</td>\n",
       "      <td>0.0</td>\n",
       "      <td>0.0</td>\n",
       "      <td>0.0</td>\n",
       "      <td>0.0</td>\n",
       "      <td>0.0</td>\n",
       "      <td>0.0</td>\n",
       "    </tr>\n",
       "    <tr>\n",
       "      <th>1320</th>\n",
       "      <td>4185</td>\n",
       "      <td>NaN</td>\n",
       "      <td>I wonder what will become of her !\"</td>\n",
       "      <td>0.0</td>\n",
       "      <td>0.0</td>\n",
       "      <td>0.0</td>\n",
       "      <td>0.0</td>\n",
       "      <td>0.0</td>\n",
       "      <td>0.0</td>\n",
       "      <td>0.0</td>\n",
       "      <td>0.0</td>\n",
       "      <td>0.0</td>\n",
       "      <td>0.0</td>\n",
       "      <td>0.0</td>\n",
       "      <td>0.0</td>\n",
       "      <td>0.0</td>\n",
       "      <td>0.0</td>\n",
       "      <td>0.0</td>\n",
       "      <td>0.0</td>\n",
       "      <td>0.0</td>\n",
       "    </tr>\n",
       "    <tr>\n",
       "      <th>1321</th>\n",
       "      <td>6303</td>\n",
       "      <td>NaN</td>\n",
       "      <td>\" Quite wrong , my dear aunt ; there is no likeness at all .\"</td>\n",
       "      <td>0.0</td>\n",
       "      <td>0.0</td>\n",
       "      <td>0.0</td>\n",
       "      <td>0.0</td>\n",
       "      <td>0.0</td>\n",
       "      <td>0.0</td>\n",
       "      <td>0.0</td>\n",
       "      <td>0.0</td>\n",
       "      <td>0.0</td>\n",
       "      <td>0.0</td>\n",
       "      <td>0.0</td>\n",
       "      <td>0.0</td>\n",
       "      <td>0.0</td>\n",
       "      <td>0.0</td>\n",
       "      <td>0.0</td>\n",
       "      <td>0.0</td>\n",
       "      <td>0.0</td>\n",
       "    </tr>\n",
       "    <tr>\n",
       "      <th>1322</th>\n",
       "      <td>3270</td>\n",
       "      <td>NaN</td>\n",
       "      <td>10.7 Facilitate orderly, safe, regular migration. The Goal weighed on household-level micro data. A detailed decomposition analysis uncovers the labour market income levels. More specifically, it demands coherent and decent jobs. The labour utilisation and programmesFrom 2012 to common .</td>\n",
       "      <td>0.0</td>\n",
       "      <td>0.0</td>\n",
       "      <td>0.0</td>\n",
       "      <td>0.0</td>\n",
       "      <td>0.0</td>\n",
       "      <td>0.0</td>\n",
       "      <td>1.0</td>\n",
       "      <td>0.0</td>\n",
       "      <td>0.0</td>\n",
       "      <td>1.0</td>\n",
       "      <td>0.0</td>\n",
       "      <td>0.0</td>\n",
       "      <td>0.0</td>\n",
       "      <td>0.0</td>\n",
       "      <td>0.0</td>\n",
       "      <td>0.0</td>\n",
       "      <td>0.0</td>\n",
       "    </tr>\n",
       "    <tr>\n",
       "      <th>1323</th>\n",
       "      <td>1168</td>\n",
       "      <td>3479.0</td>\n",
       "      <td>8.6 By 2030, global growth rate for the bargaining framework of “active citizenship.</td>\n",
       "      <td>0.0</td>\n",
       "      <td>0.0</td>\n",
       "      <td>0.0</td>\n",
       "      <td>0.0</td>\n",
       "      <td>0.0</td>\n",
       "      <td>0.0</td>\n",
       "      <td>0.0</td>\n",
       "      <td>1.0</td>\n",
       "      <td>0.0</td>\n",
       "      <td>0.0</td>\n",
       "      <td>0.0</td>\n",
       "      <td>0.0</td>\n",
       "      <td>0.0</td>\n",
       "      <td>0.0</td>\n",
       "      <td>0.0</td>\n",
       "      <td>0.0</td>\n",
       "      <td>0.0</td>\n",
       "    </tr>\n",
       "  </tbody>\n",
       "</table>\n",
       "</div>"
      ],
      "text/plain": [
       "      Unnamed: 0      ID  \\\n",
       "1319  221         650.0    \n",
       "1320  4185       NaN       \n",
       "1321  6303       NaN       \n",
       "1322  3270       NaN       \n",
       "1323  1168        3479.0   \n",
       "\n",
       "                                                                                                                                                                                                                                                                                                  Text  \\\n",
       "1319  In turn, have worsened. Virtually everywhere, some , African , in family ; childcare and communities of structural reforms involve trade-offs between objectives of inequality and favouring lower income groups. The voices of such regulations                                                   \n",
       "1320  I wonder what will become of her !\"                                                                                                                                                                                                                                                                \n",
       "1321  \" Quite wrong , my dear aunt ; there is no likeness at all .\"                                                                                                                                                                                                                                      \n",
       "1322  10.7 Facilitate orderly, safe, regular migration. The Goal weighed on household-level micro data. A detailed decomposition analysis uncovers the labour market income levels. More specifically, it demands coherent and decent jobs. The labour utilisation and programmesFrom 2012 to common .   \n",
       "1323  8.6 By 2030, global growth rate for the bargaining framework of “active citizenship.                                                                                                                                                                                                               \n",
       "\n",
       "      SDG_1  SDG_2  SDG_3  SDG_4  SDG_5  SDG_6  SDG_7  SDG_8  SDG_9  SDG_10  \\\n",
       "1319  0.0    0.0    0.0    0.0    0.0    0.0    0.0    0.0    0.0    1.0      \n",
       "1320  0.0    0.0    0.0    0.0    0.0    0.0    0.0    0.0    0.0    0.0      \n",
       "1321  0.0    0.0    0.0    0.0    0.0    0.0    0.0    0.0    0.0    0.0      \n",
       "1322  0.0    0.0    0.0    0.0    0.0    0.0    1.0    0.0    0.0    1.0      \n",
       "1323  0.0    0.0    0.0    0.0    0.0    0.0    0.0    1.0    0.0    0.0      \n",
       "\n",
       "      SDG_11  SDG_12  SDG_13  SDG_14  SDG_15  SDG_16  SDG_17  \n",
       "1319  0.0     0.0     0.0     0.0     0.0     0.0     0.0     \n",
       "1320  0.0     0.0     0.0     0.0     0.0     0.0     0.0     \n",
       "1321  0.0     0.0     0.0     0.0     0.0     0.0     0.0     \n",
       "1322  0.0     0.0     0.0     0.0     0.0     0.0     0.0     \n",
       "1323  0.0     0.0     0.0     0.0     0.0     0.0     0.0     "
      ]
     },
     "execution_count": 68,
     "metadata": {},
     "output_type": "execute_result"
    }
   ],
   "source": [
    "df_val.tail()"
   ]
  },
  {
   "cell_type": "code",
   "execution_count": 69,
   "metadata": {},
   "outputs": [
    {
     "name": "stdout",
     "output_type": "stream",
     "text": [
      "01/28/2021 04:59:49 - INFO - root -   Writing example 0 of 1324\n"
     ]
    },
    {
     "name": "stderr",
     "output_type": "stream",
     "text": [
      "C:\\Users\\Raja\\Documents\\SJI\\tools\\anaconda3\\envs\\fast-camembert\\lib\\site-packages\\pandas\\core\\frame.py:1490: FutureWarning: Using short name for 'orient' is deprecated. Only the options: ('dict', list, 'series', 'split', 'records', 'index') will be used in a future version. Use one of the above to silence this warning.\n",
      "  FutureWarning,\n"
     ]
    }
   ],
   "source": [
    "batch_predictions = predictor.predict_batch(df_val.Text.to_list())"
   ]
  },
  {
   "cell_type": "code",
   "execution_count": 70,
   "metadata": {},
   "outputs": [
    {
     "data": {
      "text/plain": [
       "[[('SDG_3', 0.92431640625),\n",
       "  ('SDG_13', 0.0154876708984375),\n",
       "  ('SDG_17', 0.01490020751953125),\n",
       "  ('SDG_2', 0.0127716064453125),\n",
       "  ('SDG_14', 0.0125274658203125),\n",
       "  ('SDG_16', 0.0116424560546875),\n",
       "  ('SDG_9', 0.0115966796875),\n",
       "  ('SDG_10', 0.01061248779296875),\n",
       "  ('SDG_11', 0.01049041748046875),\n",
       "  ('SDG_4', 0.01036834716796875),\n",
       "  ('SDG_1', 0.0103302001953125),\n",
       "  ('SDG_8', 0.00989532470703125),\n",
       "  ('SDG_5', 0.00864410400390625),\n",
       "  ('SDG_7', 0.0082550048828125),\n",
       "  ('SDG_12', 0.00757598876953125),\n",
       "  ('SDG_15', 0.006565093994140625),\n",
       "  ('SDG_6', 0.006488800048828125)],\n",
       " [('SDG_5', 0.045257568359375),\n",
       "  ('SDG_3', 0.033782958984375),\n",
       "  ('SDG_2', 0.0193023681640625),\n",
       "  ('SDG_4', 0.00878143310546875),\n",
       "  ('SDG_6', 0.007755279541015625),\n",
       "  ('SDG_1', 0.007694244384765625),\n",
       "  ('SDG_10', 0.006717681884765625),\n",
       "  ('SDG_8', 0.0054473876953125),\n",
       "  ('SDG_16', 0.0050811767578125),\n",
       "  ('SDG_14', 0.004364013671875),\n",
       "  ('SDG_13', 0.00400543212890625),\n",
       "  ('SDG_15', 0.0033626556396484375),\n",
       "  ('SDG_11', 0.0033245086669921875),\n",
       "  ('SDG_12', 0.003040313720703125),\n",
       "  ('SDG_7', 0.0028667449951171875),\n",
       "  ('SDG_9', 0.00243377685546875),\n",
       "  ('SDG_17', 0.00234222412109375)],\n",
       " [('SDG_5', 0.015960693359375),\n",
       "  ('SDG_10', 0.015838623046875),\n",
       "  ('SDG_4', 0.0150146484375),\n",
       "  ('SDG_16', 0.01433563232421875),\n",
       "  ('SDG_11', 0.0142822265625),\n",
       "  ('SDG_1', 0.01332855224609375),\n",
       "  ('SDG_14', 0.0101318359375),\n",
       "  ('SDG_17', 0.00841522216796875),\n",
       "  ('SDG_2', 0.00806427001953125),\n",
       "  ('SDG_15', 0.007549285888671875),\n",
       "  ('SDG_6', 0.005619049072265625),\n",
       "  ('SDG_8', 0.005161285400390625),\n",
       "  ('SDG_13', 0.00455474853515625),\n",
       "  ('SDG_9', 0.0038547515869140625),\n",
       "  ('SDG_3', 0.003765106201171875),\n",
       "  ('SDG_7', 0.0032100677490234375),\n",
       "  ('SDG_12', 0.0026531219482421875)],\n",
       " [('SDG_15', 0.8994140625),\n",
       "  ('SDG_2', 0.0235595703125),\n",
       "  ('SDG_10', 0.01267242431640625),\n",
       "  ('SDG_5', 0.01229095458984375),\n",
       "  ('SDG_12', 0.01229095458984375),\n",
       "  ('SDG_1', 0.01214599609375),\n",
       "  ('SDG_7', 0.0120086669921875),\n",
       "  ('SDG_14', 0.0115509033203125),\n",
       "  ('SDG_11', 0.01024627685546875),\n",
       "  ('SDG_9', 0.00933837890625),\n",
       "  ('SDG_4', 0.00926971435546875),\n",
       "  ('SDG_16', 0.00894927978515625),\n",
       "  ('SDG_6', 0.00878143310546875),\n",
       "  ('SDG_3', 0.00812530517578125),\n",
       "  ('SDG_17', 0.007724761962890625),\n",
       "  ('SDG_8', 0.006877899169921875),\n",
       "  ('SDG_13', 0.006565093994140625)],\n",
       " [('SDG_5', 0.93017578125),\n",
       "  ('SDG_2', 0.018646240234375),\n",
       "  ('SDG_10', 0.01861572265625),\n",
       "  ('SDG_15', 0.017303466796875),\n",
       "  ('SDG_8', 0.015960693359375),\n",
       "  ('SDG_16', 0.013275146484375),\n",
       "  ('SDG_3', 0.01312255859375),\n",
       "  ('SDG_1', 0.01287078857421875),\n",
       "  ('SDG_9', 0.01214599609375),\n",
       "  ('SDG_6', 0.0120086669921875),\n",
       "  ('SDG_7', 0.011962890625),\n",
       "  ('SDG_4', 0.01107025146484375),\n",
       "  ('SDG_13', 0.01036834716796875),\n",
       "  ('SDG_17', 0.00997161865234375),\n",
       "  ('SDG_11', 0.00916290283203125),\n",
       "  ('SDG_14', 0.007289886474609375),\n",
       "  ('SDG_12', 0.006771087646484375)],\n",
       " [('SDG_11', 0.89990234375),\n",
       "  ('SDG_7', 0.029541015625),\n",
       "  ('SDG_9', 0.028106689453125),\n",
       "  ('SDG_17', 0.02532958984375),\n",
       "  ('SDG_4', 0.0156707763671875),\n",
       "  ('SDG_8', 0.0150146484375),\n",
       "  ('SDG_6', 0.0139007568359375),\n",
       "  ('SDG_3', 0.01337432861328125),\n",
       "  ('SDG_12', 0.012054443359375),\n",
       "  ('SDG_13', 0.01024627685546875),\n",
       "  ('SDG_15', 0.00989532470703125),\n",
       "  ('SDG_10', 0.0094146728515625),\n",
       "  ('SDG_14', 0.00821685791015625),\n",
       "  ('SDG_16', 0.00787353515625),\n",
       "  ('SDG_2', 0.007232666015625),\n",
       "  ('SDG_5', 0.0070953369140625),\n",
       "  ('SDG_1', 0.005687713623046875)],\n",
       " [('SDG_2', 0.927734375),\n",
       "  ('SDG_5', 0.01554107666015625),\n",
       "  ('SDG_13', 0.01422882080078125),\n",
       "  ('SDG_3', 0.0141143798828125),\n",
       "  ('SDG_6', 0.01358795166015625),\n",
       "  ('SDG_7', 0.013275146484375),\n",
       "  ('SDG_12', 0.0121002197265625),\n",
       "  ('SDG_4', 0.011871337890625),\n",
       "  ('SDG_10', 0.01111602783203125),\n",
       "  ('SDG_8', 0.01078033447265625),\n",
       "  ('SDG_14', 0.01078033447265625),\n",
       "  ('SDG_15', 0.0104522705078125),\n",
       "  ('SDG_1', 0.00971221923828125),\n",
       "  ('SDG_16', 0.00948333740234375),\n",
       "  ('SDG_17', 0.0082550048828125),\n",
       "  ('SDG_9', 0.007904052734375),\n",
       "  ('SDG_11', 0.005001068115234375)],\n",
       " [('SDG_14', 0.50732421875),\n",
       "  ('SDG_6', 0.060638427734375),\n",
       "  ('SDG_13', 0.04217529296875),\n",
       "  ('SDG_15', 0.03912353515625),\n",
       "  ('SDG_11', 0.019195556640625),\n",
       "  ('SDG_7', 0.01666259765625),\n",
       "  ('SDG_12', 0.01512908935546875),\n",
       "  ('SDG_2', 0.012054443359375),\n",
       "  ('SDG_1', 0.0102081298828125),\n",
       "  ('SDG_16', 0.0100555419921875),\n",
       "  ('SDG_8', 0.00806427001953125),\n",
       "  ('SDG_5', 0.00600433349609375),\n",
       "  ('SDG_3', 0.005641937255859375),\n",
       "  ('SDG_4', 0.00557708740234375),\n",
       "  ('SDG_9', 0.005489349365234375),\n",
       "  ('SDG_17', 0.005279541015625),\n",
       "  ('SDG_10', 0.004520416259765625)],\n",
       " [('SDG_8', 0.9150390625),\n",
       "  ('SDG_4', 0.020416259765625),\n",
       "  ('SDG_12', 0.0179901123046875),\n",
       "  ('SDG_1', 0.0164031982421875),\n",
       "  ('SDG_5', 0.0153045654296875),\n",
       "  ('SDG_10', 0.0144500732421875),\n",
       "  ('SDG_6', 0.01306915283203125),\n",
       "  ('SDG_7', 0.01214599609375),\n",
       "  ('SDG_3', 0.012054443359375),\n",
       "  ('SDG_9', 0.0115509033203125),\n",
       "  ('SDG_11', 0.01142120361328125),\n",
       "  ('SDG_2', 0.01132965087890625),\n",
       "  ('SDG_16', 0.01090240478515625),\n",
       "  ('SDG_17', 0.0106964111328125),\n",
       "  ('SDG_14', 0.01061248779296875),\n",
       "  ('SDG_13', 0.0099334716796875),\n",
       "  ('SDG_15', 0.0043487548828125)],\n",
       " [('SDG_2', 0.471923828125),\n",
       "  ('SDG_8', 0.07794189453125),\n",
       "  ('SDG_12', 0.026458740234375),\n",
       "  ('SDG_3', 0.0235595703125),\n",
       "  ('SDG_10', 0.0210113525390625),\n",
       "  ('SDG_4', 0.0165863037109375),\n",
       "  ('SDG_1', 0.0104522705078125),\n",
       "  ('SDG_13', 0.009521484375),\n",
       "  ('SDG_5', 0.00867462158203125),\n",
       "  ('SDG_14', 0.00763702392578125),\n",
       "  ('SDG_17', 0.005321502685546875),\n",
       "  ('SDG_7', 0.005161285400390625),\n",
       "  ('SDG_6', 0.00473785400390625),\n",
       "  ('SDG_9', 0.004608154296875),\n",
       "  ('SDG_16', 0.004329681396484375),\n",
       "  ('SDG_11', 0.003429412841796875),\n",
       "  ('SDG_15', 0.0026531219482421875)]]"
      ]
     },
     "execution_count": 70,
     "metadata": {},
     "output_type": "execute_result"
    }
   ],
   "source": [
    "batch_predictions[:10]"
   ]
  },
  {
   "cell_type": "code",
   "execution_count": 71,
   "metadata": {},
   "outputs": [],
   "source": [
    "#dict(batch_predictions[1]).values()\n",
    "list_y_pred = [ dict(pred) for pred in batch_predictions]\n",
    "#list_y_pred[-5:]"
   ]
  },
  {
   "cell_type": "code",
   "execution_count": 72,
   "metadata": {},
   "outputs": [
    {
     "data": {
      "text/html": [
       "<div>\n",
       "<style scoped>\n",
       "    .dataframe tbody tr th:only-of-type {\n",
       "        vertical-align: middle;\n",
       "    }\n",
       "\n",
       "    .dataframe tbody tr th {\n",
       "        vertical-align: top;\n",
       "    }\n",
       "\n",
       "    .dataframe thead th {\n",
       "        text-align: right;\n",
       "    }\n",
       "</style>\n",
       "<table border=\"1\" class=\"dataframe\">\n",
       "  <thead>\n",
       "    <tr style=\"text-align: right;\">\n",
       "      <th></th>\n",
       "      <th>SDG_1</th>\n",
       "      <th>SDG_2</th>\n",
       "      <th>SDG_3</th>\n",
       "      <th>SDG_4</th>\n",
       "      <th>SDG_5</th>\n",
       "      <th>SDG_6</th>\n",
       "      <th>SDG_7</th>\n",
       "      <th>SDG_8</th>\n",
       "      <th>SDG_9</th>\n",
       "      <th>SDG_10</th>\n",
       "      <th>SDG_11</th>\n",
       "      <th>SDG_12</th>\n",
       "      <th>SDG_13</th>\n",
       "      <th>SDG_14</th>\n",
       "      <th>SDG_15</th>\n",
       "      <th>SDG_16</th>\n",
       "      <th>SDG_17</th>\n",
       "    </tr>\n",
       "  </thead>\n",
       "  <tbody>\n",
       "    <tr>\n",
       "      <th>1319</th>\n",
       "      <td>0.034882</td>\n",
       "      <td>0.013741</td>\n",
       "      <td>0.013794</td>\n",
       "      <td>0.013374</td>\n",
       "      <td>0.021362</td>\n",
       "      <td>0.004330</td>\n",
       "      <td>0.012573</td>\n",
       "      <td>0.022720</td>\n",
       "      <td>0.010094</td>\n",
       "      <td>0.909668</td>\n",
       "      <td>0.009300</td>\n",
       "      <td>0.008186</td>\n",
       "      <td>0.005199</td>\n",
       "      <td>0.005890</td>\n",
       "      <td>0.017380</td>\n",
       "      <td>0.011597</td>\n",
       "      <td>0.013687</td>\n",
       "    </tr>\n",
       "    <tr>\n",
       "      <th>1320</th>\n",
       "      <td>0.008545</td>\n",
       "      <td>0.008186</td>\n",
       "      <td>0.006462</td>\n",
       "      <td>0.005775</td>\n",
       "      <td>0.105774</td>\n",
       "      <td>0.006931</td>\n",
       "      <td>0.004906</td>\n",
       "      <td>0.012672</td>\n",
       "      <td>0.004086</td>\n",
       "      <td>0.006565</td>\n",
       "      <td>0.012337</td>\n",
       "      <td>0.005100</td>\n",
       "      <td>0.003088</td>\n",
       "      <td>0.014732</td>\n",
       "      <td>0.005600</td>\n",
       "      <td>0.002867</td>\n",
       "      <td>0.002270</td>\n",
       "    </tr>\n",
       "    <tr>\n",
       "      <th>1321</th>\n",
       "      <td>0.006512</td>\n",
       "      <td>0.008217</td>\n",
       "      <td>0.011032</td>\n",
       "      <td>0.005260</td>\n",
       "      <td>0.125977</td>\n",
       "      <td>0.008034</td>\n",
       "      <td>0.006145</td>\n",
       "      <td>0.005100</td>\n",
       "      <td>0.005981</td>\n",
       "      <td>0.023148</td>\n",
       "      <td>0.010452</td>\n",
       "      <td>0.002562</td>\n",
       "      <td>0.002768</td>\n",
       "      <td>0.002913</td>\n",
       "      <td>0.021942</td>\n",
       "      <td>0.006096</td>\n",
       "      <td>0.008316</td>\n",
       "    </tr>\n",
       "    <tr>\n",
       "      <th>1322</th>\n",
       "      <td>0.020767</td>\n",
       "      <td>0.012970</td>\n",
       "      <td>0.014839</td>\n",
       "      <td>0.011826</td>\n",
       "      <td>0.018768</td>\n",
       "      <td>0.004646</td>\n",
       "      <td>0.013847</td>\n",
       "      <td>0.028442</td>\n",
       "      <td>0.011070</td>\n",
       "      <td>0.920898</td>\n",
       "      <td>0.011505</td>\n",
       "      <td>0.010292</td>\n",
       "      <td>0.004848</td>\n",
       "      <td>0.006565</td>\n",
       "      <td>0.016464</td>\n",
       "      <td>0.011116</td>\n",
       "      <td>0.017044</td>\n",
       "    </tr>\n",
       "    <tr>\n",
       "      <th>1323</th>\n",
       "      <td>0.015305</td>\n",
       "      <td>0.011871</td>\n",
       "      <td>0.013847</td>\n",
       "      <td>0.022629</td>\n",
       "      <td>0.020493</td>\n",
       "      <td>0.013374</td>\n",
       "      <td>0.015717</td>\n",
       "      <td>0.931152</td>\n",
       "      <td>0.015366</td>\n",
       "      <td>0.018616</td>\n",
       "      <td>0.014503</td>\n",
       "      <td>0.015366</td>\n",
       "      <td>0.011505</td>\n",
       "      <td>0.014114</td>\n",
       "      <td>0.005363</td>\n",
       "      <td>0.015366</td>\n",
       "      <td>0.009483</td>\n",
       "    </tr>\n",
       "  </tbody>\n",
       "</table>\n",
       "</div>"
      ],
      "text/plain": [
       "         SDG_1     SDG_2     SDG_3     SDG_4     SDG_5     SDG_6     SDG_7  \\\n",
       "1319  0.034882  0.013741  0.013794  0.013374  0.021362  0.004330  0.012573   \n",
       "1320  0.008545  0.008186  0.006462  0.005775  0.105774  0.006931  0.004906   \n",
       "1321  0.006512  0.008217  0.011032  0.005260  0.125977  0.008034  0.006145   \n",
       "1322  0.020767  0.012970  0.014839  0.011826  0.018768  0.004646  0.013847   \n",
       "1323  0.015305  0.011871  0.013847  0.022629  0.020493  0.013374  0.015717   \n",
       "\n",
       "         SDG_8     SDG_9    SDG_10    SDG_11    SDG_12    SDG_13    SDG_14  \\\n",
       "1319  0.022720  0.010094  0.909668  0.009300  0.008186  0.005199  0.005890   \n",
       "1320  0.012672  0.004086  0.006565  0.012337  0.005100  0.003088  0.014732   \n",
       "1321  0.005100  0.005981  0.023148  0.010452  0.002562  0.002768  0.002913   \n",
       "1322  0.028442  0.011070  0.920898  0.011505  0.010292  0.004848  0.006565   \n",
       "1323  0.931152  0.015366  0.018616  0.014503  0.015366  0.011505  0.014114   \n",
       "\n",
       "        SDG_15    SDG_16    SDG_17  \n",
       "1319  0.017380  0.011597  0.013687  \n",
       "1320  0.005600  0.002867  0.002270  \n",
       "1321  0.021942  0.006096  0.008316  \n",
       "1322  0.016464  0.011116  0.017044  \n",
       "1323  0.005363  0.015366  0.009483  "
      ]
     },
     "execution_count": 72,
     "metadata": {},
     "output_type": "execute_result"
    }
   ],
   "source": [
    "df_y_pred = pd.DataFrame(list_y_pred, columns =label_cols) \n",
    "df_y_pred.tail()"
   ]
  },
  {
   "cell_type": "code",
   "execution_count": 73,
   "metadata": {},
   "outputs": [
    {
     "data": {
      "text/html": [
       "<div>\n",
       "<style scoped>\n",
       "    .dataframe tbody tr th:only-of-type {\n",
       "        vertical-align: middle;\n",
       "    }\n",
       "\n",
       "    .dataframe tbody tr th {\n",
       "        vertical-align: top;\n",
       "    }\n",
       "\n",
       "    .dataframe thead th {\n",
       "        text-align: right;\n",
       "    }\n",
       "</style>\n",
       "<table border=\"1\" class=\"dataframe\">\n",
       "  <thead>\n",
       "    <tr style=\"text-align: right;\">\n",
       "      <th></th>\n",
       "      <th>SDG_1</th>\n",
       "      <th>SDG_2</th>\n",
       "      <th>SDG_3</th>\n",
       "      <th>SDG_4</th>\n",
       "      <th>SDG_5</th>\n",
       "      <th>SDG_6</th>\n",
       "      <th>SDG_7</th>\n",
       "      <th>SDG_8</th>\n",
       "      <th>SDG_9</th>\n",
       "      <th>SDG_10</th>\n",
       "      <th>SDG_11</th>\n",
       "      <th>SDG_12</th>\n",
       "      <th>SDG_13</th>\n",
       "      <th>SDG_14</th>\n",
       "      <th>SDG_15</th>\n",
       "      <th>SDG_16</th>\n",
       "      <th>SDG_17</th>\n",
       "    </tr>\n",
       "  </thead>\n",
       "  <tbody>\n",
       "    <tr>\n",
       "      <th>count</th>\n",
       "      <td>1324.000000</td>\n",
       "      <td>1324.000000</td>\n",
       "      <td>1324.000000</td>\n",
       "      <td>1324.000000</td>\n",
       "      <td>1324.000000</td>\n",
       "      <td>1324.000000</td>\n",
       "      <td>1324.000000</td>\n",
       "      <td>1324.000000</td>\n",
       "      <td>1324.000000</td>\n",
       "      <td>1324.000000</td>\n",
       "      <td>1324.000000</td>\n",
       "      <td>1324.000000</td>\n",
       "      <td>1324.000000</td>\n",
       "      <td>1324.000000</td>\n",
       "      <td>1324.000000</td>\n",
       "      <td>1324.000000</td>\n",
       "      <td>1324.000000</td>\n",
       "    </tr>\n",
       "    <tr>\n",
       "      <th>mean</th>\n",
       "      <td>0.041348</td>\n",
       "      <td>0.040870</td>\n",
       "      <td>0.040181</td>\n",
       "      <td>0.048196</td>\n",
       "      <td>0.074667</td>\n",
       "      <td>0.046874</td>\n",
       "      <td>0.031417</td>\n",
       "      <td>0.041480</td>\n",
       "      <td>0.033420</td>\n",
       "      <td>0.046879</td>\n",
       "      <td>0.042557</td>\n",
       "      <td>0.026809</td>\n",
       "      <td>0.029106</td>\n",
       "      <td>0.044277</td>\n",
       "      <td>0.039250</td>\n",
       "      <td>0.057630</td>\n",
       "      <td>0.043438</td>\n",
       "    </tr>\n",
       "    <tr>\n",
       "      <th>std</th>\n",
       "      <td>0.141162</td>\n",
       "      <td>0.151159</td>\n",
       "      <td>0.149501</td>\n",
       "      <td>0.164723</td>\n",
       "      <td>0.180357</td>\n",
       "      <td>0.163225</td>\n",
       "      <td>0.136335</td>\n",
       "      <td>0.155303</td>\n",
       "      <td>0.144525</td>\n",
       "      <td>0.167538</td>\n",
       "      <td>0.157359</td>\n",
       "      <td>0.123405</td>\n",
       "      <td>0.130036</td>\n",
       "      <td>0.167679</td>\n",
       "      <td>0.154273</td>\n",
       "      <td>0.188793</td>\n",
       "      <td>0.158187</td>\n",
       "    </tr>\n",
       "    <tr>\n",
       "      <th>min</th>\n",
       "      <td>0.001875</td>\n",
       "      <td>0.002287</td>\n",
       "      <td>0.002028</td>\n",
       "      <td>0.002253</td>\n",
       "      <td>0.003210</td>\n",
       "      <td>0.001687</td>\n",
       "      <td>0.001604</td>\n",
       "      <td>0.001839</td>\n",
       "      <td>0.001416</td>\n",
       "      <td>0.002306</td>\n",
       "      <td>0.002125</td>\n",
       "      <td>0.001305</td>\n",
       "      <td>0.000897</td>\n",
       "      <td>0.001972</td>\n",
       "      <td>0.001889</td>\n",
       "      <td>0.001796</td>\n",
       "      <td>0.001755</td>\n",
       "    </tr>\n",
       "    <tr>\n",
       "      <th>25%</th>\n",
       "      <td>0.007965</td>\n",
       "      <td>0.008636</td>\n",
       "      <td>0.007175</td>\n",
       "      <td>0.008703</td>\n",
       "      <td>0.010359</td>\n",
       "      <td>0.007904</td>\n",
       "      <td>0.006145</td>\n",
       "      <td>0.006668</td>\n",
       "      <td>0.004593</td>\n",
       "      <td>0.006685</td>\n",
       "      <td>0.006824</td>\n",
       "      <td>0.004555</td>\n",
       "      <td>0.004714</td>\n",
       "      <td>0.006931</td>\n",
       "      <td>0.007038</td>\n",
       "      <td>0.006685</td>\n",
       "      <td>0.007629</td>\n",
       "    </tr>\n",
       "    <tr>\n",
       "      <th>50%</th>\n",
       "      <td>0.011467</td>\n",
       "      <td>0.011200</td>\n",
       "      <td>0.010132</td>\n",
       "      <td>0.011642</td>\n",
       "      <td>0.015076</td>\n",
       "      <td>0.010967</td>\n",
       "      <td>0.009163</td>\n",
       "      <td>0.010548</td>\n",
       "      <td>0.008495</td>\n",
       "      <td>0.010349</td>\n",
       "      <td>0.010471</td>\n",
       "      <td>0.008034</td>\n",
       "      <td>0.007874</td>\n",
       "      <td>0.009560</td>\n",
       "      <td>0.010349</td>\n",
       "      <td>0.010406</td>\n",
       "      <td>0.010632</td>\n",
       "    </tr>\n",
       "    <tr>\n",
       "      <th>75%</th>\n",
       "      <td>0.017578</td>\n",
       "      <td>0.015682</td>\n",
       "      <td>0.013588</td>\n",
       "      <td>0.015015</td>\n",
       "      <td>0.036369</td>\n",
       "      <td>0.015320</td>\n",
       "      <td>0.012482</td>\n",
       "      <td>0.015602</td>\n",
       "      <td>0.011837</td>\n",
       "      <td>0.014389</td>\n",
       "      <td>0.014389</td>\n",
       "      <td>0.011974</td>\n",
       "      <td>0.010857</td>\n",
       "      <td>0.012383</td>\n",
       "      <td>0.013428</td>\n",
       "      <td>0.013481</td>\n",
       "      <td>0.015488</td>\n",
       "    </tr>\n",
       "    <tr>\n",
       "      <th>max</th>\n",
       "      <td>0.938477</td>\n",
       "      <td>0.946777</td>\n",
       "      <td>0.942871</td>\n",
       "      <td>0.936523</td>\n",
       "      <td>0.940918</td>\n",
       "      <td>0.937012</td>\n",
       "      <td>0.949219</td>\n",
       "      <td>0.933105</td>\n",
       "      <td>0.947754</td>\n",
       "      <td>0.931152</td>\n",
       "      <td>0.946289</td>\n",
       "      <td>0.938965</td>\n",
       "      <td>0.936523</td>\n",
       "      <td>0.945801</td>\n",
       "      <td>0.953613</td>\n",
       "      <td>0.951172</td>\n",
       "      <td>0.949707</td>\n",
       "    </tr>\n",
       "  </tbody>\n",
       "</table>\n",
       "</div>"
      ],
      "text/plain": [
       "             SDG_1        SDG_2        SDG_3        SDG_4        SDG_5  \\\n",
       "count  1324.000000  1324.000000  1324.000000  1324.000000  1324.000000   \n",
       "mean   0.041348     0.040870     0.040181     0.048196     0.074667      \n",
       "std    0.141162     0.151159     0.149501     0.164723     0.180357      \n",
       "min    0.001875     0.002287     0.002028     0.002253     0.003210      \n",
       "25%    0.007965     0.008636     0.007175     0.008703     0.010359      \n",
       "50%    0.011467     0.011200     0.010132     0.011642     0.015076      \n",
       "75%    0.017578     0.015682     0.013588     0.015015     0.036369      \n",
       "max    0.938477     0.946777     0.942871     0.936523     0.940918      \n",
       "\n",
       "             SDG_6        SDG_7        SDG_8        SDG_9       SDG_10  \\\n",
       "count  1324.000000  1324.000000  1324.000000  1324.000000  1324.000000   \n",
       "mean   0.046874     0.031417     0.041480     0.033420     0.046879      \n",
       "std    0.163225     0.136335     0.155303     0.144525     0.167538      \n",
       "min    0.001687     0.001604     0.001839     0.001416     0.002306      \n",
       "25%    0.007904     0.006145     0.006668     0.004593     0.006685      \n",
       "50%    0.010967     0.009163     0.010548     0.008495     0.010349      \n",
       "75%    0.015320     0.012482     0.015602     0.011837     0.014389      \n",
       "max    0.937012     0.949219     0.933105     0.947754     0.931152      \n",
       "\n",
       "            SDG_11       SDG_12       SDG_13       SDG_14       SDG_15  \\\n",
       "count  1324.000000  1324.000000  1324.000000  1324.000000  1324.000000   \n",
       "mean   0.042557     0.026809     0.029106     0.044277     0.039250      \n",
       "std    0.157359     0.123405     0.130036     0.167679     0.154273      \n",
       "min    0.002125     0.001305     0.000897     0.001972     0.001889      \n",
       "25%    0.006824     0.004555     0.004714     0.006931     0.007038      \n",
       "50%    0.010471     0.008034     0.007874     0.009560     0.010349      \n",
       "75%    0.014389     0.011974     0.010857     0.012383     0.013428      \n",
       "max    0.946289     0.938965     0.936523     0.945801     0.953613      \n",
       "\n",
       "            SDG_16       SDG_17  \n",
       "count  1324.000000  1324.000000  \n",
       "mean   0.057630     0.043438     \n",
       "std    0.188793     0.158187     \n",
       "min    0.001796     0.001755     \n",
       "25%    0.006685     0.007629     \n",
       "50%    0.010406     0.010632     \n",
       "75%    0.013481     0.015488     \n",
       "max    0.951172     0.949707     "
      ]
     },
     "execution_count": 73,
     "metadata": {},
     "output_type": "execute_result"
    }
   ],
   "source": [
    "df_y_pred.describe()"
   ]
  },
  {
   "cell_type": "code",
   "execution_count": 74,
   "metadata": {},
   "outputs": [
    {
     "data": {
      "text/html": [
       "<div>\n",
       "<style scoped>\n",
       "    .dataframe tbody tr th:only-of-type {\n",
       "        vertical-align: middle;\n",
       "    }\n",
       "\n",
       "    .dataframe tbody tr th {\n",
       "        vertical-align: top;\n",
       "    }\n",
       "\n",
       "    .dataframe thead th {\n",
       "        text-align: right;\n",
       "    }\n",
       "</style>\n",
       "<table border=\"1\" class=\"dataframe\">\n",
       "  <thead>\n",
       "    <tr style=\"text-align: right;\">\n",
       "      <th></th>\n",
       "      <th>SDG_1</th>\n",
       "      <th>SDG_2</th>\n",
       "      <th>SDG_3</th>\n",
       "      <th>SDG_4</th>\n",
       "      <th>SDG_5</th>\n",
       "      <th>SDG_6</th>\n",
       "      <th>SDG_7</th>\n",
       "      <th>SDG_8</th>\n",
       "      <th>SDG_9</th>\n",
       "      <th>SDG_10</th>\n",
       "      <th>SDG_11</th>\n",
       "      <th>SDG_12</th>\n",
       "      <th>SDG_13</th>\n",
       "      <th>SDG_14</th>\n",
       "      <th>SDG_15</th>\n",
       "      <th>SDG_16</th>\n",
       "      <th>SDG_17</th>\n",
       "    </tr>\n",
       "  </thead>\n",
       "  <tbody>\n",
       "    <tr>\n",
       "      <th>1319</th>\n",
       "      <td>0.0</td>\n",
       "      <td>0.0</td>\n",
       "      <td>0.0</td>\n",
       "      <td>0.0</td>\n",
       "      <td>0.0</td>\n",
       "      <td>0.0</td>\n",
       "      <td>0.0</td>\n",
       "      <td>0.0</td>\n",
       "      <td>0.0</td>\n",
       "      <td>1.0</td>\n",
       "      <td>0.0</td>\n",
       "      <td>0.0</td>\n",
       "      <td>0.0</td>\n",
       "      <td>0.0</td>\n",
       "      <td>0.0</td>\n",
       "      <td>0.0</td>\n",
       "      <td>0.0</td>\n",
       "    </tr>\n",
       "    <tr>\n",
       "      <th>1320</th>\n",
       "      <td>0.0</td>\n",
       "      <td>0.0</td>\n",
       "      <td>0.0</td>\n",
       "      <td>0.0</td>\n",
       "      <td>0.0</td>\n",
       "      <td>0.0</td>\n",
       "      <td>0.0</td>\n",
       "      <td>0.0</td>\n",
       "      <td>0.0</td>\n",
       "      <td>0.0</td>\n",
       "      <td>0.0</td>\n",
       "      <td>0.0</td>\n",
       "      <td>0.0</td>\n",
       "      <td>0.0</td>\n",
       "      <td>0.0</td>\n",
       "      <td>0.0</td>\n",
       "      <td>0.0</td>\n",
       "    </tr>\n",
       "    <tr>\n",
       "      <th>1321</th>\n",
       "      <td>0.0</td>\n",
       "      <td>0.0</td>\n",
       "      <td>0.0</td>\n",
       "      <td>0.0</td>\n",
       "      <td>0.0</td>\n",
       "      <td>0.0</td>\n",
       "      <td>0.0</td>\n",
       "      <td>0.0</td>\n",
       "      <td>0.0</td>\n",
       "      <td>0.0</td>\n",
       "      <td>0.0</td>\n",
       "      <td>0.0</td>\n",
       "      <td>0.0</td>\n",
       "      <td>0.0</td>\n",
       "      <td>0.0</td>\n",
       "      <td>0.0</td>\n",
       "      <td>0.0</td>\n",
       "    </tr>\n",
       "    <tr>\n",
       "      <th>1322</th>\n",
       "      <td>0.0</td>\n",
       "      <td>0.0</td>\n",
       "      <td>0.0</td>\n",
       "      <td>0.0</td>\n",
       "      <td>0.0</td>\n",
       "      <td>0.0</td>\n",
       "      <td>1.0</td>\n",
       "      <td>0.0</td>\n",
       "      <td>0.0</td>\n",
       "      <td>1.0</td>\n",
       "      <td>0.0</td>\n",
       "      <td>0.0</td>\n",
       "      <td>0.0</td>\n",
       "      <td>0.0</td>\n",
       "      <td>0.0</td>\n",
       "      <td>0.0</td>\n",
       "      <td>0.0</td>\n",
       "    </tr>\n",
       "    <tr>\n",
       "      <th>1323</th>\n",
       "      <td>0.0</td>\n",
       "      <td>0.0</td>\n",
       "      <td>0.0</td>\n",
       "      <td>0.0</td>\n",
       "      <td>0.0</td>\n",
       "      <td>0.0</td>\n",
       "      <td>0.0</td>\n",
       "      <td>1.0</td>\n",
       "      <td>0.0</td>\n",
       "      <td>0.0</td>\n",
       "      <td>0.0</td>\n",
       "      <td>0.0</td>\n",
       "      <td>0.0</td>\n",
       "      <td>0.0</td>\n",
       "      <td>0.0</td>\n",
       "      <td>0.0</td>\n",
       "      <td>0.0</td>\n",
       "    </tr>\n",
       "  </tbody>\n",
       "</table>\n",
       "</div>"
      ],
      "text/plain": [
       "      SDG_1  SDG_2  SDG_3  SDG_4  SDG_5  SDG_6  SDG_7  SDG_8  SDG_9  SDG_10  \\\n",
       "1319  0.0    0.0    0.0    0.0    0.0    0.0    0.0    0.0    0.0    1.0      \n",
       "1320  0.0    0.0    0.0    0.0    0.0    0.0    0.0    0.0    0.0    0.0      \n",
       "1321  0.0    0.0    0.0    0.0    0.0    0.0    0.0    0.0    0.0    0.0      \n",
       "1322  0.0    0.0    0.0    0.0    0.0    0.0    1.0    0.0    0.0    1.0      \n",
       "1323  0.0    0.0    0.0    0.0    0.0    0.0    0.0    1.0    0.0    0.0      \n",
       "\n",
       "      SDG_11  SDG_12  SDG_13  SDG_14  SDG_15  SDG_16  SDG_17  \n",
       "1319  0.0     0.0     0.0     0.0     0.0     0.0     0.0     \n",
       "1320  0.0     0.0     0.0     0.0     0.0     0.0     0.0     \n",
       "1321  0.0     0.0     0.0     0.0     0.0     0.0     0.0     \n",
       "1322  0.0     0.0     0.0     0.0     0.0     0.0     0.0     \n",
       "1323  0.0     0.0     0.0     0.0     0.0     0.0     0.0     "
      ]
     },
     "execution_count": 74,
     "metadata": {},
     "output_type": "execute_result"
    }
   ],
   "source": [
    "df_y_real = pd.DataFrame(df_val, columns=label_cols)\n",
    "df_y_real.tail()"
   ]
  },
  {
   "cell_type": "code",
   "execution_count": 75,
   "metadata": {},
   "outputs": [
    {
     "data": {
      "text/html": [
       "<div>\n",
       "<style scoped>\n",
       "    .dataframe tbody tr th:only-of-type {\n",
       "        vertical-align: middle;\n",
       "    }\n",
       "\n",
       "    .dataframe tbody tr th {\n",
       "        vertical-align: top;\n",
       "    }\n",
       "\n",
       "    .dataframe thead th {\n",
       "        text-align: right;\n",
       "    }\n",
       "</style>\n",
       "<table border=\"1\" class=\"dataframe\">\n",
       "  <thead>\n",
       "    <tr style=\"text-align: right;\">\n",
       "      <th></th>\n",
       "      <th>SDG_1</th>\n",
       "      <th>SDG_2</th>\n",
       "      <th>SDG_3</th>\n",
       "      <th>SDG_4</th>\n",
       "      <th>SDG_5</th>\n",
       "      <th>SDG_6</th>\n",
       "      <th>SDG_7</th>\n",
       "      <th>SDG_8</th>\n",
       "      <th>SDG_9</th>\n",
       "      <th>SDG_10</th>\n",
       "      <th>SDG_11</th>\n",
       "      <th>SDG_12</th>\n",
       "      <th>SDG_13</th>\n",
       "      <th>SDG_14</th>\n",
       "      <th>SDG_15</th>\n",
       "      <th>SDG_16</th>\n",
       "      <th>SDG_17</th>\n",
       "    </tr>\n",
       "  </thead>\n",
       "  <tbody>\n",
       "    <tr>\n",
       "      <th>count</th>\n",
       "      <td>1324.000000</td>\n",
       "      <td>1324.000000</td>\n",
       "      <td>1324.000000</td>\n",
       "      <td>1324.000000</td>\n",
       "      <td>1324.000000</td>\n",
       "      <td>1324.000000</td>\n",
       "      <td>1324.000000</td>\n",
       "      <td>1324.000000</td>\n",
       "      <td>1324.000000</td>\n",
       "      <td>1324.000000</td>\n",
       "      <td>1324.000000</td>\n",
       "      <td>1324.000000</td>\n",
       "      <td>1324.000000</td>\n",
       "      <td>1324.000000</td>\n",
       "      <td>1324.000000</td>\n",
       "      <td>1324.000000</td>\n",
       "      <td>1324.000000</td>\n",
       "    </tr>\n",
       "    <tr>\n",
       "      <th>mean</th>\n",
       "      <td>0.041541</td>\n",
       "      <td>0.043051</td>\n",
       "      <td>0.046073</td>\n",
       "      <td>0.055891</td>\n",
       "      <td>0.052115</td>\n",
       "      <td>0.048338</td>\n",
       "      <td>0.042296</td>\n",
       "      <td>0.049849</td>\n",
       "      <td>0.058157</td>\n",
       "      <td>0.057402</td>\n",
       "      <td>0.041541</td>\n",
       "      <td>0.039275</td>\n",
       "      <td>0.055136</td>\n",
       "      <td>0.049849</td>\n",
       "      <td>0.037009</td>\n",
       "      <td>0.049094</td>\n",
       "      <td>0.052870</td>\n",
       "    </tr>\n",
       "    <tr>\n",
       "      <th>std</th>\n",
       "      <td>0.199613</td>\n",
       "      <td>0.203049</td>\n",
       "      <td>0.209721</td>\n",
       "      <td>0.229798</td>\n",
       "      <td>0.222343</td>\n",
       "      <td>0.214561</td>\n",
       "      <td>0.201340</td>\n",
       "      <td>0.217715</td>\n",
       "      <td>0.234129</td>\n",
       "      <td>0.232697</td>\n",
       "      <td>0.199613</td>\n",
       "      <td>0.194322</td>\n",
       "      <td>0.228332</td>\n",
       "      <td>0.217715</td>\n",
       "      <td>0.188855</td>\n",
       "      <td>0.216145</td>\n",
       "      <td>0.223859</td>\n",
       "    </tr>\n",
       "    <tr>\n",
       "      <th>min</th>\n",
       "      <td>0.000000</td>\n",
       "      <td>0.000000</td>\n",
       "      <td>0.000000</td>\n",
       "      <td>0.000000</td>\n",
       "      <td>0.000000</td>\n",
       "      <td>0.000000</td>\n",
       "      <td>0.000000</td>\n",
       "      <td>0.000000</td>\n",
       "      <td>0.000000</td>\n",
       "      <td>0.000000</td>\n",
       "      <td>0.000000</td>\n",
       "      <td>0.000000</td>\n",
       "      <td>0.000000</td>\n",
       "      <td>0.000000</td>\n",
       "      <td>0.000000</td>\n",
       "      <td>0.000000</td>\n",
       "      <td>0.000000</td>\n",
       "    </tr>\n",
       "    <tr>\n",
       "      <th>25%</th>\n",
       "      <td>0.000000</td>\n",
       "      <td>0.000000</td>\n",
       "      <td>0.000000</td>\n",
       "      <td>0.000000</td>\n",
       "      <td>0.000000</td>\n",
       "      <td>0.000000</td>\n",
       "      <td>0.000000</td>\n",
       "      <td>0.000000</td>\n",
       "      <td>0.000000</td>\n",
       "      <td>0.000000</td>\n",
       "      <td>0.000000</td>\n",
       "      <td>0.000000</td>\n",
       "      <td>0.000000</td>\n",
       "      <td>0.000000</td>\n",
       "      <td>0.000000</td>\n",
       "      <td>0.000000</td>\n",
       "      <td>0.000000</td>\n",
       "    </tr>\n",
       "    <tr>\n",
       "      <th>50%</th>\n",
       "      <td>0.000000</td>\n",
       "      <td>0.000000</td>\n",
       "      <td>0.000000</td>\n",
       "      <td>0.000000</td>\n",
       "      <td>0.000000</td>\n",
       "      <td>0.000000</td>\n",
       "      <td>0.000000</td>\n",
       "      <td>0.000000</td>\n",
       "      <td>0.000000</td>\n",
       "      <td>0.000000</td>\n",
       "      <td>0.000000</td>\n",
       "      <td>0.000000</td>\n",
       "      <td>0.000000</td>\n",
       "      <td>0.000000</td>\n",
       "      <td>0.000000</td>\n",
       "      <td>0.000000</td>\n",
       "      <td>0.000000</td>\n",
       "    </tr>\n",
       "    <tr>\n",
       "      <th>75%</th>\n",
       "      <td>0.000000</td>\n",
       "      <td>0.000000</td>\n",
       "      <td>0.000000</td>\n",
       "      <td>0.000000</td>\n",
       "      <td>0.000000</td>\n",
       "      <td>0.000000</td>\n",
       "      <td>0.000000</td>\n",
       "      <td>0.000000</td>\n",
       "      <td>0.000000</td>\n",
       "      <td>0.000000</td>\n",
       "      <td>0.000000</td>\n",
       "      <td>0.000000</td>\n",
       "      <td>0.000000</td>\n",
       "      <td>0.000000</td>\n",
       "      <td>0.000000</td>\n",
       "      <td>0.000000</td>\n",
       "      <td>0.000000</td>\n",
       "    </tr>\n",
       "    <tr>\n",
       "      <th>max</th>\n",
       "      <td>1.000000</td>\n",
       "      <td>1.000000</td>\n",
       "      <td>1.000000</td>\n",
       "      <td>1.000000</td>\n",
       "      <td>1.000000</td>\n",
       "      <td>1.000000</td>\n",
       "      <td>1.000000</td>\n",
       "      <td>1.000000</td>\n",
       "      <td>1.000000</td>\n",
       "      <td>1.000000</td>\n",
       "      <td>1.000000</td>\n",
       "      <td>1.000000</td>\n",
       "      <td>1.000000</td>\n",
       "      <td>1.000000</td>\n",
       "      <td>1.000000</td>\n",
       "      <td>1.000000</td>\n",
       "      <td>1.000000</td>\n",
       "    </tr>\n",
       "  </tbody>\n",
       "</table>\n",
       "</div>"
      ],
      "text/plain": [
       "             SDG_1        SDG_2        SDG_3        SDG_4        SDG_5  \\\n",
       "count  1324.000000  1324.000000  1324.000000  1324.000000  1324.000000   \n",
       "mean   0.041541     0.043051     0.046073     0.055891     0.052115      \n",
       "std    0.199613     0.203049     0.209721     0.229798     0.222343      \n",
       "min    0.000000     0.000000     0.000000     0.000000     0.000000      \n",
       "25%    0.000000     0.000000     0.000000     0.000000     0.000000      \n",
       "50%    0.000000     0.000000     0.000000     0.000000     0.000000      \n",
       "75%    0.000000     0.000000     0.000000     0.000000     0.000000      \n",
       "max    1.000000     1.000000     1.000000     1.000000     1.000000      \n",
       "\n",
       "             SDG_6        SDG_7        SDG_8        SDG_9       SDG_10  \\\n",
       "count  1324.000000  1324.000000  1324.000000  1324.000000  1324.000000   \n",
       "mean   0.048338     0.042296     0.049849     0.058157     0.057402      \n",
       "std    0.214561     0.201340     0.217715     0.234129     0.232697      \n",
       "min    0.000000     0.000000     0.000000     0.000000     0.000000      \n",
       "25%    0.000000     0.000000     0.000000     0.000000     0.000000      \n",
       "50%    0.000000     0.000000     0.000000     0.000000     0.000000      \n",
       "75%    0.000000     0.000000     0.000000     0.000000     0.000000      \n",
       "max    1.000000     1.000000     1.000000     1.000000     1.000000      \n",
       "\n",
       "            SDG_11       SDG_12       SDG_13       SDG_14       SDG_15  \\\n",
       "count  1324.000000  1324.000000  1324.000000  1324.000000  1324.000000   \n",
       "mean   0.041541     0.039275     0.055136     0.049849     0.037009      \n",
       "std    0.199613     0.194322     0.228332     0.217715     0.188855      \n",
       "min    0.000000     0.000000     0.000000     0.000000     0.000000      \n",
       "25%    0.000000     0.000000     0.000000     0.000000     0.000000      \n",
       "50%    0.000000     0.000000     0.000000     0.000000     0.000000      \n",
       "75%    0.000000     0.000000     0.000000     0.000000     0.000000      \n",
       "max    1.000000     1.000000     1.000000     1.000000     1.000000      \n",
       "\n",
       "            SDG_16       SDG_17  \n",
       "count  1324.000000  1324.000000  \n",
       "mean   0.049094     0.052870     \n",
       "std    0.216145     0.223859     \n",
       "min    0.000000     0.000000     \n",
       "25%    0.000000     0.000000     \n",
       "50%    0.000000     0.000000     \n",
       "75%    0.000000     0.000000     \n",
       "max    1.000000     1.000000     "
      ]
     },
     "execution_count": 75,
     "metadata": {},
     "output_type": "execute_result"
    }
   ],
   "source": [
    "df_y_real.describe()"
   ]
  },
  {
   "cell_type": "code",
   "execution_count": 76,
   "metadata": {},
   "outputs": [],
   "source": [
    "import numpy as np\n",
    "from sklearn.metrics import f1_score, recall_score, precision_score, accuracy_score"
   ]
  },
  {
   "cell_type": "code",
   "execution_count": 77,
   "metadata": {},
   "outputs": [
    {
     "data": {
      "text/plain": [
       "array([0.96969697, 0.97297297, 0.8       , 0.93617021, 0.68253968,\n",
       "       1.        , 0.93548387, 0.97619048, 1.        , 0.96078431,\n",
       "       0.95121951, 1.        , 1.        , 0.95918367, 1.        ,\n",
       "       0.75409836, 0.97727273])"
      ]
     },
     "execution_count": 77,
     "metadata": {},
     "output_type": "execute_result"
    }
   ],
   "source": [
    "precision_score(y_true=df_y_real.values, y_pred=df_y_pred.values > 0.5,average=None) #If None, the scores for each class are returned"
   ]
  },
  {
   "cell_type": "code",
   "execution_count": 78,
   "metadata": {},
   "outputs": [
    {
     "data": {
      "text/plain": [
       "0.9325793388479622"
      ]
     },
     "execution_count": 78,
     "metadata": {},
     "output_type": "execute_result"
    }
   ],
   "source": [
    "precision_score(y_true=df_y_real.values, y_pred=df_y_pred.values > 0.5, average='weighted')"
   ]
  },
  {
   "cell_type": "code",
   "execution_count": 79,
   "metadata": {},
   "outputs": [
    {
     "data": {
      "text/plain": [
       "array([0.58181818, 0.63157895, 0.52459016, 0.59459459, 0.62318841,\n",
       "       0.703125  , 0.51785714, 0.62121212, 0.46753247, 0.64473684,\n",
       "       0.70909091, 0.48076923, 0.36986301, 0.71212121, 0.81632653,\n",
       "       0.70769231, 0.61428571])"
      ]
     },
     "execution_count": 79,
     "metadata": {},
     "output_type": "execute_result"
    }
   ],
   "source": [
    "recall_score(y_true=df_y_real.values, y_pred=df_y_pred.values > 0.5,average=None)"
   ]
  },
  {
   "cell_type": "code",
   "execution_count": 80,
   "metadata": {},
   "outputs": [
    {
     "data": {
      "text/plain": [
       "0.6027649769585254"
      ]
     },
     "execution_count": 80,
     "metadata": {},
     "output_type": "execute_result"
    }
   ],
   "source": [
    "recall_score(y_true=df_y_real.values, y_pred=df_y_pred.values > 0.5,average='weighted')"
   ]
  },
  {
   "cell_type": "code",
   "execution_count": 81,
   "metadata": {},
   "outputs": [
    {
     "data": {
      "text/plain": [
       "array([0.72727273, 0.76595745, 0.63366337, 0.72727273, 0.65151515,\n",
       "       0.82568807, 0.66666667, 0.75925926, 0.63716814, 0.77165354,\n",
       "       0.8125    , 0.64935065, 0.54      , 0.8173913 , 0.8988764 ,\n",
       "       0.73015873, 0.75438596])"
      ]
     },
     "execution_count": 81,
     "metadata": {},
     "output_type": "execute_result"
    }
   ],
   "source": [
    "f1_score(y_true=df_y_real.values, y_pred=df_y_pred.values > 0.5,average=None)"
   ]
  },
  {
   "cell_type": "code",
   "execution_count": 82,
   "metadata": {},
   "outputs": [
    {
     "data": {
      "text/plain": [
       "0.723701108848502"
      ]
     },
     "execution_count": 82,
     "metadata": {},
     "output_type": "execute_result"
    }
   ],
   "source": [
    "f1_score(y_true=df_y_real.values, y_pred=df_y_pred.values > 0.5,average='weighted')"
   ]
  },
  {
   "cell_type": "code",
   "execution_count": 83,
   "metadata": {},
   "outputs": [
    {
     "data": {
      "text/plain": [
       "0.7469788519637462"
      ]
     },
     "execution_count": 83,
     "metadata": {},
     "output_type": "execute_result"
    }
   ],
   "source": [
    "accuracy_score(y_true=df_y_real.values, y_pred=df_y_pred.values > 0.5)"
   ]
  },
  {
   "cell_type": "code",
   "execution_count": 84,
   "metadata": {},
   "outputs": [
    {
     "data": {
      "text/plain": [
       "array([0.70071761, 0.78244945, 0.72916779, 0.76902079, 0.67083206,\n",
       "       0.81550821, 0.71101371, 0.76042274, 0.76266618, 0.83210825,\n",
       "       0.7703695 , 0.73808577, 0.66425381, 0.88129008, 0.92978491,\n",
       "       0.77940897, 0.78818134])"
      ]
     },
     "execution_count": 84,
     "metadata": {},
     "output_type": "execute_result"
    }
   ],
   "source": [
    "from sklearn.metrics import average_precision_score\n",
    "average_precision_score(df_y_real.values, df_y_pred.values, average=None)"
   ]
  },
  {
   "cell_type": "code",
   "execution_count": 85,
   "metadata": {},
   "outputs": [
    {
     "data": {
      "text/plain": [
       "0.7684573115494999"
      ]
     },
     "execution_count": 85,
     "metadata": {},
     "output_type": "execute_result"
    }
   ],
   "source": [
    "from sklearn.metrics import average_precision_score\n",
    "average_precision_score(df_y_real.values, df_y_pred.values, average='weighted')"
   ]
  },
  {
   "cell_type": "code",
   "execution_count": 87,
   "metadata": {},
   "outputs": [],
   "source": [
    "df_results = pd.concat([df_val, df_y_pred > 0.5], axis=1, ignore_index=True)"
   ]
  },
  {
   "cell_type": "code",
   "execution_count": 88,
   "metadata": {},
   "outputs": [],
   "source": [
    "df_results.to_csv('predictions_2801_2021.csv')"
   ]
  },
  {
   "cell_type": "code",
   "execution_count": null,
   "metadata": {},
   "outputs": [],
   "source": []
  }
 ],
 "metadata": {
  "kernelspec": {
   "display_name": "fast_cmb_kernel",
   "language": "python",
   "name": "fast_cmb_kernel"
  },
  "language_info": {
   "codemirror_mode": {
    "name": "ipython",
    "version": 3
   },
   "file_extension": ".py",
   "mimetype": "text/x-python",
   "name": "python",
   "nbconvert_exporter": "python",
   "pygments_lexer": "ipython3",
   "version": "3.7.9"
  }
 },
 "nbformat": 4,
 "nbformat_minor": 4
}
